{
 "cells": [
  {
   "cell_type": "code",
   "execution_count": 12,
   "id": "dc55548f",
   "metadata": {},
   "outputs": [],
   "source": [
    "# Get the repository root\n",
    "import sys\n",
    "from pathlib import Path\n",
    "repo_root = Path(__file__).parent.parent.parent if '__file__' in globals() else Path.cwd().parent.parent\n",
    "sys.path.insert(0, str(repo_root))\n",
    "\n",
    "# import necessary libraries\n",
    "import os\n",
    "import numpy as np\n",
    "import pandas as pd\n",
    "import matplotlib.pyplot as plt\n",
    "import seaborn as sns\n",
    "from sklearn.decomposition import PCA\n",
    "from sklearn.manifold import TSNE, trustworthiness\n",
    "import Template\n",
    "from sklearn.neighbors import KNeighborsClassifier\n",
    "from sklearn.metrics import classification_report, confusion_matrix, accuracy_score, ConfusionMatrixDisplay, precision_score, recall_score, f1_score\n",
    "from sklearn.model_selection import train_test_split, GridSearchCV\n",
    "from sklearn.pipeline import Pipeline\n",
    "from sklearn.svm import SVC\n",
    "from tensorflow import keras\n",
    "from keras import layers\n",
    "from sklearn.preprocessing import LabelEncoder\n",
    "from sklearn.linear_model import LogisticRegression\n",
    "from sklearn.ensemble import BaggingClassifier\n",
    "from sklearn.tree import DecisionTreeClassifier\n",
    "\n",
    "Template = Template.Template()"
   ]
  },
  {
   "cell_type": "code",
   "execution_count": 13,
   "id": "181fc6bf",
   "metadata": {},
   "outputs": [
    {
     "name": "stdout",
     "output_type": "stream",
     "text": [
      "Tratamiento\n",
      "E_Hidrico     120\n",
      "Fusarium      120\n",
      "Ral_EH        120\n",
      "Ral_Fus       120\n",
      "Fus_EH_Ral    120\n",
      "Control       118\n",
      "Ralstonia     117\n",
      "Fus_EH         90\n",
      "Name: count, dtype: int64\n"
     ]
    }
   ],
   "source": [
    "\n",
    "\n",
    "# Build the path to the Excel file in the repository root\n",
    "data_path = os.path.join(os.path.dirname(os.getcwd()), '..', 'Datos1_InteraccionesNIR.xlsx')\n",
    "\n",
    "# Or more explicitly, go up 2 levels to repository root\n",
    "data_path = os.path.abspath(os.path.join(os.getcwd(), '..', '..', 'Datos1_InteraccionesNIR.xlsx'))\n",
    "\n",
    "\n",
    "# import the data from all sheets of the Excel file\n",
    "\n",
    "df0 = pd.read_excel(data_path, sheet_name=0)\n",
    "df1 = pd.read_excel(data_path, sheet_name=1)\n",
    "df2 = pd.read_excel(data_path, sheet_name=2)\n",
    "df3 = pd.read_excel(data_path, sheet_name=3)\n",
    "\n",
    "\n",
    "df0_NotFEH0 = df0[df0['Tratamiento'] != 'Fus_EH']\n",
    "\n",
    "df_NotFEH0 = pd.concat([df0_NotFEH0, df1, df2, df3], ignore_index=True)\n",
    "\n",
    "print(df_NotFEH0['Tratamiento'].value_counts())\n"
   ]
  },
  {
   "cell_type": "code",
   "execution_count": 14,
   "id": "7510b9b9",
   "metadata": {},
   "outputs": [
    {
     "name": "stdout",
     "output_type": "stream",
     "text": [
      "Tratamiento\n",
      "Control       30\n",
      "Fusarium      30\n",
      "E_Hidrico     30\n",
      "Ral_Fus       30\n",
      "Fus_EH        30\n",
      "Ral_EH        30\n",
      "Fus_EH_Ral    30\n",
      "Ralstonia     29\n",
      "Name: count, dtype: int64\n"
     ]
    }
   ],
   "source": [
    "print(df0['Tratamiento'].value_counts())"
   ]
  },
  {
   "cell_type": "code",
   "execution_count": 15,
   "id": "531864d4",
   "metadata": {},
   "outputs": [
    {
     "name": "stdout",
     "output_type": "stream",
     "text": [
      "Tratamiento\n",
      "Control       30\n",
      "Fusarium      30\n",
      "E_Hidrico     30\n",
      "Ral_Fus       30\n",
      "Fus_EH        30\n",
      "Ral_EH        30\n",
      "Fus_EH_Ral    30\n",
      "Ralstonia     29\n",
      "Name: count, dtype: int64\n"
     ]
    }
   ],
   "source": [
    "print(df1['Tratamiento'].value_counts())"
   ]
  },
  {
   "cell_type": "code",
   "execution_count": 16,
   "id": "67cf1810",
   "metadata": {},
   "outputs": [
    {
     "name": "stdout",
     "output_type": "stream",
     "text": [
      "Tratamiento\n",
      "E_Hidrico     30\n",
      "Fusarium      30\n",
      "Ral_EH        30\n",
      "Ral_Fus       30\n",
      "Fus_EH        30\n",
      "Fus_EH_Ral    30\n",
      "Ralstonia     29\n",
      "Control       28\n",
      "Name: count, dtype: int64\n"
     ]
    }
   ],
   "source": [
    "print(df2['Tratamiento'].value_counts())"
   ]
  },
  {
   "cell_type": "code",
   "execution_count": 17,
   "id": "b220b87b",
   "metadata": {},
   "outputs": [
    {
     "name": "stdout",
     "output_type": "stream",
     "text": [
      "Tratamiento\n",
      "Control       30\n",
      "Ralstonia     30\n",
      "Fusarium      30\n",
      "E_Hidrico     30\n",
      "Ral_Fus       30\n",
      "Ral_EH        30\n",
      "Fus_EH        30\n",
      "Fus_EH_Ral    30\n",
      "Name: count, dtype: int64\n"
     ]
    }
   ],
   "source": [
    "print(df3['Tratamiento'].value_counts())"
   ]
  },
  {
   "cell_type": "markdown",
   "id": "b3d734e9",
   "metadata": {},
   "source": [
    "## Classification of Healthy plants vs Unhealthy plants"
   ]
  },
  {
   "cell_type": "markdown",
   "id": "33eb162f",
   "metadata": {},
   "source": [
    "#### Data processing for classification"
   ]
  },
  {
   "cell_type": "code",
   "execution_count": 18,
   "id": "bdb78ab7",
   "metadata": {},
   "outputs": [
    {
     "data": {
      "text/html": [
       "<div>\n",
       "<style scoped>\n",
       "    .dataframe tbody tr th:only-of-type {\n",
       "        vertical-align: middle;\n",
       "    }\n",
       "\n",
       "    .dataframe tbody tr th {\n",
       "        vertical-align: top;\n",
       "    }\n",
       "\n",
       "    .dataframe thead th {\n",
       "        text-align: right;\n",
       "    }\n",
       "</style>\n",
       "<table border=\"1\" class=\"dataframe\">\n",
       "  <thead>\n",
       "    <tr style=\"text-align: right;\">\n",
       "      <th></th>\n",
       "      <th>Tratamiento</th>\n",
       "      <th>Planta</th>\n",
       "      <th>350</th>\n",
       "      <th>351</th>\n",
       "      <th>352</th>\n",
       "      <th>353</th>\n",
       "      <th>354</th>\n",
       "      <th>355</th>\n",
       "      <th>356</th>\n",
       "      <th>357</th>\n",
       "      <th>...</th>\n",
       "      <th>2492</th>\n",
       "      <th>2493</th>\n",
       "      <th>2494</th>\n",
       "      <th>2495</th>\n",
       "      <th>2496</th>\n",
       "      <th>2497</th>\n",
       "      <th>2498</th>\n",
       "      <th>2499</th>\n",
       "      <th>2500</th>\n",
       "      <th>Health_Status</th>\n",
       "    </tr>\n",
       "  </thead>\n",
       "  <tbody>\n",
       "    <tr>\n",
       "      <th>0</th>\n",
       "      <td>Control</td>\n",
       "      <td>1</td>\n",
       "      <td>0.061030</td>\n",
       "      <td>0.060394</td>\n",
       "      <td>0.053344</td>\n",
       "      <td>0.054736</td>\n",
       "      <td>0.057163</td>\n",
       "      <td>0.055928</td>\n",
       "      <td>0.049880</td>\n",
       "      <td>0.043096</td>\n",
       "      <td>...</td>\n",
       "      <td>0.044834</td>\n",
       "      <td>0.044802</td>\n",
       "      <td>0.044657</td>\n",
       "      <td>0.044370</td>\n",
       "      <td>0.044198</td>\n",
       "      <td>0.044046</td>\n",
       "      <td>0.043928</td>\n",
       "      <td>0.043878</td>\n",
       "      <td>0.043752</td>\n",
       "      <td>Healthy</td>\n",
       "    </tr>\n",
       "    <tr>\n",
       "      <th>1</th>\n",
       "      <td>Control</td>\n",
       "      <td>2</td>\n",
       "      <td>0.060823</td>\n",
       "      <td>0.060909</td>\n",
       "      <td>0.056016</td>\n",
       "      <td>0.056755</td>\n",
       "      <td>0.057975</td>\n",
       "      <td>0.056499</td>\n",
       "      <td>0.051715</td>\n",
       "      <td>0.047413</td>\n",
       "      <td>...</td>\n",
       "      <td>0.037458</td>\n",
       "      <td>0.037266</td>\n",
       "      <td>0.037120</td>\n",
       "      <td>0.036929</td>\n",
       "      <td>0.036832</td>\n",
       "      <td>0.036861</td>\n",
       "      <td>0.036779</td>\n",
       "      <td>0.036661</td>\n",
       "      <td>0.036570</td>\n",
       "      <td>Healthy</td>\n",
       "    </tr>\n",
       "    <tr>\n",
       "      <th>2</th>\n",
       "      <td>Control</td>\n",
       "      <td>3</td>\n",
       "      <td>0.059742</td>\n",
       "      <td>0.060113</td>\n",
       "      <td>0.057320</td>\n",
       "      <td>0.059280</td>\n",
       "      <td>0.059741</td>\n",
       "      <td>0.057078</td>\n",
       "      <td>0.053557</td>\n",
       "      <td>0.049205</td>\n",
       "      <td>...</td>\n",
       "      <td>0.036049</td>\n",
       "      <td>0.035732</td>\n",
       "      <td>0.035558</td>\n",
       "      <td>0.035431</td>\n",
       "      <td>0.035338</td>\n",
       "      <td>0.035368</td>\n",
       "      <td>0.035286</td>\n",
       "      <td>0.035157</td>\n",
       "      <td>0.035058</td>\n",
       "      <td>Healthy</td>\n",
       "    </tr>\n",
       "    <tr>\n",
       "      <th>3</th>\n",
       "      <td>Control</td>\n",
       "      <td>4</td>\n",
       "      <td>0.048861</td>\n",
       "      <td>0.047099</td>\n",
       "      <td>0.044486</td>\n",
       "      <td>0.049340</td>\n",
       "      <td>0.052701</td>\n",
       "      <td>0.050598</td>\n",
       "      <td>0.044007</td>\n",
       "      <td>0.038449</td>\n",
       "      <td>...</td>\n",
       "      <td>0.033762</td>\n",
       "      <td>0.033693</td>\n",
       "      <td>0.033536</td>\n",
       "      <td>0.033412</td>\n",
       "      <td>0.033204</td>\n",
       "      <td>0.032831</td>\n",
       "      <td>0.032637</td>\n",
       "      <td>0.032501</td>\n",
       "      <td>0.032376</td>\n",
       "      <td>Healthy</td>\n",
       "    </tr>\n",
       "    <tr>\n",
       "      <th>4</th>\n",
       "      <td>Control</td>\n",
       "      <td>5</td>\n",
       "      <td>0.063155</td>\n",
       "      <td>0.060788</td>\n",
       "      <td>0.057388</td>\n",
       "      <td>0.058424</td>\n",
       "      <td>0.060128</td>\n",
       "      <td>0.059009</td>\n",
       "      <td>0.053017</td>\n",
       "      <td>0.048921</td>\n",
       "      <td>...</td>\n",
       "      <td>0.033729</td>\n",
       "      <td>0.033675</td>\n",
       "      <td>0.033571</td>\n",
       "      <td>0.033515</td>\n",
       "      <td>0.033441</td>\n",
       "      <td>0.033317</td>\n",
       "      <td>0.033257</td>\n",
       "      <td>0.033285</td>\n",
       "      <td>0.033205</td>\n",
       "      <td>Healthy</td>\n",
       "    </tr>\n",
       "  </tbody>\n",
       "</table>\n",
       "<p>5 rows × 2154 columns</p>\n",
       "</div>"
      ],
      "text/plain": [
       "  Tratamiento  Planta       350       351       352       353       354  \\\n",
       "0     Control       1  0.061030  0.060394  0.053344  0.054736  0.057163   \n",
       "1     Control       2  0.060823  0.060909  0.056016  0.056755  0.057975   \n",
       "2     Control       3  0.059742  0.060113  0.057320  0.059280  0.059741   \n",
       "3     Control       4  0.048861  0.047099  0.044486  0.049340  0.052701   \n",
       "4     Control       5  0.063155  0.060788  0.057388  0.058424  0.060128   \n",
       "\n",
       "        355       356       357  ...      2492      2493      2494      2495  \\\n",
       "0  0.055928  0.049880  0.043096  ...  0.044834  0.044802  0.044657  0.044370   \n",
       "1  0.056499  0.051715  0.047413  ...  0.037458  0.037266  0.037120  0.036929   \n",
       "2  0.057078  0.053557  0.049205  ...  0.036049  0.035732  0.035558  0.035431   \n",
       "3  0.050598  0.044007  0.038449  ...  0.033762  0.033693  0.033536  0.033412   \n",
       "4  0.059009  0.053017  0.048921  ...  0.033729  0.033675  0.033571  0.033515   \n",
       "\n",
       "       2496      2497      2498      2499      2500  Health_Status  \n",
       "0  0.044198  0.044046  0.043928  0.043878  0.043752        Healthy  \n",
       "1  0.036832  0.036861  0.036779  0.036661  0.036570        Healthy  \n",
       "2  0.035338  0.035368  0.035286  0.035157  0.035058        Healthy  \n",
       "3  0.033204  0.032831  0.032637  0.032501  0.032376        Healthy  \n",
       "4  0.033441  0.033317  0.033257  0.033285  0.033205        Healthy  \n",
       "\n",
       "[5 rows x 2154 columns]"
      ]
     },
     "execution_count": 18,
     "metadata": {},
     "output_type": "execute_result"
    }
   ],
   "source": [
    "# Make a new column 'Health_Status' based on 'Tratamiento'\n",
    "df_HvsUnH = df_NotFEH0.copy()\n",
    "\n",
    "df_HvsUnH['Health_Status'] = df_HvsUnH['Tratamiento'].apply(lambda x: 'Healthy' if x == 'Control' else 'Unhealthy')\n",
    "\n",
    "df_HvsUnH.head()\n",
    "\n"
   ]
  },
  {
   "cell_type": "code",
   "execution_count": 19,
   "id": "43fc879f",
   "metadata": {},
   "outputs": [],
   "source": [
    "# data treatment\n",
    "\n",
    "# Data preparation for model production\n",
    "df_X = df_HvsUnH.drop(columns=['Health_Status'])\n",
    "\n",
    "X = df_X.iloc[:, 3:].values  \n",
    "\n",
    "y = df_HvsUnH['Health_Status'].values\n",
    "\n",
    "#split the data into training and testing sets\n",
    "X_train, X_test, y_train, y_test = train_test_split(X, y, test_size=0.1, random_state=42, stratify=y)"
   ]
  },
  {
   "cell_type": "markdown",
   "id": "5473947c",
   "metadata": {},
   "source": [
    "### Logistic Regression "
   ]
  },
  {
   "cell_type": "code",
   "execution_count": 20,
   "id": "18dae910",
   "metadata": {},
   "outputs": [
    {
     "name": "stdout",
     "output_type": "stream",
     "text": [
      "Best Model Accuracy: 1.0\n",
      "Best Model Classification Report:\n",
      "               precision    recall  f1-score   support\n",
      "\n",
      "     Healthy       1.00      1.00      1.00        12\n",
      "   Unhealthy       1.00      1.00      1.00        81\n",
      "\n",
      "    accuracy                           1.00        93\n",
      "   macro avg       1.00      1.00      1.00        93\n",
      "weighted avg       1.00      1.00      1.00        93\n",
      "\n"
     ]
    }
   ],
   "source": [
    "# Define a more comprehensive parameter grid for hyperparameter tuning\n",
    "param_grid = [\n",
    "    # L1 regularization options\n",
    "    {\n",
    "        'PCA__n_components': [5, 10, 15, 20, 30],\n",
    "        'model__penalty': ['l1'],\n",
    "        'model__C': [0.001, 0.01, 0.1, 1, 10, 100],\n",
    "        'model__solver': ['liblinear', 'saga'],\n",
    "        'model__class_weight': [None, 'balanced']\n",
    "    },\n",
    "    # L2 regularization options\n",
    "    {\n",
    "        'PCA__n_components': [5, 10, 15, 20, 30],\n",
    "        'model__penalty': ['l2'],\n",
    "        'model__C': [0.001, 0.01, 0.1, 1, 10, 100],\n",
    "        'model__solver': ['liblinear', 'saga', 'lbfgs'],\n",
    "        'model__class_weight': [None, 'balanced']\n",
    "    },\n",
    "    # Elasticnet option (saga only)\n",
    "    {\n",
    "        'PCA__n_components': [5, 10, 15, 20, 30],\n",
    "        'model__penalty': ['elasticnet'],\n",
    "        'model__C': [0.001, 0.01, 0.1, 1, 10, 100],\n",
    "        'model__solver': ['saga'],\n",
    "        'model__l1_ratio': [0.2, 0.5, 0.8],\n",
    "        'model__class_weight': [None, 'balanced']\n",
    "    }\n",
    "]\n",
    "\n",
    "# Create a pipeline\n",
    "pipeline = Pipeline([\n",
    "    ('PCA', PCA()),\n",
    "    ('model', LogisticRegression(max_iter=1000))\n",
    "])\n",
    "\n",
    "grid_search = GridSearchCV(pipeline, param_grid, cv=5, n_jobs=-1, scoring='accuracy')\n",
    "grid_search.fit(X_train, y_train)\n",
    "\n",
    "best_model = grid_search.best_estimator_\n",
    "# Make predictions with the best model\n",
    "y_pred_best = best_model.predict(X_test)\n",
    "# Evaluate the best model\n",
    "print(\"Best Model Accuracy:\", accuracy_score(y_test, y_pred_best))\n",
    "print(\"Best Model Classification Report:\\n\", classification_report(y_test, y_pred_best))\n",
    "\n"
   ]
  },
  {
   "cell_type": "code",
   "execution_count": 21,
   "id": "7e80d846",
   "metadata": {},
   "outputs": [
    {
     "name": "stdout",
     "output_type": "stream",
     "text": [
      "Best Parameters: {'PCA__n_components': 30, 'model__C': 100, 'model__class_weight': None, 'model__penalty': 'l1', 'model__solver': 'liblinear'}\n"
     ]
    }
   ],
   "source": [
    "# Parameter for the best model found\n",
    "best_params = grid_search.best_params_\n",
    "print(\"Best Parameters:\", best_params)"
   ]
  },
  {
   "cell_type": "code",
   "execution_count": 22,
   "id": "fe3393e4",
   "metadata": {},
   "outputs": [
    {
     "data": {
      "image/png": "[encoded data removed]",
      "text/plain": [
       "<Figure size 640x480 with 2 Axes>"
      ]
     },
     "metadata": {},
     "output_type": "display_data"
    }
   ],
   "source": [
    "cm = confusion_matrix(y_test, y_pred_best)\n",
    "disp = ConfusionMatrixDisplay(confusion_matrix=cm, display_labels=best_model.classes_)\n",
    "# Display the confusion matrix\n",
    "disp.plot(cmap='Blues')\n",
    "plt.title(f'Confusion Matrix - Logistic Regression with PCA - accuracy: {accuracy_score(y_test, y_pred_best):.4f}')\n",
    "plt.tight_layout()\n",
    "plt.show()"
   ]
  },
  {
   "cell_type": "markdown",
   "id": "f7e27d1c",
   "metadata": {},
   "source": [
    "### SVM"
   ]
  },
  {
   "cell_type": "code",
   "execution_count": 23,
   "id": "df1d3205",
   "metadata": {},
   "outputs": [
    {
     "name": "stdout",
     "output_type": "stream",
     "text": [
      "Fitting 5 folds for each of 4320 candidates, totalling 21600 fits\n"
     ]
    },
    {
     "name": "stdout",
     "output_type": "stream",
     "text": [
      "Best cross-validation score (Accuracy): 0.9545\n",
      "Best parameters found:\n",
      "{'pca__n_components': 40, 'svm__C': 100, 'svm__class_weight': 'balanced', 'svm__degree': 2, 'svm__gamma': 'scale', 'svm__kernel': 'rbf'}\n",
      "\n",
      "Accuracy on the test set: 0.9677\n"
     ]
    }
   ],
   "source": [
    "param_grid = {\n",
    "    'pca__n_components': [5, 10, 15, 20, 30, 40],\n",
    "    'svm__C': [0.01, 0.1, 1, 10, 100],\n",
    "    'svm__kernel': ['linear', 'rbf', 'poly', 'sigmoid'],\n",
    "    'svm__gamma': ['scale', 'auto', 0.001, 0.01, 0.1, 1],\n",
    "    'svm__degree': [2, 3, 4],\n",
    "    'svm__class_weight': ['balanced', None]\n",
    "}\n",
    "\n",
    "pipeline = Pipeline([    \n",
    "    ('pca', PCA()),                   \n",
    "    ('svm', SVC())  \n",
    "])\n",
    "\n",
    "grid_search = GridSearchCV(pipeline, param_grid, cv=5, n_jobs=-1, verbose=1, scoring='balanced_accuracy')\n",
    "\n",
    "grid_search.fit(X_train, y_train)\n",
    "\n",
    "print(f\"Best cross-validation score (Accuracy): {grid_search.best_score_:.4f}\")\n",
    "print(\"Best parameters found:\")\n",
    "print(grid_search.best_params_)\n",
    "\n",
    "best_model = grid_search.best_estimator_\n",
    "accuracy = best_model.score(X_test, y_test)\n",
    "print(f\"\\nAccuracy on the test set: {accuracy:.4f}\")\n",
    "\n",
    "y_pred_SVM = best_model.predict(X_test)"
   ]
  },
  {
   "cell_type": "code",
   "execution_count": 24,
   "id": "b93a4bd5",
   "metadata": {},
   "outputs": [
    {
     "data": {
      "image/png": "[encoded data removed]",
      "text/plain": [
       "<Figure size 640x480 with 2 Axes>"
      ]
     },
     "metadata": {},
     "output_type": "display_data"
    }
   ],
   "source": [
    "cm = confusion_matrix(y_test, y_pred_SVM)\n",
    "disp = ConfusionMatrixDisplay(confusion_matrix=cm, display_labels=best_model.classes_)\n",
    "# Display the confusion matrix\n",
    "disp.plot(cmap='Blues')\n",
    "plt.title(f'Confusion Matrix - SVM with PCA - accuracy: {accuracy_score(y_test, y_pred_SVM):.4f}')\n",
    "plt.tight_layout()\n",
    "plt.show()\n",
    "\n"
   ]
  },
  {
   "cell_type": "markdown",
   "id": "4c203203",
   "metadata": {},
   "source": [
    "## Classification of Unhealthy plants: Hidric Stress vs fungal diseases (includes combined fungal diseases)"
   ]
  },
  {
   "cell_type": "markdown",
   "id": "c094512b",
   "metadata": {},
   "source": [
    "### Data Processing"
   ]
  },
  {
   "cell_type": "code",
   "execution_count": 25,
   "id": "c5557a5d",
   "metadata": {},
   "outputs": [
    {
     "name": "stdout",
     "output_type": "stream",
     "text": [
      "Tratamiento\n",
      "Fungus_Combined    687\n",
      "Hidric_Stress      120\n",
      "Name: count, dtype: int64\n"
     ]
    },
    {
     "data": {
      "text/html": [
       "<div>\n",
       "<style scoped>\n",
       "    .dataframe tbody tr th:only-of-type {\n",
       "        vertical-align: middle;\n",
       "    }\n",
       "\n",
       "    .dataframe tbody tr th {\n",
       "        vertical-align: top;\n",
       "    }\n",
       "\n",
       "    .dataframe thead th {\n",
       "        text-align: right;\n",
       "    }\n",
       "</style>\n",
       "<table border=\"1\" class=\"dataframe\">\n",
       "  <thead>\n",
       "    <tr style=\"text-align: right;\">\n",
       "      <th></th>\n",
       "      <th>Tratamiento</th>\n",
       "      <th>Planta</th>\n",
       "      <th>350</th>\n",
       "      <th>351</th>\n",
       "      <th>352</th>\n",
       "      <th>353</th>\n",
       "      <th>354</th>\n",
       "      <th>355</th>\n",
       "      <th>356</th>\n",
       "      <th>357</th>\n",
       "      <th>...</th>\n",
       "      <th>2491</th>\n",
       "      <th>2492</th>\n",
       "      <th>2493</th>\n",
       "      <th>2494</th>\n",
       "      <th>2495</th>\n",
       "      <th>2496</th>\n",
       "      <th>2497</th>\n",
       "      <th>2498</th>\n",
       "      <th>2499</th>\n",
       "      <th>2500</th>\n",
       "    </tr>\n",
       "  </thead>\n",
       "  <tbody>\n",
       "    <tr>\n",
       "      <th>30</th>\n",
       "      <td>Fungus_Combined</td>\n",
       "      <td>1</td>\n",
       "      <td>0.043966</td>\n",
       "      <td>0.042302</td>\n",
       "      <td>0.035784</td>\n",
       "      <td>0.042035</td>\n",
       "      <td>0.047908</td>\n",
       "      <td>0.047581</td>\n",
       "      <td>0.042502</td>\n",
       "      <td>0.041224</td>\n",
       "      <td>...</td>\n",
       "      <td>0.051744</td>\n",
       "      <td>0.051592</td>\n",
       "      <td>0.051519</td>\n",
       "      <td>0.051325</td>\n",
       "      <td>0.051100</td>\n",
       "      <td>0.050865</td>\n",
       "      <td>0.050522</td>\n",
       "      <td>0.050303</td>\n",
       "      <td>0.050151</td>\n",
       "      <td>0.049952</td>\n",
       "    </tr>\n",
       "    <tr>\n",
       "      <th>31</th>\n",
       "      <td>Fungus_Combined</td>\n",
       "      <td>2</td>\n",
       "      <td>0.043057</td>\n",
       "      <td>0.047008</td>\n",
       "      <td>0.043908</td>\n",
       "      <td>0.046622</td>\n",
       "      <td>0.049739</td>\n",
       "      <td>0.049488</td>\n",
       "      <td>0.044699</td>\n",
       "      <td>0.041773</td>\n",
       "      <td>...</td>\n",
       "      <td>0.053498</td>\n",
       "      <td>0.053234</td>\n",
       "      <td>0.052906</td>\n",
       "      <td>0.052730</td>\n",
       "      <td>0.052635</td>\n",
       "      <td>0.052466</td>\n",
       "      <td>0.052368</td>\n",
       "      <td>0.052241</td>\n",
       "      <td>0.052018</td>\n",
       "      <td>0.051894</td>\n",
       "    </tr>\n",
       "    <tr>\n",
       "      <th>32</th>\n",
       "      <td>Fungus_Combined</td>\n",
       "      <td>3</td>\n",
       "      <td>0.039900</td>\n",
       "      <td>0.041321</td>\n",
       "      <td>0.039270</td>\n",
       "      <td>0.038593</td>\n",
       "      <td>0.041870</td>\n",
       "      <td>0.045424</td>\n",
       "      <td>0.042254</td>\n",
       "      <td>0.039002</td>\n",
       "      <td>...</td>\n",
       "      <td>0.044481</td>\n",
       "      <td>0.044358</td>\n",
       "      <td>0.044193</td>\n",
       "      <td>0.044045</td>\n",
       "      <td>0.043910</td>\n",
       "      <td>0.043728</td>\n",
       "      <td>0.043525</td>\n",
       "      <td>0.043334</td>\n",
       "      <td>0.043054</td>\n",
       "      <td>0.042945</td>\n",
       "    </tr>\n",
       "    <tr>\n",
       "      <th>33</th>\n",
       "      <td>Fungus_Combined</td>\n",
       "      <td>4</td>\n",
       "      <td>0.048389</td>\n",
       "      <td>0.047556</td>\n",
       "      <td>0.039902</td>\n",
       "      <td>0.046429</td>\n",
       "      <td>0.050939</td>\n",
       "      <td>0.049289</td>\n",
       "      <td>0.047334</td>\n",
       "      <td>0.045901</td>\n",
       "      <td>...</td>\n",
       "      <td>0.047230</td>\n",
       "      <td>0.047111</td>\n",
       "      <td>0.046947</td>\n",
       "      <td>0.046821</td>\n",
       "      <td>0.046744</td>\n",
       "      <td>0.046617</td>\n",
       "      <td>0.046484</td>\n",
       "      <td>0.046312</td>\n",
       "      <td>0.046046</td>\n",
       "      <td>0.045994</td>\n",
       "    </tr>\n",
       "    <tr>\n",
       "      <th>34</th>\n",
       "      <td>Fungus_Combined</td>\n",
       "      <td>5</td>\n",
       "      <td>0.040688</td>\n",
       "      <td>0.039143</td>\n",
       "      <td>0.037580</td>\n",
       "      <td>0.041288</td>\n",
       "      <td>0.044943</td>\n",
       "      <td>0.045260</td>\n",
       "      <td>0.041422</td>\n",
       "      <td>0.038105</td>\n",
       "      <td>...</td>\n",
       "      <td>0.042748</td>\n",
       "      <td>0.042579</td>\n",
       "      <td>0.042537</td>\n",
       "      <td>0.042408</td>\n",
       "      <td>0.042237</td>\n",
       "      <td>0.042098</td>\n",
       "      <td>0.041965</td>\n",
       "      <td>0.041814</td>\n",
       "      <td>0.041633</td>\n",
       "      <td>0.041526</td>\n",
       "    </tr>\n",
       "  </tbody>\n",
       "</table>\n",
       "<p>5 rows × 2153 columns</p>\n",
       "</div>"
      ],
      "text/plain": [
       "        Tratamiento  Planta       350       351       352       353       354  \\\n",
       "30  Fungus_Combined       1  0.043966  0.042302  0.035784  0.042035  0.047908   \n",
       "31  Fungus_Combined       2  0.043057  0.047008  0.043908  0.046622  0.049739   \n",
       "32  Fungus_Combined       3  0.039900  0.041321  0.039270  0.038593  0.041870   \n",
       "33  Fungus_Combined       4  0.048389  0.047556  0.039902  0.046429  0.050939   \n",
       "34  Fungus_Combined       5  0.040688  0.039143  0.037580  0.041288  0.044943   \n",
       "\n",
       "         355       356       357  ...      2491      2492      2493      2494  \\\n",
       "30  0.047581  0.042502  0.041224  ...  0.051744  0.051592  0.051519  0.051325   \n",
       "31  0.049488  0.044699  0.041773  ...  0.053498  0.053234  0.052906  0.052730   \n",
       "32  0.045424  0.042254  0.039002  ...  0.044481  0.044358  0.044193  0.044045   \n",
       "33  0.049289  0.047334  0.045901  ...  0.047230  0.047111  0.046947  0.046821   \n",
       "34  0.045260  0.041422  0.038105  ...  0.042748  0.042579  0.042537  0.042408   \n",
       "\n",
       "        2495      2496      2497      2498      2499      2500  \n",
       "30  0.051100  0.050865  0.050522  0.050303  0.050151  0.049952  \n",
       "31  0.052635  0.052466  0.052368  0.052241  0.052018  0.051894  \n",
       "32  0.043910  0.043728  0.043525  0.043334  0.043054  0.042945  \n",
       "33  0.046744  0.046617  0.046484  0.046312  0.046046  0.045994  \n",
       "34  0.042237  0.042098  0.041965  0.041814  0.041633  0.041526  \n",
       "\n",
       "[5 rows x 2153 columns]"
      ]
     },
     "execution_count": 25,
     "metadata": {},
     "output_type": "execute_result"
    }
   ],
   "source": [
    "df_EHvsCombFungus = df_NotFEH0.copy()\n",
    "\n",
    "df_EHvsCombFungus = df_EHvsCombFungus[(df_EHvsCombFungus['Tratamiento'] != 'Control')]\n",
    "\n",
    "df_EHvsCombFungus['Tratamiento'] = df_EHvsCombFungus['Tratamiento'].apply(lambda x: 'Fungus_Combined' if x != 'E_Hidrico' else 'Hidric_Stress')\n",
    "\n",
    "print(df_EHvsCombFungus['Tratamiento'].value_counts())\n",
    "\n",
    "df_EHvsCombFungus.head()\n"
   ]
  },
  {
   "cell_type": "code",
   "execution_count": 26,
   "id": "f6890135",
   "metadata": {},
   "outputs": [],
   "source": [
    "X = df_EHvsCombFungus.iloc[:, 3:].values\n",
    "y = df_EHvsCombFungus['Tratamiento'].values\n",
    "\n",
    "#split the data into training and testing sets\n",
    "X_train, X_test, y_train, y_test = train_test_split(X, y, test_size=0.2, random_state=42, stratify=y)"
   ]
  },
  {
   "cell_type": "markdown",
   "id": "cd4b2471",
   "metadata": {},
   "source": [
    "### Logistic Regression"
   ]
  },
  {
   "cell_type": "code",
   "execution_count": 27,
   "id": "1bc3f7c8",
   "metadata": {},
   "outputs": [
    {
     "name": "stdout",
     "output_type": "stream",
     "text": [
      "Best Model Accuracy: 0.9753086419753086\n",
      "Best Model Classification Report:\n",
      "                  precision    recall  f1-score   support\n",
      "\n",
      "Fungus_Combined       0.99      0.99      0.99       138\n",
      "  Hidric_Stress       0.92      0.92      0.92        24\n",
      "\n",
      "       accuracy                           0.98       162\n",
      "      macro avg       0.95      0.95      0.95       162\n",
      "   weighted avg       0.98      0.98      0.98       162\n",
      "\n"
     ]
    }
   ],
   "source": [
    "# Define a more comprehensive parameter grid for hyperparameter tuning\n",
    "param_grid = [\n",
    "    # L1 regularization options\n",
    "    {\n",
    "        'PCA__n_components': [5, 10, 15, 20, 30],\n",
    "        'model__penalty': ['l1'],\n",
    "        'model__C': [0.001, 0.01, 0.1, 1, 10, 100],\n",
    "        'model__solver': ['liblinear', 'saga'],\n",
    "        'model__class_weight': [None, 'balanced']\n",
    "    },\n",
    "    # L2 regularization options\n",
    "    {\n",
    "        'PCA__n_components': [5, 10, 15, 20, 30],\n",
    "        'model__penalty': ['l2'],\n",
    "        'model__C': [0.001, 0.01, 0.1, 1, 10, 100],\n",
    "        'model__solver': ['liblinear', 'saga', 'lbfgs'],\n",
    "        'model__class_weight': [None, 'balanced']\n",
    "    },\n",
    "    # Elasticnet option (saga only)\n",
    "    {\n",
    "        'PCA__n_components': [5, 10, 15, 20, 30],\n",
    "        'model__penalty': ['elasticnet'],\n",
    "        'model__C': [0.001, 0.01, 0.1, 1, 10, 100],\n",
    "        'model__solver': ['saga'],\n",
    "        'model__l1_ratio': [0.2, 0.5, 0.8],\n",
    "        'model__class_weight': [None, 'balanced']\n",
    "    }\n",
    "]\n",
    "\n",
    "# Create a pipeline\n",
    "pipeline = Pipeline([\n",
    "    ('PCA', PCA()),\n",
    "    ('model', LogisticRegression(max_iter=1000))\n",
    "])\n",
    "\n",
    "grid_search = GridSearchCV(pipeline, param_grid, cv=5, n_jobs=-1, scoring='accuracy')\n",
    "grid_search.fit(X_train, y_train)\n",
    "\n",
    "best_model = grid_search.best_estimator_\n",
    "# Make predictions with the best model\n",
    "y_pred_best = best_model.predict(X_test)\n",
    "# Evaluate the best model\n",
    "print(\"Best Model Accuracy:\", accuracy_score(y_test, y_pred_best))\n",
    "print(\"Best Model Classification Report:\\n\", classification_report(y_test, y_pred_best))\n"
   ]
  },
  {
   "cell_type": "code",
   "execution_count": 28,
   "id": "5cd1976d",
   "metadata": {},
   "outputs": [
    {
     "name": "stdout",
     "output_type": "stream",
     "text": [
      "Best Parameters: {'PCA__n_components': 30, 'model__C': 100, 'model__class_weight': None, 'model__penalty': 'l1', 'model__solver': 'liblinear'}\n"
     ]
    }
   ],
   "source": [
    "# Parameter for the best model found\n",
    "best_params = grid_search.best_params_\n",
    "print(\"Best Parameters:\", best_params)"
   ]
  },
  {
   "cell_type": "code",
   "execution_count": 29,
   "id": "d640a049",
   "metadata": {},
   "outputs": [
    {
     "data": {
      "image/png": "[encoded data removed]",
      "text/plain": [
       "<Figure size 640x480 with 2 Axes>"
      ]
     },
     "metadata": {},
     "output_type": "display_data"
    }
   ],
   "source": [
    "cm = confusion_matrix(y_test, y_pred_best)\n",
    "disp = ConfusionMatrixDisplay(confusion_matrix=cm, display_labels=best_model.classes_)\n",
    "# Display the confusion matrix\n",
    "disp.plot(cmap='Blues')\n",
    "plt.title(f'Confusion Matrix - Logistic Regression with PCA - accuracy: {accuracy_score(y_test, y_pred_best):.4f}')\n",
    "plt.tight_layout()\n",
    "plt.show()"
   ]
  },
  {
   "cell_type": "markdown",
   "id": "644a225b",
   "metadata": {},
   "source": [
    "## Classification of Unhealthy plants: Hidric Stress vs specific fungal diseases"
   ]
  },
  {
   "cell_type": "markdown",
   "id": "cb824271",
   "metadata": {},
   "source": [
    "### Data Processing"
   ]
  },
  {
   "cell_type": "code",
   "execution_count": 30,
   "id": "1deb5bab",
   "metadata": {},
   "outputs": [
    {
     "name": "stdout",
     "output_type": "stream",
     "text": [
      "['Fungus_Disease' 'Hydric_Stress']\n"
     ]
    }
   ],
   "source": [
    "df_EHvsFD = df_NotFEH0.copy()\n",
    "\n",
    "df_EHvsFD = df_EHvsFD[(df_EHvsFD['Tratamiento'] == 'Fusarium') | \n",
    "                      (df_EHvsFD['Tratamiento'] == 'E_Hidrico') | \n",
    "                      (df_EHvsFD['Tratamiento'] == 'Ralstonia')]  \n",
    "\n",
    "df_EHvsFD['Tratamiento'] = df_EHvsFD['Tratamiento'].apply(lambda x: 'Fungus_Disease' if x == 'Fusarium' or x == 'Ralstonia' else 'Hydric_Stress')\n",
    "\n",
    "print(df_EHvsFD['Tratamiento'].unique())\n",
    "\n",
    "X = df_EHvsFD.iloc[:, 3:].values\n",
    "y = df_EHvsFD['Tratamiento'].values\n",
    "\n",
    "#split the data into training and testing sets\n",
    "X_train, X_test, y_train, y_test = train_test_split(X, y, test_size=0.2, random_state=42, stratify=y)"
   ]
  },
  {
   "cell_type": "markdown",
   "id": "19d806ad",
   "metadata": {},
   "source": [
    "### Logistic Regression"
   ]
  },
  {
   "cell_type": "code",
   "execution_count": 31,
   "id": "be2d6b9a",
   "metadata": {},
   "outputs": [
    {
     "name": "stdout",
     "output_type": "stream",
     "text": [
      "Best Model Accuracy: 0.9305555555555556\n",
      "Best Model Classification Report:\n",
      "                 precision    recall  f1-score   support\n",
      "\n",
      "Fungus_Disease       0.98      0.92      0.95        48\n",
      " Hydric_Stress       0.85      0.96      0.90        24\n",
      "\n",
      "      accuracy                           0.93        72\n",
      "     macro avg       0.91      0.94      0.92        72\n",
      "  weighted avg       0.94      0.93      0.93        72\n",
      "\n"
     ]
    }
   ],
   "source": [
    "# Define a more comprehensive parameter grid for hyperparameter tuning\n",
    "param_grid = [\n",
    "    # L1 regularization options\n",
    "    {\n",
    "        'PCA__n_components': [5, 10, 15, 20, 30],\n",
    "        'model__penalty': ['l1'],\n",
    "        'model__C': [0.001, 0.01, 0.1, 1, 10, 100],\n",
    "        'model__solver': ['liblinear', 'saga'],\n",
    "        'model__class_weight': [None, 'balanced']\n",
    "    },\n",
    "    # L2 regularization options\n",
    "    {\n",
    "        'PCA__n_components': [5, 10, 15, 20, 30],\n",
    "        'model__penalty': ['l2'],\n",
    "        'model__C': [0.001, 0.01, 0.1, 1, 10, 100],\n",
    "        'model__solver': ['liblinear', 'saga', 'lbfgs'],\n",
    "        'model__class_weight': [None, 'balanced']\n",
    "    },\n",
    "    # Elasticnet option (saga only)\n",
    "    {\n",
    "        'PCA__n_components': [5, 10, 15, 20, 30],\n",
    "        'model__penalty': ['elasticnet'],\n",
    "        'model__C': [0.001, 0.01, 0.1, 1, 10, 100],\n",
    "        'model__solver': ['saga'],\n",
    "        'model__l1_ratio': [0.2, 0.5, 0.8],\n",
    "        'model__class_weight': [None, 'balanced']\n",
    "    }\n",
    "]\n",
    "\n",
    "# Create a pipeline\n",
    "pipeline = Pipeline([\n",
    "    ('PCA', PCA()),\n",
    "    ('model', LogisticRegression(max_iter=1000))\n",
    "])\n",
    "\n",
    "grid_search = GridSearchCV(pipeline, param_grid, cv=5, n_jobs=-1, scoring='accuracy')\n",
    "grid_search.fit(X_train, y_train)\n",
    "\n",
    "best_model = grid_search.best_estimator_\n",
    "# Make predictions with the best model\n",
    "y_pred_best = best_model.predict(X_test)\n",
    "# Evaluate the best model\n",
    "print(\"Best Model Accuracy:\", accuracy_score(y_test, y_pred_best))\n",
    "print(\"Best Model Classification Report:\\n\", classification_report(y_test, y_pred_best))\n",
    "\n"
   ]
  },
  {
   "cell_type": "code",
   "execution_count": 32,
   "id": "cdf93289",
   "metadata": {},
   "outputs": [
    {
     "name": "stdout",
     "output_type": "stream",
     "text": [
      "Best Parameters: {'PCA__n_components': 30, 'model__C': 100, 'model__class_weight': None, 'model__penalty': 'l1', 'model__solver': 'liblinear'}\n"
     ]
    }
   ],
   "source": [
    "# Parameter for the best model found\n",
    "best_params = grid_search.best_params_\n",
    "print(\"Best Parameters:\", best_params)"
   ]
  },
  {
   "cell_type": "code",
   "execution_count": 33,
   "id": "b11229a1",
   "metadata": {},
   "outputs": [
    {
     "data": {
      "image/png": "[encoded data removed]",
      "text/plain": [
       "<Figure size 640x480 with 2 Axes>"
      ]
     },
     "metadata": {},
     "output_type": "display_data"
    }
   ],
   "source": [
    "cm = confusion_matrix(y_test, y_pred_best)\n",
    "disp = ConfusionMatrixDisplay(confusion_matrix=cm, display_labels=best_model.classes_)\n",
    "# Display the confusion matrix\n",
    "disp.plot(cmap='Blues')\n",
    "plt.title(f'Confusion Matrix - Logistic Regression with PCA - accuracy: {accuracy_score(y_test, y_pred_best):.4f}')\n",
    "plt.tight_layout()\n",
    "plt.show()"
   ]
  },
  {
   "cell_type": "markdown",
   "id": "69924f43",
   "metadata": {},
   "source": [
    "## Classification of Unhealthy plants: Ralstonia vs Fusarium"
   ]
  },
  {
   "cell_type": "markdown",
   "id": "c4522744",
   "metadata": {},
   "source": [
    "#### Data processing for classification"
   ]
  },
  {
   "cell_type": "code",
   "execution_count": 34,
   "id": "827302e9",
   "metadata": {},
   "outputs": [
    {
     "name": "stdout",
     "output_type": "stream",
     "text": [
      "Tratamiento\n",
      "Fusarium     120\n",
      "Ralstonia    117\n",
      "Name: count, dtype: int64\n"
     ]
    },
    {
     "data": {
      "text/html": [
       "<div>\n",
       "<style scoped>\n",
       "    .dataframe tbody tr th:only-of-type {\n",
       "        vertical-align: middle;\n",
       "    }\n",
       "\n",
       "    .dataframe tbody tr th {\n",
       "        vertical-align: top;\n",
       "    }\n",
       "\n",
       "    .dataframe thead th {\n",
       "        text-align: right;\n",
       "    }\n",
       "</style>\n",
       "<table border=\"1\" class=\"dataframe\">\n",
       "  <thead>\n",
       "    <tr style=\"text-align: right;\">\n",
       "      <th></th>\n",
       "      <th>Tratamiento</th>\n",
       "      <th>Planta</th>\n",
       "      <th>350</th>\n",
       "      <th>351</th>\n",
       "      <th>352</th>\n",
       "      <th>353</th>\n",
       "      <th>354</th>\n",
       "      <th>355</th>\n",
       "      <th>356</th>\n",
       "      <th>357</th>\n",
       "      <th>...</th>\n",
       "      <th>2491</th>\n",
       "      <th>2492</th>\n",
       "      <th>2493</th>\n",
       "      <th>2494</th>\n",
       "      <th>2495</th>\n",
       "      <th>2496</th>\n",
       "      <th>2497</th>\n",
       "      <th>2498</th>\n",
       "      <th>2499</th>\n",
       "      <th>2500</th>\n",
       "    </tr>\n",
       "  </thead>\n",
       "  <tbody>\n",
       "    <tr>\n",
       "      <th>30</th>\n",
       "      <td>Ralstonia</td>\n",
       "      <td>1</td>\n",
       "      <td>0.043966</td>\n",
       "      <td>0.042302</td>\n",
       "      <td>0.035784</td>\n",
       "      <td>0.042035</td>\n",
       "      <td>0.047908</td>\n",
       "      <td>0.047581</td>\n",
       "      <td>0.042502</td>\n",
       "      <td>0.041224</td>\n",
       "      <td>...</td>\n",
       "      <td>0.051744</td>\n",
       "      <td>0.051592</td>\n",
       "      <td>0.051519</td>\n",
       "      <td>0.051325</td>\n",
       "      <td>0.051100</td>\n",
       "      <td>0.050865</td>\n",
       "      <td>0.050522</td>\n",
       "      <td>0.050303</td>\n",
       "      <td>0.050151</td>\n",
       "      <td>0.049952</td>\n",
       "    </tr>\n",
       "    <tr>\n",
       "      <th>31</th>\n",
       "      <td>Ralstonia</td>\n",
       "      <td>2</td>\n",
       "      <td>0.043057</td>\n",
       "      <td>0.047008</td>\n",
       "      <td>0.043908</td>\n",
       "      <td>0.046622</td>\n",
       "      <td>0.049739</td>\n",
       "      <td>0.049488</td>\n",
       "      <td>0.044699</td>\n",
       "      <td>0.041773</td>\n",
       "      <td>...</td>\n",
       "      <td>0.053498</td>\n",
       "      <td>0.053234</td>\n",
       "      <td>0.052906</td>\n",
       "      <td>0.052730</td>\n",
       "      <td>0.052635</td>\n",
       "      <td>0.052466</td>\n",
       "      <td>0.052368</td>\n",
       "      <td>0.052241</td>\n",
       "      <td>0.052018</td>\n",
       "      <td>0.051894</td>\n",
       "    </tr>\n",
       "    <tr>\n",
       "      <th>32</th>\n",
       "      <td>Ralstonia</td>\n",
       "      <td>3</td>\n",
       "      <td>0.039900</td>\n",
       "      <td>0.041321</td>\n",
       "      <td>0.039270</td>\n",
       "      <td>0.038593</td>\n",
       "      <td>0.041870</td>\n",
       "      <td>0.045424</td>\n",
       "      <td>0.042254</td>\n",
       "      <td>0.039002</td>\n",
       "      <td>...</td>\n",
       "      <td>0.044481</td>\n",
       "      <td>0.044358</td>\n",
       "      <td>0.044193</td>\n",
       "      <td>0.044045</td>\n",
       "      <td>0.043910</td>\n",
       "      <td>0.043728</td>\n",
       "      <td>0.043525</td>\n",
       "      <td>0.043334</td>\n",
       "      <td>0.043054</td>\n",
       "      <td>0.042945</td>\n",
       "    </tr>\n",
       "    <tr>\n",
       "      <th>33</th>\n",
       "      <td>Ralstonia</td>\n",
       "      <td>4</td>\n",
       "      <td>0.048389</td>\n",
       "      <td>0.047556</td>\n",
       "      <td>0.039902</td>\n",
       "      <td>0.046429</td>\n",
       "      <td>0.050939</td>\n",
       "      <td>0.049289</td>\n",
       "      <td>0.047334</td>\n",
       "      <td>0.045901</td>\n",
       "      <td>...</td>\n",
       "      <td>0.047230</td>\n",
       "      <td>0.047111</td>\n",
       "      <td>0.046947</td>\n",
       "      <td>0.046821</td>\n",
       "      <td>0.046744</td>\n",
       "      <td>0.046617</td>\n",
       "      <td>0.046484</td>\n",
       "      <td>0.046312</td>\n",
       "      <td>0.046046</td>\n",
       "      <td>0.045994</td>\n",
       "    </tr>\n",
       "    <tr>\n",
       "      <th>34</th>\n",
       "      <td>Ralstonia</td>\n",
       "      <td>5</td>\n",
       "      <td>0.040688</td>\n",
       "      <td>0.039143</td>\n",
       "      <td>0.037580</td>\n",
       "      <td>0.041288</td>\n",
       "      <td>0.044943</td>\n",
       "      <td>0.045260</td>\n",
       "      <td>0.041422</td>\n",
       "      <td>0.038105</td>\n",
       "      <td>...</td>\n",
       "      <td>0.042748</td>\n",
       "      <td>0.042579</td>\n",
       "      <td>0.042537</td>\n",
       "      <td>0.042408</td>\n",
       "      <td>0.042237</td>\n",
       "      <td>0.042098</td>\n",
       "      <td>0.041965</td>\n",
       "      <td>0.041814</td>\n",
       "      <td>0.041633</td>\n",
       "      <td>0.041526</td>\n",
       "    </tr>\n",
       "  </tbody>\n",
       "</table>\n",
       "<p>5 rows × 2153 columns</p>\n",
       "</div>"
      ],
      "text/plain": [
       "   Tratamiento  Planta       350       351       352       353       354  \\\n",
       "30   Ralstonia       1  0.043966  0.042302  0.035784  0.042035  0.047908   \n",
       "31   Ralstonia       2  0.043057  0.047008  0.043908  0.046622  0.049739   \n",
       "32   Ralstonia       3  0.039900  0.041321  0.039270  0.038593  0.041870   \n",
       "33   Ralstonia       4  0.048389  0.047556  0.039902  0.046429  0.050939   \n",
       "34   Ralstonia       5  0.040688  0.039143  0.037580  0.041288  0.044943   \n",
       "\n",
       "         355       356       357  ...      2491      2492      2493      2494  \\\n",
       "30  0.047581  0.042502  0.041224  ...  0.051744  0.051592  0.051519  0.051325   \n",
       "31  0.049488  0.044699  0.041773  ...  0.053498  0.053234  0.052906  0.052730   \n",
       "32  0.045424  0.042254  0.039002  ...  0.044481  0.044358  0.044193  0.044045   \n",
       "33  0.049289  0.047334  0.045901  ...  0.047230  0.047111  0.046947  0.046821   \n",
       "34  0.045260  0.041422  0.038105  ...  0.042748  0.042579  0.042537  0.042408   \n",
       "\n",
       "        2495      2496      2497      2498      2499      2500  \n",
       "30  0.051100  0.050865  0.050522  0.050303  0.050151  0.049952  \n",
       "31  0.052635  0.052466  0.052368  0.052241  0.052018  0.051894  \n",
       "32  0.043910  0.043728  0.043525  0.043334  0.043054  0.042945  \n",
       "33  0.046744  0.046617  0.046484  0.046312  0.046046  0.045994  \n",
       "34  0.042237  0.042098  0.041965  0.041814  0.041633  0.041526  \n",
       "\n",
       "[5 rows x 2153 columns]"
      ]
     },
     "execution_count": 34,
     "metadata": {},
     "output_type": "execute_result"
    }
   ],
   "source": [
    "\n",
    "df_DiseaseType = df_NotFEH0.copy()\n",
    "\n",
    "# Lets filter only unhealthy plants\n",
    "df_DiseaseType = df_DiseaseType[(df_DiseaseType['Tratamiento'] == 'Ralstonia') | (df_DiseaseType['Tratamiento'] == 'Fusarium')]\n",
    "\n",
    "print(df_DiseaseType['Tratamiento'].value_counts())\n",
    "df_DiseaseType.head()"
   ]
  },
  {
   "cell_type": "code",
   "execution_count": 35,
   "id": "02dc4926",
   "metadata": {},
   "outputs": [],
   "source": [
    "# data treatment\n",
    "\n",
    "# Data preparation for model production\n",
    "X = df_DiseaseType.iloc[:, 3:].values\n",
    "\n",
    "y = df_DiseaseType['Tratamiento'].values\n",
    "\n",
    "#split the data into training and testing sets\n",
    "X_train, X_test, y_train, y_test = train_test_split(X, y, test_size=0.2, random_state=42, stratify=y)"
   ]
  },
  {
   "cell_type": "markdown",
   "id": "e0d55da4",
   "metadata": {},
   "source": [
    "### Logistic Regression"
   ]
  },
  {
   "cell_type": "code",
   "execution_count": 36,
   "id": "792213a8",
   "metadata": {},
   "outputs": [
    {
     "name": "stdout",
     "output_type": "stream",
     "text": [
      "Best Model Accuracy: 0.9166666666666666\n",
      "Best Model Classification Report:\n",
      "               precision    recall  f1-score   support\n",
      "\n",
      "    Fusarium       0.92      0.92      0.92        24\n",
      "   Ralstonia       0.92      0.92      0.92        24\n",
      "\n",
      "    accuracy                           0.92        48\n",
      "   macro avg       0.92      0.92      0.92        48\n",
      "weighted avg       0.92      0.92      0.92        48\n",
      "\n"
     ]
    }
   ],
   "source": [
    "# Define a more comprehensive parameter grid for hyperparameter tuning\n",
    "param_grid = [\n",
    "    # L1 regularization options\n",
    "    {\n",
    "        'PCA__n_components': [5, 10, 15, 20, 30],\n",
    "        'model__penalty': ['l1'],\n",
    "        'model__C': [0.001, 0.01, 0.1, 1, 10, 100],\n",
    "        'model__solver': ['liblinear', 'saga'],\n",
    "        'model__class_weight': [None, 'balanced']\n",
    "    },\n",
    "    # L2 regularization options\n",
    "    {\n",
    "        'PCA__n_components': [5, 10, 15, 20, 30],\n",
    "        'model__penalty': ['l2'],\n",
    "        'model__C': [0.001, 0.01, 0.1, 1, 10, 100],\n",
    "        'model__solver': ['liblinear', 'saga', 'lbfgs'],\n",
    "        'model__class_weight': [None, 'balanced']\n",
    "    },\n",
    "    # Elasticnet option (saga only)\n",
    "    {\n",
    "        'PCA__n_components': [5, 10, 15, 20, 30],\n",
    "        'model__penalty': ['elasticnet'],\n",
    "        'model__C': [0.001, 0.01, 0.1, 1, 10, 100],\n",
    "        'model__solver': ['saga'],\n",
    "        'model__l1_ratio': [0.2, 0.5, 0.8],\n",
    "        'model__class_weight': [None, 'balanced']\n",
    "    }\n",
    "]\n",
    "\n",
    "# Create a pipeline\n",
    "pipeline = Pipeline([\n",
    "    ('PCA', PCA()),\n",
    "    ('model', LogisticRegression(max_iter=1000))\n",
    "])\n",
    "\n",
    "grid_search = GridSearchCV(pipeline, param_grid, cv=5, n_jobs=-1, scoring='accuracy')\n",
    "grid_search.fit(X_train, y_train)\n",
    "\n",
    "best_model = grid_search.best_estimator_\n",
    "# Make predictions with the best model\n",
    "y_pred_best = best_model.predict(X_test)\n",
    "# Evaluate the best model\n",
    "print(\"Best Model Accuracy:\", accuracy_score(y_test, y_pred_best))\n",
    "print(\"Best Model Classification Report:\\n\", classification_report(y_test, y_pred_best))\n"
   ]
  },
  {
   "cell_type": "code",
   "execution_count": 37,
   "id": "2b783552",
   "metadata": {},
   "outputs": [
    {
     "name": "stdout",
     "output_type": "stream",
     "text": [
      "Best Parameters: {'PCA__n_components': 30, 'model__C': 100, 'model__class_weight': 'balanced', 'model__penalty': 'l1', 'model__solver': 'liblinear'}\n"
     ]
    }
   ],
   "source": [
    "# Parameter for the best model found\n",
    "best_params = grid_search.best_params_\n",
    "print(\"Best Parameters:\", best_params)"
   ]
  },
  {
   "cell_type": "code",
   "execution_count": 38,
   "id": "5acdfd96",
   "metadata": {},
   "outputs": [
    {
     "data": {
      "image/png": "[encoded data removed]",
      "text/plain": [
       "<Figure size 640x480 with 2 Axes>"
      ]
     },
     "metadata": {},
     "output_type": "display_data"
    }
   ],
   "source": [
    "cm = confusion_matrix(y_test, y_pred_best)\n",
    "disp = ConfusionMatrixDisplay(confusion_matrix=cm, display_labels=best_model.classes_)\n",
    "# Display the confusion matrix\n",
    "disp.plot(cmap='Blues')\n",
    "plt.title(f'Confusion Matrix - Logistic Regression with PCA - accuracy: {accuracy_score(y_test, y_pred_best):.4f}')\n",
    "plt.tight_layout()\n",
    "plt.show()"
   ]
  },
  {
   "cell_type": "markdown",
   "id": "8e672b27",
   "metadata": {},
   "source": [
    "### SVM"
   ]
  },
  {
   "cell_type": "code",
   "execution_count": 39,
   "id": "c65eaca3",
   "metadata": {},
   "outputs": [
    {
     "name": "stdout",
     "output_type": "stream",
     "text": [
      "Fitting 5 folds for each of 4320 candidates, totalling 21600 fits\n",
      "Best cross-validation score (Accuracy): 0.8678\n",
      "Best parameters found:\n",
      "{'pca__n_components': 20, 'svm__C': 100, 'svm__class_weight': 'balanced', 'svm__degree': 2, 'svm__gamma': 1, 'svm__kernel': 'rbf'}\n",
      "\n",
      "Accuracy on the test set: 0.8542\n"
     ]
    }
   ],
   "source": [
    "param_grid = {\n",
    "    'pca__n_components': [5, 10, 15, 20, 30, 40],\n",
    "    'svm__C': [0.01, 0.1, 1, 10, 100],\n",
    "    'svm__kernel': ['linear', 'rbf', 'poly', 'sigmoid'],\n",
    "    'svm__gamma': ['scale', 'auto', 0.001, 0.01, 0.1, 1],\n",
    "    'svm__degree': [2, 3, 4],\n",
    "    'svm__class_weight': ['balanced', None]\n",
    "}\n",
    "\n",
    "pipeline = Pipeline([    \n",
    "    ('pca', PCA()),                   \n",
    "    ('svm', SVC())  \n",
    "])\n",
    "\n",
    "grid_search = GridSearchCV(pipeline, param_grid, cv=5, n_jobs=-1, verbose=1, scoring='balanced_accuracy')\n",
    "\n",
    "grid_search.fit(X_train, y_train)\n",
    "\n",
    "print(f\"Best cross-validation score (Accuracy): {grid_search.best_score_:.4f}\")\n",
    "print(\"Best parameters found:\")\n",
    "print(grid_search.best_params_)\n",
    "\n",
    "best_model = grid_search.best_estimator_\n",
    "accuracy = best_model.score(X_test, y_test)\n",
    "print(f\"\\nAccuracy on the test set: {accuracy:.4f}\")\n",
    "\n",
    "y_pred_SVM = best_model.predict(X_test)"
   ]
  },
  {
   "cell_type": "code",
   "execution_count": 40,
   "id": "2ac41651",
   "metadata": {},
   "outputs": [
    {
     "data": {
      "image/png": "[encoded data removed]",
      "text/plain": [
       "<Figure size 640x480 with 2 Axes>"
      ]
     },
     "metadata": {},
     "output_type": "display_data"
    }
   ],
   "source": [
    "cm = confusion_matrix(y_test, y_pred_SVM)\n",
    "disp = ConfusionMatrixDisplay(confusion_matrix=cm, display_labels=best_model.classes_)\n",
    "# Display the confusion matrix\n",
    "disp.plot(cmap='Blues')\n",
    "plt.title(f'Confusion Matrix - SVM with PCA -  accuracy: {accuracy_score(y_test, y_pred_SVM):.4f}')\n",
    "plt.tight_layout()\n",
    "plt.show()\n"
   ]
  },
  {
   "cell_type": "markdown",
   "id": "c200aae1",
   "metadata": {},
   "source": [
    "### Bagging Decision Tree"
   ]
  },
  {
   "cell_type": "code",
   "execution_count": 41,
   "id": "9d1d903d",
   "metadata": {},
   "outputs": [
    {
     "name": "stdout",
     "output_type": "stream",
     "text": [
      "Fitting 5 folds for each of 4320 candidates, totalling 21600 fits\n",
      "Best cross-validation score (Accuracy): 0.8678\n",
      "Best parameters found:\n",
      "{'pca__n_components': 20, 'svm__C': 100, 'svm__class_weight': 'balanced', 'svm__degree': 2, 'svm__gamma': 1, 'svm__kernel': 'rbf'}\n",
      "\n",
      "Accuracy on the test set: 0.8542\n"
     ]
    }
   ],
   "source": [
    "# Create a pipeline\n",
    "pipeline = Pipeline([\n",
    "    ('pca', PCA()),\n",
    "    ('bagging', BaggingClassifier(estimator=DecisionTreeClassifier(), n_estimators=50, random_state=42))\n",
    "])\n",
    " \n",
    "param_grid = {\n",
    "    # PCA components\n",
    "    'pca__n_components': [5, 10, 15, 20, 30, 40],\n",
    "    \n",
    "    # Bagging meta-estimator parameters\n",
    "    'bagging__n_estimators': [10, 50, 100, 200],\n",
    "    'bagging__max_samples': [0.5, 0.7, 1.0],\n",
    "    'bagging__max_features': [0.5, 0.7, 1.0],\n",
    "    'bagging__bootstrap': [True, False],\n",
    "    'bagging__bootstrap_features': [True, False],\n",
    "    \n",
    "    # Decision Tree base estimator parameters\n",
    "    'bagging__base_estimator__criterion': ['gini', 'entropy'],\n",
    "    'bagging__base_estimator__max_depth': [None, 5, 10, 15, 20],\n",
    "    'bagging__base_estimator__min_samples_split': [2, 5, 10],\n",
    "    'bagging__base_estimator__min_samples_leaf': [1, 2, 4],\n",
    "    'bagging__base_estimator__max_features': [None, 'sqrt', 'log2'],\n",
    "    'bagging__base_estimator__class_weight': [None, 'balanced'],\n",
    "    'bagging__base_estimator__splitter': ['best', 'random']\n",
    "}\n",
    "\n",
    "# For more efficient searching, consider RandomizedSearchCV instead\n",
    "from sklearn.model_selection import RandomizedSearchCV\n",
    "\n",
    "random_search = RandomizedSearchCV(\n",
    "    pipeline,\n",
    "    param_grid,\n",
    "    n_iter=100,  \n",
    "    cv=5,\n",
    "    n_jobs=-1,\n",
    "    verbose=1, \n",
    "    scoring='balanced_accuracy',\n",
    "    random_state=42\n",
    ")\n",
    "\n",
    "grid_search.fit(X_train, y_train)\n",
    "\n",
    "print(f\"Best cross-validation score (Accuracy): {grid_search.best_score_:.4f}\")\n",
    "print(\"Best parameters found:\")\n",
    "print(grid_search.best_params_)\n",
    "\n",
    "best_model = grid_search.best_estimator_\n",
    "accuracy = best_model.score(X_test, y_test)\n",
    "print(f\"\\nAccuracy on the test set: {accuracy:.4f}\")\n",
    "\n",
    "y_pred_bagging = best_model.predict(X_test)"
   ]
  },
  {
   "cell_type": "code",
   "execution_count": 42,
   "id": "041a0a8a",
   "metadata": {},
   "outputs": [
    {
     "data": {
      "image/png": "[encoded data removed]",
      "text/plain": [
       "<Figure size 640x480 with 2 Axes>"
      ]
     },
     "metadata": {},
     "output_type": "display_data"
    }
   ],
   "source": [
    "cm = confusion_matrix(y_test, y_pred_bagging)\n",
    "disp = ConfusionMatrixDisplay(confusion_matrix=cm, display_labels=best_model.classes_)\n",
    "# Display the confusion matrix\n",
    "disp.plot(cmap='Blues')\n",
    "plt.title(f'Confusion Matrix - Bagging with PCA -  accuracy: {accuracy_score(y_test, y_pred_bagging):.4f}')\n",
    "plt.tight_layout()\n",
    "plt.show()"
   ]
  }
 ],
 "metadata": {
  "kernelspec": {
   "display_name": "Python 3",
   "language": "python",
   "name": "python3"
  },
  "language_info": {
   "codemirror_mode": {
    "name": "ipython",
    "version": 3
   },
   "file_extension": ".py",
   "mimetype": "text/x-python",
   "name": "python",
   "nbconvert_exporter": "python",
   "pygments_lexer": "ipython3",
   "version": "3.13.7"
  }
 },
 "nbformat": 4,
 "nbformat_minor": 5
}
