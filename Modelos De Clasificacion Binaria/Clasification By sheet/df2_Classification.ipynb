{
 "cells": [
  {
   "cell_type": "code",
   "execution_count": 1,
   "id": "ae553188",
   "metadata": {},
   "outputs": [],
   "source": [
    "import sys\n",
    "from pathlib import Path\n",
    "# Get the repository root (2 levels up from current notebook)\n",
    "repo_root = Path(__file__).parent.parent.parent if '__file__' in globals() else Path.cwd().parent.parent\n",
    "sys.path.insert(0, str(repo_root))\n",
    "\n",
    "# import necessary libraries\n",
    "import os\n",
    "import numpy as np\n",
    "import pandas as pd\n",
    "import matplotlib.pyplot as plt\n",
    "import seaborn as sns\n",
    "from sklearn.decomposition import PCA\n",
    "from sklearn.manifold import TSNE, trustworthiness\n",
    "import Template\n",
    "from sklearn.neighbors import KNeighborsClassifier\n",
    "from sklearn.metrics import classification_report, confusion_matrix, accuracy_score, ConfusionMatrixDisplay, precision_score, recall_score, f1_score\n",
    "from sklearn.model_selection import train_test_split, GridSearchCV\n",
    "from sklearn.pipeline import Pipeline\n",
    "from sklearn.svm import SVC\n",
    "from tensorflow import keras\n",
    "from keras import layers\n",
    "from sklearn.preprocessing import LabelEncoder\n",
    "from sklearn.linear_model import LogisticRegression\n",
    "from sklearn.ensemble import BaggingClassifier\n",
    "from sklearn.tree import DecisionTreeClassifier\n",
    "\n"
   ]
  },
  {
   "cell_type": "code",
   "execution_count": 2,
   "id": "6381704c",
   "metadata": {},
   "outputs": [],
   "source": [
    "Template = Template.Template()\n",
    "\n",
    "# Build the path to the Excel file in the repository root\n",
    "data_path = os.path.join(os.path.dirname(os.getcwd()), '..', 'Datos1_InteraccionesNIR.xlsx')\n",
    "\n",
    "\n",
    "# import the data from all sheets of the Excel file\n",
    "\n",
    "df2 = pd.read_excel(data_path, sheet_name=2)"
   ]
  },
  {
   "cell_type": "code",
   "execution_count": 3,
   "id": "0aab0ef9",
   "metadata": {},
   "outputs": [
    {
     "name": "stdout",
     "output_type": "stream",
     "text": [
      "Tratamiento\n",
      "Fus_EH        30\n",
      "Fus_EH_Ral    30\n",
      "Ral_EH        30\n",
      "Ralstonia     29\n",
      "Fusarium      29\n",
      "Ral_Fus       29\n",
      "E_Hidrico     28\n",
      "Control       28\n",
      "Name: count, dtype: int64\n"
     ]
    }
   ],
   "source": [
    "print(df2['Tratamiento'].value_counts())"
   ]
  },
  {
   "cell_type": "markdown",
   "id": "02fa2b34",
   "metadata": {},
   "source": [
    "## Classification of Healthy plants vs Unhealthy plants"
   ]
  },
  {
   "cell_type": "markdown",
   "id": "77bead1d",
   "metadata": {},
   "source": [
    "#### Data processing for classification"
   ]
  },
  {
   "cell_type": "code",
   "execution_count": 4,
   "id": "30afa302",
   "metadata": {},
   "outputs": [
    {
     "data": {
      "text/html": [
       "<div>\n",
       "<style scoped>\n",
       "    .dataframe tbody tr th:only-of-type {\n",
       "        vertical-align: middle;\n",
       "    }\n",
       "\n",
       "    .dataframe tbody tr th {\n",
       "        vertical-align: top;\n",
       "    }\n",
       "\n",
       "    .dataframe thead th {\n",
       "        text-align: right;\n",
       "    }\n",
       "</style>\n",
       "<table border=\"1\" class=\"dataframe\">\n",
       "  <thead>\n",
       "    <tr style=\"text-align: right;\">\n",
       "      <th></th>\n",
       "      <th>Tratamiento</th>\n",
       "      <th>350</th>\n",
       "      <th>351</th>\n",
       "      <th>352</th>\n",
       "      <th>353</th>\n",
       "      <th>354</th>\n",
       "      <th>355</th>\n",
       "      <th>356</th>\n",
       "      <th>357</th>\n",
       "      <th>358</th>\n",
       "      <th>...</th>\n",
       "      <th>2492</th>\n",
       "      <th>2493</th>\n",
       "      <th>2494</th>\n",
       "      <th>2495</th>\n",
       "      <th>2496</th>\n",
       "      <th>2497</th>\n",
       "      <th>2498</th>\n",
       "      <th>2499</th>\n",
       "      <th>2500</th>\n",
       "      <th>Health_Status</th>\n",
       "    </tr>\n",
       "  </thead>\n",
       "  <tbody>\n",
       "    <tr>\n",
       "      <th>0</th>\n",
       "      <td>Control</td>\n",
       "      <td>0.057346</td>\n",
       "      <td>0.056540</td>\n",
       "      <td>0.052751</td>\n",
       "      <td>0.053504</td>\n",
       "      <td>0.054180</td>\n",
       "      <td>0.052891</td>\n",
       "      <td>0.050285</td>\n",
       "      <td>0.046155</td>\n",
       "      <td>0.044742</td>\n",
       "      <td>...</td>\n",
       "      <td>0.033385</td>\n",
       "      <td>0.033349</td>\n",
       "      <td>0.033178</td>\n",
       "      <td>0.032902</td>\n",
       "      <td>0.032731</td>\n",
       "      <td>0.032548</td>\n",
       "      <td>0.032408</td>\n",
       "      <td>0.032326</td>\n",
       "      <td>0.032270</td>\n",
       "      <td>Healthy</td>\n",
       "    </tr>\n",
       "    <tr>\n",
       "      <th>1</th>\n",
       "      <td>Control</td>\n",
       "      <td>0.063527</td>\n",
       "      <td>0.063055</td>\n",
       "      <td>0.062428</td>\n",
       "      <td>0.061098</td>\n",
       "      <td>0.060865</td>\n",
       "      <td>0.060550</td>\n",
       "      <td>0.057198</td>\n",
       "      <td>0.053444</td>\n",
       "      <td>0.051902</td>\n",
       "      <td>...</td>\n",
       "      <td>0.035634</td>\n",
       "      <td>0.035392</td>\n",
       "      <td>0.035225</td>\n",
       "      <td>0.035033</td>\n",
       "      <td>0.034945</td>\n",
       "      <td>0.034993</td>\n",
       "      <td>0.034875</td>\n",
       "      <td>0.034711</td>\n",
       "      <td>0.034583</td>\n",
       "      <td>Healthy</td>\n",
       "    </tr>\n",
       "    <tr>\n",
       "      <th>2</th>\n",
       "      <td>Control</td>\n",
       "      <td>0.050986</td>\n",
       "      <td>0.050807</td>\n",
       "      <td>0.050726</td>\n",
       "      <td>0.049559</td>\n",
       "      <td>0.049560</td>\n",
       "      <td>0.048814</td>\n",
       "      <td>0.043256</td>\n",
       "      <td>0.041493</td>\n",
       "      <td>0.040846</td>\n",
       "      <td>...</td>\n",
       "      <td>0.028602</td>\n",
       "      <td>0.028589</td>\n",
       "      <td>0.028482</td>\n",
       "      <td>0.028458</td>\n",
       "      <td>0.028318</td>\n",
       "      <td>0.027975</td>\n",
       "      <td>0.027880</td>\n",
       "      <td>0.027913</td>\n",
       "      <td>0.027835</td>\n",
       "      <td>Healthy</td>\n",
       "    </tr>\n",
       "    <tr>\n",
       "      <th>3</th>\n",
       "      <td>Control</td>\n",
       "      <td>0.061819</td>\n",
       "      <td>0.061138</td>\n",
       "      <td>0.058046</td>\n",
       "      <td>0.059413</td>\n",
       "      <td>0.058527</td>\n",
       "      <td>0.055289</td>\n",
       "      <td>0.054370</td>\n",
       "      <td>0.051970</td>\n",
       "      <td>0.049780</td>\n",
       "      <td>...</td>\n",
       "      <td>0.032946</td>\n",
       "      <td>0.032699</td>\n",
       "      <td>0.032572</td>\n",
       "      <td>0.032542</td>\n",
       "      <td>0.032512</td>\n",
       "      <td>0.032608</td>\n",
       "      <td>0.032508</td>\n",
       "      <td>0.032356</td>\n",
       "      <td>0.032179</td>\n",
       "      <td>Healthy</td>\n",
       "    </tr>\n",
       "    <tr>\n",
       "      <th>4</th>\n",
       "      <td>Control</td>\n",
       "      <td>0.064970</td>\n",
       "      <td>0.064004</td>\n",
       "      <td>0.061963</td>\n",
       "      <td>0.064850</td>\n",
       "      <td>0.065684</td>\n",
       "      <td>0.062802</td>\n",
       "      <td>0.058909</td>\n",
       "      <td>0.054344</td>\n",
       "      <td>0.053378</td>\n",
       "      <td>...</td>\n",
       "      <td>0.035206</td>\n",
       "      <td>0.034999</td>\n",
       "      <td>0.034813</td>\n",
       "      <td>0.034685</td>\n",
       "      <td>0.034548</td>\n",
       "      <td>0.034402</td>\n",
       "      <td>0.034266</td>\n",
       "      <td>0.034165</td>\n",
       "      <td>0.034061</td>\n",
       "      <td>Healthy</td>\n",
       "    </tr>\n",
       "  </tbody>\n",
       "</table>\n",
       "<p>5 rows × 2153 columns</p>\n",
       "</div>"
      ],
      "text/plain": [
       "  Tratamiento       350       351       352       353       354       355  \\\n",
       "0     Control  0.057346  0.056540  0.052751  0.053504  0.054180  0.052891   \n",
       "1     Control  0.063527  0.063055  0.062428  0.061098  0.060865  0.060550   \n",
       "2     Control  0.050986  0.050807  0.050726  0.049559  0.049560  0.048814   \n",
       "3     Control  0.061819  0.061138  0.058046  0.059413  0.058527  0.055289   \n",
       "4     Control  0.064970  0.064004  0.061963  0.064850  0.065684  0.062802   \n",
       "\n",
       "        356       357       358  ...      2492      2493      2494      2495  \\\n",
       "0  0.050285  0.046155  0.044742  ...  0.033385  0.033349  0.033178  0.032902   \n",
       "1  0.057198  0.053444  0.051902  ...  0.035634  0.035392  0.035225  0.035033   \n",
       "2  0.043256  0.041493  0.040846  ...  0.028602  0.028589  0.028482  0.028458   \n",
       "3  0.054370  0.051970  0.049780  ...  0.032946  0.032699  0.032572  0.032542   \n",
       "4  0.058909  0.054344  0.053378  ...  0.035206  0.034999  0.034813  0.034685   \n",
       "\n",
       "       2496      2497      2498      2499      2500  Health_Status  \n",
       "0  0.032731  0.032548  0.032408  0.032326  0.032270        Healthy  \n",
       "1  0.034945  0.034993  0.034875  0.034711  0.034583        Healthy  \n",
       "2  0.028318  0.027975  0.027880  0.027913  0.027835        Healthy  \n",
       "3  0.032512  0.032608  0.032508  0.032356  0.032179        Healthy  \n",
       "4  0.034548  0.034402  0.034266  0.034165  0.034061        Healthy  \n",
       "\n",
       "[5 rows x 2153 columns]"
      ]
     },
     "execution_count": 4,
     "metadata": {},
     "output_type": "execute_result"
    }
   ],
   "source": [
    "# Make a new column 'Health_Status' based on 'Tratamiento'\n",
    "df_HvsUnH = df2.copy()\n",
    "\n",
    "df_HvsUnH['Health_Status'] = df_HvsUnH['Tratamiento'].apply(lambda x: 'Healthy' if x == 'Control' else 'Unhealthy')\n",
    "\n",
    "df_HvsUnH.head()"
   ]
  },
  {
   "cell_type": "code",
   "execution_count": 6,
   "id": "923e0cb5",
   "metadata": {},
   "outputs": [],
   "source": [
    "# data treatment\n",
    "\n",
    "# Data preparation for model production\n",
    "df_X = df_HvsUnH.drop(columns=['Health_Status'])\n",
    "\n",
    "X = df_X.iloc[:, 3:].values  \n",
    "\n",
    "y = df_HvsUnH['Health_Status'].values\n",
    "\n",
    "#split the data into training and testing sets\n",
    "X_train, X_test, y_train, y_test = train_test_split(X, y, test_size=0.3, random_state=42, stratify=y)"
   ]
  },
  {
   "cell_type": "markdown",
   "id": "aa9d184d",
   "metadata": {},
   "source": [
    "### Logistic Regression "
   ]
  },
  {
   "cell_type": "code",
   "execution_count": 7,
   "id": "0b2fb7fa",
   "metadata": {},
   "outputs": [
    {
     "name": "stdout",
     "output_type": "stream",
     "text": [
      "Best Model Accuracy: 0.8857142857142857\n",
      "Best Model Classification Report:\n",
      "               precision    recall  f1-score   support\n",
      "\n",
      "     Healthy       0.50      0.88      0.64         8\n",
      "   Unhealthy       0.98      0.89      0.93        62\n",
      "\n",
      "    accuracy                           0.89        70\n",
      "   macro avg       0.74      0.88      0.78        70\n",
      "weighted avg       0.93      0.89      0.90        70\n",
      "\n"
     ]
    }
   ],
   "source": [
    "# Define a more comprehensive parameter grid for hyperparameter tuning\n",
    "param_grid = [\n",
    "    # L1 regularization options\n",
    "    {\n",
    "        'PCA__n_components': [2],\n",
    "        'model__penalty': ['l1'],\n",
    "        'model__C': [0.001, 0.01, 0.1, 1, 10, 100],\n",
    "        'model__solver': ['liblinear', 'saga'],\n",
    "        'model__class_weight': [None, 'balanced']\n",
    "    },\n",
    "    # L2 regularization options\n",
    "    {\n",
    "        'PCA__n_components': [2],\n",
    "        'model__penalty': ['l2'],\n",
    "        'model__C': [0.001, 0.01, 0.1, 1, 10, 100],\n",
    "        'model__solver': ['liblinear', 'saga', 'lbfgs'],\n",
    "        'model__class_weight': [None, 'balanced']\n",
    "    },\n",
    "    # Elasticnet option (saga only)\n",
    "    {\n",
    "        'PCA__n_components': [2],\n",
    "        'model__penalty': ['elasticnet'],\n",
    "        'model__C': [0.001, 0.01, 0.1, 1, 10, 100],\n",
    "        'model__solver': ['saga'],\n",
    "        'model__l1_ratio': [0.2, 0.5, 0.8],\n",
    "        'model__class_weight': [None, 'balanced']\n",
    "    }\n",
    "]\n",
    "\n",
    "# Create a pipeline\n",
    "pipeline = Pipeline([\n",
    "    ('PCA', PCA()),\n",
    "    ('model', LogisticRegression(max_iter=1000))\n",
    "])\n",
    "\n",
    "grid_search = GridSearchCV(pipeline, param_grid, cv=5, n_jobs=-1, scoring='accuracy')\n",
    "grid_search.fit(X_train, y_train)\n",
    "\n",
    "best_model = grid_search.best_estimator_\n",
    "# Make predictions with the best model\n",
    "y_pred_best = best_model.predict(X_test)\n",
    "# Evaluate the best model\n",
    "print(\"Best Model Accuracy:\", accuracy_score(y_test, y_pred_best))\n",
    "print(\"Best Model Classification Report:\\n\", classification_report(y_test, y_pred_best))"
   ]
  },
  {
   "cell_type": "code",
   "execution_count": 8,
   "id": "cabaa972",
   "metadata": {},
   "outputs": [
    {
     "name": "stdout",
     "output_type": "stream",
     "text": [
      "Best Parameters: {'PCA__n_components': 2, 'model__C': 10, 'model__class_weight': None, 'model__l1_ratio': 0.2, 'model__penalty': 'elasticnet', 'model__solver': 'saga'}\n"
     ]
    }
   ],
   "source": [
    "# Parameter for the best model found\n",
    "best_params = grid_search.best_params_\n",
    "print(\"Best Parameters:\", best_params)"
   ]
  },
  {
   "cell_type": "code",
   "execution_count": 9,
   "id": "0a613183",
   "metadata": {},
   "outputs": [
    {
     "data": {
      "image/png": "[encoded data removed]",
      "text/plain": [
       "<Figure size 640x480 with 2 Axes>"
      ]
     },
     "metadata": {},
     "output_type": "display_data"
    }
   ],
   "source": [
    "cm = confusion_matrix(y_test, y_pred_best)\n",
    "disp = ConfusionMatrixDisplay(confusion_matrix=cm, display_labels=best_model.classes_)\n",
    "# Display the confusion matrix\n",
    "disp.plot(cmap='Blues')\n",
    "plt.title(f'Confusion Matrix - Logistic Regression with PCA - accuracy: {accuracy_score(y_test, y_pred_best):.4f}')\n",
    "plt.tight_layout()\n",
    "plt.show()"
   ]
  },
  {
   "cell_type": "markdown",
   "id": "384c3e22",
   "metadata": {},
   "source": [
    "### SVM"
   ]
  },
  {
   "cell_type": "code",
   "execution_count": 11,
   "id": "9dc10e2f",
   "metadata": {},
   "outputs": [
    {
     "name": "stdout",
     "output_type": "stream",
     "text": [
      "Fitting 5 folds for each of 4320 candidates, totalling 21600 fits\n",
      "Best cross-validation score (Accuracy): 0.9712\n",
      "Best parameters found:\n",
      "{'pca__n_components': 15, 'svm__C': 100, 'svm__class_weight': 'balanced', 'svm__degree': 2, 'svm__gamma': 'scale', 'svm__kernel': 'linear'}\n",
      "\n",
      "Accuracy on the test set: 0.9792\n"
     ]
    }
   ],
   "source": [
    "param_grid = {\n",
    "    'pca__n_components': [5, 10, 15, 20, 30, 40],\n",
    "    'svm__C': [0.01, 0.1, 1, 10, 100],\n",
    "    'svm__kernel': ['linear', 'rbf', 'poly', 'sigmoid'],\n",
    "    'svm__gamma': ['scale', 'auto', 0.001, 0.01, 0.1, 1],\n",
    "    'svm__degree': [2, 3, 4],\n",
    "    'svm__class_weight': ['balanced', None]\n",
    "}\n",
    "\n",
    "pipeline = Pipeline([    \n",
    "    ('pca', PCA()),                   \n",
    "    ('svm', SVC())  \n",
    "])\n",
    "\n",
    "grid_search = GridSearchCV(pipeline, param_grid, cv=5, n_jobs=-1, verbose=1, scoring='balanced_accuracy')\n",
    "\n",
    "grid_search.fit(X_train, y_train)\n",
    "\n",
    "print(f\"Best cross-validation score (Accuracy): {grid_search.best_score_:.4f}\")\n",
    "print(\"Best parameters found:\")\n",
    "print(grid_search.best_params_)\n",
    "\n",
    "best_model = grid_search.best_estimator_\n",
    "accuracy = best_model.score(X_test, y_test)\n",
    "print(f\"\\nAccuracy on the test set: {accuracy:.4f}\")\n",
    "\n",
    "y_pred_SVM = best_model.predict(X_test)"
   ]
  },
  {
   "cell_type": "code",
   "execution_count": 12,
   "id": "448b73e7",
   "metadata": {},
   "outputs": [
    {
     "data": {
      "image/png": "[encoded data removed]",
      "text/plain": [
       "<Figure size 640x480 with 2 Axes>"
      ]
     },
     "metadata": {},
     "output_type": "display_data"
    }
   ],
   "source": [
    "cm = confusion_matrix(y_test, y_pred_SVM)\n",
    "disp = ConfusionMatrixDisplay(confusion_matrix=cm, display_labels=best_model.classes_)\n",
    "# Display the confusion matrix\n",
    "disp.plot(cmap='Blues')\n",
    "plt.title(f'Confusion Matrix - SVM with PCA - accuracy: {accuracy_score(y_test, y_pred_SVM):.4f}')\n",
    "plt.tight_layout()\n",
    "plt.show()"
   ]
  },
  {
   "cell_type": "markdown",
   "id": "0c3a3586",
   "metadata": {},
   "source": [
    "## Classification of Unhealthy plants: Hidric Stress vs fungal diseases (includes combined fungal diseases)"
   ]
  },
  {
   "cell_type": "markdown",
   "id": "f397e1eb",
   "metadata": {},
   "source": [
    "### Data Processing"
   ]
  },
  {
   "cell_type": "code",
   "execution_count": 13,
   "id": "ea224dc1",
   "metadata": {},
   "outputs": [
    {
     "name": "stdout",
     "output_type": "stream",
     "text": [
      "Tratamiento\n",
      "Fungus_Combined    179\n",
      "Hidric_Stress       30\n",
      "Name: count, dtype: int64\n"
     ]
    },
    {
     "data": {
      "text/html": [
       "<div>\n",
       "<style scoped>\n",
       "    .dataframe tbody tr th:only-of-type {\n",
       "        vertical-align: middle;\n",
       "    }\n",
       "\n",
       "    .dataframe tbody tr th {\n",
       "        vertical-align: top;\n",
       "    }\n",
       "\n",
       "    .dataframe thead th {\n",
       "        text-align: right;\n",
       "    }\n",
       "</style>\n",
       "<table border=\"1\" class=\"dataframe\">\n",
       "  <thead>\n",
       "    <tr style=\"text-align: right;\">\n",
       "      <th></th>\n",
       "      <th>Tratamiento</th>\n",
       "      <th>Planta</th>\n",
       "      <th>350</th>\n",
       "      <th>351</th>\n",
       "      <th>352</th>\n",
       "      <th>353</th>\n",
       "      <th>354</th>\n",
       "      <th>355</th>\n",
       "      <th>356</th>\n",
       "      <th>357</th>\n",
       "      <th>...</th>\n",
       "      <th>2491</th>\n",
       "      <th>2492</th>\n",
       "      <th>2493</th>\n",
       "      <th>2494</th>\n",
       "      <th>2495</th>\n",
       "      <th>2496</th>\n",
       "      <th>2497</th>\n",
       "      <th>2498</th>\n",
       "      <th>2499</th>\n",
       "      <th>2500</th>\n",
       "    </tr>\n",
       "  </thead>\n",
       "  <tbody>\n",
       "    <tr>\n",
       "      <th>28</th>\n",
       "      <td>Fungus_Combined</td>\n",
       "      <td>1</td>\n",
       "      <td>0.051420</td>\n",
       "      <td>0.052541</td>\n",
       "      <td>0.048152</td>\n",
       "      <td>0.051256</td>\n",
       "      <td>0.053531</td>\n",
       "      <td>0.052349</td>\n",
       "      <td>0.050031</td>\n",
       "      <td>0.046804</td>\n",
       "      <td>...</td>\n",
       "      <td>0.044289</td>\n",
       "      <td>0.044064</td>\n",
       "      <td>0.043910</td>\n",
       "      <td>0.043786</td>\n",
       "      <td>0.043662</td>\n",
       "      <td>0.043594</td>\n",
       "      <td>0.043651</td>\n",
       "      <td>0.043536</td>\n",
       "      <td>0.043346</td>\n",
       "      <td>0.043177</td>\n",
       "    </tr>\n",
       "    <tr>\n",
       "      <th>29</th>\n",
       "      <td>Fungus_Combined</td>\n",
       "      <td>2</td>\n",
       "      <td>0.048565</td>\n",
       "      <td>0.049023</td>\n",
       "      <td>0.047874</td>\n",
       "      <td>0.047347</td>\n",
       "      <td>0.047762</td>\n",
       "      <td>0.047660</td>\n",
       "      <td>0.044871</td>\n",
       "      <td>0.043057</td>\n",
       "      <td>...</td>\n",
       "      <td>0.036659</td>\n",
       "      <td>0.036485</td>\n",
       "      <td>0.036314</td>\n",
       "      <td>0.036164</td>\n",
       "      <td>0.036072</td>\n",
       "      <td>0.035962</td>\n",
       "      <td>0.035849</td>\n",
       "      <td>0.035723</td>\n",
       "      <td>0.035620</td>\n",
       "      <td>0.035455</td>\n",
       "    </tr>\n",
       "    <tr>\n",
       "      <th>30</th>\n",
       "      <td>Fungus_Combined</td>\n",
       "      <td>3</td>\n",
       "      <td>0.049242</td>\n",
       "      <td>0.047284</td>\n",
       "      <td>0.050679</td>\n",
       "      <td>0.049818</td>\n",
       "      <td>0.049227</td>\n",
       "      <td>0.049039</td>\n",
       "      <td>0.046134</td>\n",
       "      <td>0.043449</td>\n",
       "      <td>...</td>\n",
       "      <td>0.039232</td>\n",
       "      <td>0.039036</td>\n",
       "      <td>0.038733</td>\n",
       "      <td>0.038573</td>\n",
       "      <td>0.038442</td>\n",
       "      <td>0.038344</td>\n",
       "      <td>0.038350</td>\n",
       "      <td>0.038334</td>\n",
       "      <td>0.038321</td>\n",
       "      <td>0.038293</td>\n",
       "    </tr>\n",
       "    <tr>\n",
       "      <th>31</th>\n",
       "      <td>Fungus_Combined</td>\n",
       "      <td>4</td>\n",
       "      <td>0.053603</td>\n",
       "      <td>0.053574</td>\n",
       "      <td>0.053144</td>\n",
       "      <td>0.052914</td>\n",
       "      <td>0.054376</td>\n",
       "      <td>0.055215</td>\n",
       "      <td>0.051148</td>\n",
       "      <td>0.047689</td>\n",
       "      <td>...</td>\n",
       "      <td>0.039956</td>\n",
       "      <td>0.039762</td>\n",
       "      <td>0.039538</td>\n",
       "      <td>0.039394</td>\n",
       "      <td>0.039262</td>\n",
       "      <td>0.039128</td>\n",
       "      <td>0.039067</td>\n",
       "      <td>0.038984</td>\n",
       "      <td>0.038842</td>\n",
       "      <td>0.038776</td>\n",
       "    </tr>\n",
       "    <tr>\n",
       "      <th>32</th>\n",
       "      <td>Fungus_Combined</td>\n",
       "      <td>5</td>\n",
       "      <td>0.048404</td>\n",
       "      <td>0.047566</td>\n",
       "      <td>0.049315</td>\n",
       "      <td>0.049536</td>\n",
       "      <td>0.050479</td>\n",
       "      <td>0.050687</td>\n",
       "      <td>0.046586</td>\n",
       "      <td>0.044762</td>\n",
       "      <td>...</td>\n",
       "      <td>0.034037</td>\n",
       "      <td>0.033853</td>\n",
       "      <td>0.033668</td>\n",
       "      <td>0.033535</td>\n",
       "      <td>0.033437</td>\n",
       "      <td>0.033240</td>\n",
       "      <td>0.033035</td>\n",
       "      <td>0.032885</td>\n",
       "      <td>0.032620</td>\n",
       "      <td>0.032550</td>\n",
       "    </tr>\n",
       "  </tbody>\n",
       "</table>\n",
       "<p>5 rows × 2153 columns</p>\n",
       "</div>"
      ],
      "text/plain": [
       "        Tratamiento  Planta       350       351       352       353       354  \\\n",
       "28  Fungus_Combined       1  0.051420  0.052541  0.048152  0.051256  0.053531   \n",
       "29  Fungus_Combined       2  0.048565  0.049023  0.047874  0.047347  0.047762   \n",
       "30  Fungus_Combined       3  0.049242  0.047284  0.050679  0.049818  0.049227   \n",
       "31  Fungus_Combined       4  0.053603  0.053574  0.053144  0.052914  0.054376   \n",
       "32  Fungus_Combined       5  0.048404  0.047566  0.049315  0.049536  0.050479   \n",
       "\n",
       "         355       356       357  ...      2491      2492      2493      2494  \\\n",
       "28  0.052349  0.050031  0.046804  ...  0.044289  0.044064  0.043910  0.043786   \n",
       "29  0.047660  0.044871  0.043057  ...  0.036659  0.036485  0.036314  0.036164   \n",
       "30  0.049039  0.046134  0.043449  ...  0.039232  0.039036  0.038733  0.038573   \n",
       "31  0.055215  0.051148  0.047689  ...  0.039956  0.039762  0.039538  0.039394   \n",
       "32  0.050687  0.046586  0.044762  ...  0.034037  0.033853  0.033668  0.033535   \n",
       "\n",
       "        2495      2496      2497      2498      2499      2500  \n",
       "28  0.043662  0.043594  0.043651  0.043536  0.043346  0.043177  \n",
       "29  0.036072  0.035962  0.035849  0.035723  0.035620  0.035455  \n",
       "30  0.038442  0.038344  0.038350  0.038334  0.038321  0.038293  \n",
       "31  0.039262  0.039128  0.039067  0.038984  0.038842  0.038776  \n",
       "32  0.033437  0.033240  0.033035  0.032885  0.032620  0.032550  \n",
       "\n",
       "[5 rows x 2153 columns]"
      ]
     },
     "execution_count": 13,
     "metadata": {},
     "output_type": "execute_result"
    }
   ],
   "source": [
    "df_EHvsCombFungus = df2.copy()\n",
    "\n",
    "df_EHvsCombFungus = df_EHvsCombFungus[(df_EHvsCombFungus['Tratamiento'] != 'Control')]\n",
    "\n",
    "df_EHvsCombFungus['Tratamiento'] = df_EHvsCombFungus['Tratamiento'].apply(lambda x: 'Fungus_Combined' if x != 'E_Hidrico' else 'Hidric_Stress')\n",
    "\n",
    "print(df_EHvsCombFungus['Tratamiento'].value_counts())\n",
    "\n",
    "df_EHvsCombFungus.head()"
   ]
  },
  {
   "cell_type": "code",
   "execution_count": 14,
   "id": "9100c8a9",
   "metadata": {},
   "outputs": [],
   "source": [
    "X = df_EHvsCombFungus.iloc[:, 3:].values\n",
    "y = df_EHvsCombFungus['Tratamiento'].values\n",
    "\n",
    "#split the data into training and testing sets\n",
    "X_train, X_test, y_train, y_test = train_test_split(X, y, test_size=0.2, random_state=42, stratify=y)"
   ]
  },
  {
   "cell_type": "markdown",
   "id": "b569d1d1",
   "metadata": {},
   "source": [
    "### Logistic Regression"
   ]
  },
  {
   "cell_type": "code",
   "execution_count": 15,
   "id": "153ad049",
   "metadata": {},
   "outputs": [
    {
     "name": "stdout",
     "output_type": "stream",
     "text": [
      "Best Model Accuracy: 0.9285714285714286\n",
      "Best Model Classification Report:\n",
      "                  precision    recall  f1-score   support\n",
      "\n",
      "Fungus_Combined       0.97      0.94      0.96        36\n",
      "  Hidric_Stress       0.71      0.83      0.77         6\n",
      "\n",
      "       accuracy                           0.93        42\n",
      "      macro avg       0.84      0.89      0.86        42\n",
      "   weighted avg       0.93      0.93      0.93        42\n",
      "\n"
     ]
    }
   ],
   "source": [
    "# Define a more comprehensive parameter grid for hyperparameter tuning\n",
    "param_grid = [\n",
    "    # L1 regularization options\n",
    "    {\n",
    "        'PCA__n_components': [5, 10, 15, 20, 30],\n",
    "        'model__penalty': ['l1'],\n",
    "        'model__C': [0.001, 0.01, 0.1, 1, 10, 100],\n",
    "        'model__solver': ['liblinear', 'saga'],\n",
    "        'model__class_weight': [None, 'balanced']\n",
    "    },\n",
    "    # L2 regularization options\n",
    "    {\n",
    "        'PCA__n_components': [5, 10, 15, 20, 30],\n",
    "        'model__penalty': ['l2'],\n",
    "        'model__C': [0.001, 0.01, 0.1, 1, 10, 100],\n",
    "        'model__solver': ['liblinear', 'saga', 'lbfgs'],\n",
    "        'model__class_weight': [None, 'balanced']\n",
    "    },\n",
    "    # Elasticnet option (saga only)\n",
    "    {\n",
    "        'PCA__n_components': [5, 10, 15, 20, 30],\n",
    "        'model__penalty': ['elasticnet'],\n",
    "        'model__C': [0.001, 0.01, 0.1, 1, 10, 100],\n",
    "        'model__solver': ['saga'],\n",
    "        'model__l1_ratio': [0.2, 0.5, 0.8],\n",
    "        'model__class_weight': [None, 'balanced']\n",
    "    }\n",
    "]\n",
    "\n",
    "# Create a pipeline\n",
    "pipeline = Pipeline([\n",
    "    ('PCA', PCA()),\n",
    "    ('model', LogisticRegression(max_iter=1000))\n",
    "])\n",
    "\n",
    "grid_search = GridSearchCV(pipeline, param_grid, cv=5, n_jobs=-1, scoring='accuracy')\n",
    "grid_search.fit(X_train, y_train)\n",
    "\n",
    "best_model = grid_search.best_estimator_\n",
    "# Make predictions with the best model\n",
    "y_pred_best = best_model.predict(X_test)\n",
    "# Evaluate the best model\n",
    "print(\"Best Model Accuracy:\", accuracy_score(y_test, y_pred_best))\n",
    "print(\"Best Model Classification Report:\\n\", classification_report(y_test, y_pred_best))"
   ]
  },
  {
   "cell_type": "code",
   "execution_count": 16,
   "id": "cee8c47f",
   "metadata": {},
   "outputs": [
    {
     "name": "stdout",
     "output_type": "stream",
     "text": [
      "Best Parameters: {'PCA__n_components': 20, 'model__C': 100, 'model__class_weight': 'balanced', 'model__penalty': 'l1', 'model__solver': 'liblinear'}\n"
     ]
    }
   ],
   "source": [
    "# Parameter for the best model found\n",
    "best_params = grid_search.best_params_\n",
    "print(\"Best Parameters:\", best_params)"
   ]
  },
  {
   "cell_type": "code",
   "execution_count": 17,
   "id": "703a81c7",
   "metadata": {},
   "outputs": [
    {
     "data": {
      "image/png": "[encoded data removed]",
      "text/plain": [
       "<Figure size 640x480 with 2 Axes>"
      ]
     },
     "metadata": {},
     "output_type": "display_data"
    }
   ],
   "source": [
    "cm = confusion_matrix(y_test, y_pred_best)\n",
    "disp = ConfusionMatrixDisplay(confusion_matrix=cm, display_labels=best_model.classes_)\n",
    "# Display the confusion matrix\n",
    "disp.plot(cmap='Blues')\n",
    "plt.title(f'Confusion Matrix - Logistic Regression with PCA - accuracy: {accuracy_score(y_test, y_pred_best):.4f}')\n",
    "plt.tight_layout()\n",
    "plt.show()"
   ]
  },
  {
   "cell_type": "markdown",
   "id": "35addea3",
   "metadata": {},
   "source": [
    "## Classification of Unhealthy plants: Hidric Stress vs specific fungal diseases"
   ]
  },
  {
   "cell_type": "markdown",
   "id": "fc9535ea",
   "metadata": {},
   "source": [
    "### Data Processing"
   ]
  },
  {
   "cell_type": "code",
   "execution_count": 18,
   "id": "2944b036",
   "metadata": {},
   "outputs": [
    {
     "name": "stdout",
     "output_type": "stream",
     "text": [
      "['Fungus_Disease' 'Hydric_Stress']\n"
     ]
    }
   ],
   "source": [
    "df_EHvsFD = df2.copy()\n",
    "\n",
    "df_EHvsFD = df_EHvsFD[(df_EHvsFD['Tratamiento'] == 'Fusarium') | \n",
    "                      (df_EHvsFD['Tratamiento'] == 'E_Hidrico') | \n",
    "                      (df_EHvsFD['Tratamiento'] == 'Ralstonia')]  \n",
    "\n",
    "df_EHvsFD['Tratamiento'] = df_EHvsFD['Tratamiento'].apply(lambda x: 'Fungus_Disease' if x == 'Fusarium' or x == 'Ralstonia' else 'Hydric_Stress')\n",
    "\n",
    "print(df_EHvsFD['Tratamiento'].unique())\n",
    "\n",
    "X = df_EHvsFD.iloc[:, 3:].values\n",
    "y = df_EHvsFD['Tratamiento'].values\n",
    "\n",
    "#split the data into training and testing sets\n",
    "X_train, X_test, y_train, y_test = train_test_split(X, y, test_size=0.2, random_state=42, stratify=y)"
   ]
  },
  {
   "cell_type": "markdown",
   "id": "be8ecbd7",
   "metadata": {},
   "source": [
    "### Logistic Regression"
   ]
  },
  {
   "cell_type": "code",
   "execution_count": 19,
   "id": "961eb8c3",
   "metadata": {},
   "outputs": [
    {
     "name": "stdout",
     "output_type": "stream",
     "text": [
      "Best Model Accuracy: 0.9444444444444444\n",
      "Best Model Classification Report:\n",
      "                 precision    recall  f1-score   support\n",
      "\n",
      "Fungus_Disease       1.00      0.92      0.96        12\n",
      " Hydric_Stress       0.86      1.00      0.92         6\n",
      "\n",
      "      accuracy                           0.94        18\n",
      "     macro avg       0.93      0.96      0.94        18\n",
      "  weighted avg       0.95      0.94      0.95        18\n",
      "\n"
     ]
    }
   ],
   "source": [
    "# Define a more comprehensive parameter grid for hyperparameter tuning\n",
    "param_grid = [\n",
    "    # L1 regularization options\n",
    "    {\n",
    "        'PCA__n_components': [5, 10, 15, 20, 30],\n",
    "        'model__penalty': ['l1'],\n",
    "        'model__C': [0.001, 0.01, 0.1, 1, 10, 100],\n",
    "        'model__solver': ['liblinear', 'saga'],\n",
    "        'model__class_weight': [None, 'balanced']\n",
    "    },\n",
    "    # L2 regularization options\n",
    "    {\n",
    "        'PCA__n_components': [5, 10, 15, 20, 30],\n",
    "        'model__penalty': ['l2'],\n",
    "        'model__C': [0.001, 0.01, 0.1, 1, 10, 100],\n",
    "        'model__solver': ['liblinear', 'saga', 'lbfgs'],\n",
    "        'model__class_weight': [None, 'balanced']\n",
    "    },\n",
    "    # Elasticnet option (saga only)\n",
    "    {\n",
    "        'PCA__n_components': [5, 10, 15, 20, 30],\n",
    "        'model__penalty': ['elasticnet'],\n",
    "        'model__C': [0.001, 0.01, 0.1, 1, 10, 100],\n",
    "        'model__solver': ['saga'],\n",
    "        'model__l1_ratio': [0.2, 0.5, 0.8],\n",
    "        'model__class_weight': [None, 'balanced']\n",
    "    }\n",
    "]\n",
    "\n",
    "# Create a pipeline\n",
    "pipeline = Pipeline([\n",
    "    ('PCA', PCA()),\n",
    "    ('model', LogisticRegression(max_iter=1000))\n",
    "])\n",
    "\n",
    "grid_search = GridSearchCV(pipeline, param_grid, cv=5, n_jobs=-1, scoring='accuracy')\n",
    "grid_search.fit(X_train, y_train)\n",
    "\n",
    "best_model = grid_search.best_estimator_\n",
    "# Make predictions with the best model\n",
    "y_pred_best = best_model.predict(X_test)\n",
    "# Evaluate the best model\n",
    "print(\"Best Model Accuracy:\", accuracy_score(y_test, y_pred_best))\n",
    "print(\"Best Model Classification Report:\\n\", classification_report(y_test, y_pred_best))"
   ]
  },
  {
   "cell_type": "code",
   "execution_count": 20,
   "id": "fa2a8e4b",
   "metadata": {},
   "outputs": [
    {
     "name": "stdout",
     "output_type": "stream",
     "text": [
      "Best Parameters: {'PCA__n_components': 20, 'model__C': 100, 'model__class_weight': None, 'model__penalty': 'l1', 'model__solver': 'liblinear'}\n"
     ]
    }
   ],
   "source": [
    "# Parameter for the best model found\n",
    "best_params = grid_search.best_params_\n",
    "print(\"Best Parameters:\", best_params)"
   ]
  },
  {
   "cell_type": "code",
   "execution_count": 21,
   "id": "db167e07",
   "metadata": {},
   "outputs": [
    {
     "data": {
      "image/png": "[encoded data removed]",
      "text/plain": [
       "<Figure size 640x480 with 2 Axes>"
      ]
     },
     "metadata": {},
     "output_type": "display_data"
    }
   ],
   "source": [
    "cm = confusion_matrix(y_test, y_pred_best)\n",
    "disp = ConfusionMatrixDisplay(confusion_matrix=cm, display_labels=best_model.classes_)\n",
    "# Display the confusion matrix\n",
    "disp.plot(cmap='Blues')\n",
    "plt.title(f'Confusion Matrix - Logistic Regression with PCA - accuracy: {accuracy_score(y_test, y_pred_best):.4f}')\n",
    "plt.tight_layout()\n",
    "plt.show()"
   ]
  },
  {
   "cell_type": "markdown",
   "id": "c6ae3887",
   "metadata": {},
   "source": [
    "## Classification of Unhealthy plants: Ralstonia vs Fusarium"
   ]
  },
  {
   "cell_type": "markdown",
   "id": "930df4d4",
   "metadata": {},
   "source": [
    "#### Data processing for classification"
   ]
  },
  {
   "cell_type": "code",
   "execution_count": 22,
   "id": "62ddc99d",
   "metadata": {},
   "outputs": [
    {
     "name": "stdout",
     "output_type": "stream",
     "text": [
      "Tratamiento\n",
      "Fusarium     30\n",
      "Ralstonia    29\n",
      "Name: count, dtype: int64\n"
     ]
    },
    {
     "data": {
      "text/html": [
       "<div>\n",
       "<style scoped>\n",
       "    .dataframe tbody tr th:only-of-type {\n",
       "        vertical-align: middle;\n",
       "    }\n",
       "\n",
       "    .dataframe tbody tr th {\n",
       "        vertical-align: top;\n",
       "    }\n",
       "\n",
       "    .dataframe thead th {\n",
       "        text-align: right;\n",
       "    }\n",
       "</style>\n",
       "<table border=\"1\" class=\"dataframe\">\n",
       "  <thead>\n",
       "    <tr style=\"text-align: right;\">\n",
       "      <th></th>\n",
       "      <th>Tratamiento</th>\n",
       "      <th>Planta</th>\n",
       "      <th>350</th>\n",
       "      <th>351</th>\n",
       "      <th>352</th>\n",
       "      <th>353</th>\n",
       "      <th>354</th>\n",
       "      <th>355</th>\n",
       "      <th>356</th>\n",
       "      <th>357</th>\n",
       "      <th>...</th>\n",
       "      <th>2491</th>\n",
       "      <th>2492</th>\n",
       "      <th>2493</th>\n",
       "      <th>2494</th>\n",
       "      <th>2495</th>\n",
       "      <th>2496</th>\n",
       "      <th>2497</th>\n",
       "      <th>2498</th>\n",
       "      <th>2499</th>\n",
       "      <th>2500</th>\n",
       "    </tr>\n",
       "  </thead>\n",
       "  <tbody>\n",
       "    <tr>\n",
       "      <th>28</th>\n",
       "      <td>Ralstonia</td>\n",
       "      <td>1</td>\n",
       "      <td>0.051420</td>\n",
       "      <td>0.052541</td>\n",
       "      <td>0.048152</td>\n",
       "      <td>0.051256</td>\n",
       "      <td>0.053531</td>\n",
       "      <td>0.052349</td>\n",
       "      <td>0.050031</td>\n",
       "      <td>0.046804</td>\n",
       "      <td>...</td>\n",
       "      <td>0.044289</td>\n",
       "      <td>0.044064</td>\n",
       "      <td>0.043910</td>\n",
       "      <td>0.043786</td>\n",
       "      <td>0.043662</td>\n",
       "      <td>0.043594</td>\n",
       "      <td>0.043651</td>\n",
       "      <td>0.043536</td>\n",
       "      <td>0.043346</td>\n",
       "      <td>0.043177</td>\n",
       "    </tr>\n",
       "    <tr>\n",
       "      <th>29</th>\n",
       "      <td>Ralstonia</td>\n",
       "      <td>2</td>\n",
       "      <td>0.048565</td>\n",
       "      <td>0.049023</td>\n",
       "      <td>0.047874</td>\n",
       "      <td>0.047347</td>\n",
       "      <td>0.047762</td>\n",
       "      <td>0.047660</td>\n",
       "      <td>0.044871</td>\n",
       "      <td>0.043057</td>\n",
       "      <td>...</td>\n",
       "      <td>0.036659</td>\n",
       "      <td>0.036485</td>\n",
       "      <td>0.036314</td>\n",
       "      <td>0.036164</td>\n",
       "      <td>0.036072</td>\n",
       "      <td>0.035962</td>\n",
       "      <td>0.035849</td>\n",
       "      <td>0.035723</td>\n",
       "      <td>0.035620</td>\n",
       "      <td>0.035455</td>\n",
       "    </tr>\n",
       "    <tr>\n",
       "      <th>30</th>\n",
       "      <td>Ralstonia</td>\n",
       "      <td>3</td>\n",
       "      <td>0.049242</td>\n",
       "      <td>0.047284</td>\n",
       "      <td>0.050679</td>\n",
       "      <td>0.049818</td>\n",
       "      <td>0.049227</td>\n",
       "      <td>0.049039</td>\n",
       "      <td>0.046134</td>\n",
       "      <td>0.043449</td>\n",
       "      <td>...</td>\n",
       "      <td>0.039232</td>\n",
       "      <td>0.039036</td>\n",
       "      <td>0.038733</td>\n",
       "      <td>0.038573</td>\n",
       "      <td>0.038442</td>\n",
       "      <td>0.038344</td>\n",
       "      <td>0.038350</td>\n",
       "      <td>0.038334</td>\n",
       "      <td>0.038321</td>\n",
       "      <td>0.038293</td>\n",
       "    </tr>\n",
       "    <tr>\n",
       "      <th>31</th>\n",
       "      <td>Ralstonia</td>\n",
       "      <td>4</td>\n",
       "      <td>0.053603</td>\n",
       "      <td>0.053574</td>\n",
       "      <td>0.053144</td>\n",
       "      <td>0.052914</td>\n",
       "      <td>0.054376</td>\n",
       "      <td>0.055215</td>\n",
       "      <td>0.051148</td>\n",
       "      <td>0.047689</td>\n",
       "      <td>...</td>\n",
       "      <td>0.039956</td>\n",
       "      <td>0.039762</td>\n",
       "      <td>0.039538</td>\n",
       "      <td>0.039394</td>\n",
       "      <td>0.039262</td>\n",
       "      <td>0.039128</td>\n",
       "      <td>0.039067</td>\n",
       "      <td>0.038984</td>\n",
       "      <td>0.038842</td>\n",
       "      <td>0.038776</td>\n",
       "    </tr>\n",
       "    <tr>\n",
       "      <th>32</th>\n",
       "      <td>Ralstonia</td>\n",
       "      <td>5</td>\n",
       "      <td>0.048404</td>\n",
       "      <td>0.047566</td>\n",
       "      <td>0.049315</td>\n",
       "      <td>0.049536</td>\n",
       "      <td>0.050479</td>\n",
       "      <td>0.050687</td>\n",
       "      <td>0.046586</td>\n",
       "      <td>0.044762</td>\n",
       "      <td>...</td>\n",
       "      <td>0.034037</td>\n",
       "      <td>0.033853</td>\n",
       "      <td>0.033668</td>\n",
       "      <td>0.033535</td>\n",
       "      <td>0.033437</td>\n",
       "      <td>0.033240</td>\n",
       "      <td>0.033035</td>\n",
       "      <td>0.032885</td>\n",
       "      <td>0.032620</td>\n",
       "      <td>0.032550</td>\n",
       "    </tr>\n",
       "  </tbody>\n",
       "</table>\n",
       "<p>5 rows × 2153 columns</p>\n",
       "</div>"
      ],
      "text/plain": [
       "   Tratamiento  Planta       350       351       352       353       354  \\\n",
       "28   Ralstonia       1  0.051420  0.052541  0.048152  0.051256  0.053531   \n",
       "29   Ralstonia       2  0.048565  0.049023  0.047874  0.047347  0.047762   \n",
       "30   Ralstonia       3  0.049242  0.047284  0.050679  0.049818  0.049227   \n",
       "31   Ralstonia       4  0.053603  0.053574  0.053144  0.052914  0.054376   \n",
       "32   Ralstonia       5  0.048404  0.047566  0.049315  0.049536  0.050479   \n",
       "\n",
       "         355       356       357  ...      2491      2492      2493      2494  \\\n",
       "28  0.052349  0.050031  0.046804  ...  0.044289  0.044064  0.043910  0.043786   \n",
       "29  0.047660  0.044871  0.043057  ...  0.036659  0.036485  0.036314  0.036164   \n",
       "30  0.049039  0.046134  0.043449  ...  0.039232  0.039036  0.038733  0.038573   \n",
       "31  0.055215  0.051148  0.047689  ...  0.039956  0.039762  0.039538  0.039394   \n",
       "32  0.050687  0.046586  0.044762  ...  0.034037  0.033853  0.033668  0.033535   \n",
       "\n",
       "        2495      2496      2497      2498      2499      2500  \n",
       "28  0.043662  0.043594  0.043651  0.043536  0.043346  0.043177  \n",
       "29  0.036072  0.035962  0.035849  0.035723  0.035620  0.035455  \n",
       "30  0.038442  0.038344  0.038350  0.038334  0.038321  0.038293  \n",
       "31  0.039262  0.039128  0.039067  0.038984  0.038842  0.038776  \n",
       "32  0.033437  0.033240  0.033035  0.032885  0.032620  0.032550  \n",
       "\n",
       "[5 rows x 2153 columns]"
      ]
     },
     "execution_count": 22,
     "metadata": {},
     "output_type": "execute_result"
    }
   ],
   "source": [
    "\n",
    "df_DiseaseType = df2.copy()\n",
    "\n",
    "# Lets filter only unhealthy plants\n",
    "df_DiseaseType = df_DiseaseType[(df_DiseaseType['Tratamiento'] == 'Ralstonia') | (df_DiseaseType['Tratamiento'] == 'Fusarium')]\n",
    "\n",
    "print(df_DiseaseType['Tratamiento'].value_counts())\n",
    "df_DiseaseType.head()"
   ]
  },
  {
   "cell_type": "code",
   "execution_count": 23,
   "id": "a9d38d4b",
   "metadata": {},
   "outputs": [],
   "source": [
    "# data treatment\n",
    "\n",
    "# Data preparation for model production\n",
    "X = df_DiseaseType.iloc[:, 3:].values\n",
    "\n",
    "y = df_DiseaseType['Tratamiento'].values\n",
    "\n",
    "#split the data into training and testing sets\n",
    "X_train, X_test, y_train, y_test = train_test_split(X, y, test_size=0.2, random_state=42, stratify=y)"
   ]
  },
  {
   "cell_type": "markdown",
   "id": "53fac822",
   "metadata": {},
   "source": [
    "### Logistic Regression"
   ]
  },
  {
   "cell_type": "code",
   "execution_count": 24,
   "id": "a5986ba0",
   "metadata": {},
   "outputs": [
    {
     "name": "stdout",
     "output_type": "stream",
     "text": [
      "Best Model Accuracy: 0.9166666666666666\n",
      "Best Model Classification Report:\n",
      "               precision    recall  f1-score   support\n",
      "\n",
      "    Fusarium       0.86      1.00      0.92         6\n",
      "   Ralstonia       1.00      0.83      0.91         6\n",
      "\n",
      "    accuracy                           0.92        12\n",
      "   macro avg       0.93      0.92      0.92        12\n",
      "weighted avg       0.93      0.92      0.92        12\n",
      "\n"
     ]
    }
   ],
   "source": [
    "# Define a more comprehensive parameter grid for hyperparameter tuning\n",
    "param_grid = [\n",
    "    # L1 regularization options\n",
    "    {\n",
    "        'PCA__n_components': [5, 10, 15, 20, 30],\n",
    "        'model__penalty': ['l1'],\n",
    "        'model__C': [0.001, 0.01, 0.1, 1, 10, 100],\n",
    "        'model__solver': ['liblinear', 'saga'],\n",
    "        'model__class_weight': [None, 'balanced']\n",
    "    },\n",
    "    # L2 regularization options\n",
    "    {\n",
    "        'PCA__n_components': [5, 10, 15, 20, 30],\n",
    "        'model__penalty': ['l2'],\n",
    "        'model__C': [0.001, 0.01, 0.1, 1, 10, 100],\n",
    "        'model__solver': ['liblinear', 'saga', 'lbfgs'],\n",
    "        'model__class_weight': [None, 'balanced']\n",
    "    },\n",
    "    # Elasticnet option (saga only)\n",
    "    {\n",
    "        'PCA__n_components': [5, 10, 15, 20, 30],\n",
    "        'model__penalty': ['elasticnet'],\n",
    "        'model__C': [0.001, 0.01, 0.1, 1, 10, 100],\n",
    "        'model__solver': ['saga'],\n",
    "        'model__l1_ratio': [0.2, 0.5, 0.8],\n",
    "        'model__class_weight': [None, 'balanced']\n",
    "    }\n",
    "]\n",
    "\n",
    "# Create a pipeline\n",
    "pipeline = Pipeline([\n",
    "    ('PCA', PCA()),\n",
    "    ('model', LogisticRegression(max_iter=1000))\n",
    "])\n",
    "\n",
    "grid_search = GridSearchCV(pipeline, param_grid, cv=5, n_jobs=-1, scoring='accuracy')\n",
    "grid_search.fit(X_train, y_train)\n",
    "\n",
    "best_model = grid_search.best_estimator_\n",
    "# Make predictions with the best model\n",
    "y_pred_best = best_model.predict(X_test)\n",
    "# Evaluate the best model\n",
    "print(\"Best Model Accuracy:\", accuracy_score(y_test, y_pred_best))\n",
    "print(\"Best Model Classification Report:\\n\", classification_report(y_test, y_pred_best))\n"
   ]
  },
  {
   "cell_type": "code",
   "execution_count": 25,
   "id": "c6f560a0",
   "metadata": {},
   "outputs": [
    {
     "name": "stdout",
     "output_type": "stream",
     "text": [
      "Best Parameters: {'PCA__n_components': 10, 'model__C': 100, 'model__class_weight': None, 'model__penalty': 'l1', 'model__solver': 'liblinear'}\n"
     ]
    }
   ],
   "source": [
    "# Parameter for the best model found\n",
    "best_params = grid_search.best_params_\n",
    "print(\"Best Parameters:\", best_params)"
   ]
  },
  {
   "cell_type": "code",
   "execution_count": 26,
   "id": "8baad181",
   "metadata": {},
   "outputs": [
    {
     "data": {
      "image/png": "[encoded data removed]",
      "text/plain": [
       "<Figure size 640x480 with 2 Axes>"
      ]
     },
     "metadata": {},
     "output_type": "display_data"
    }
   ],
   "source": [
    "cm = confusion_matrix(y_test, y_pred_best)\n",
    "disp = ConfusionMatrixDisplay(confusion_matrix=cm, display_labels=best_model.classes_)\n",
    "# Display the confusion matrix\n",
    "disp.plot(cmap='Blues')\n",
    "plt.title(f'Confusion Matrix - Logistic Regression with PCA - accuracy: {accuracy_score(y_test, y_pred_best):.4f}')\n",
    "plt.tight_layout()\n",
    "plt.show()"
   ]
  }
 ],
 "metadata": {
  "kernelspec": {
   "display_name": "Python 3",
   "language": "python",
   "name": "python3"
  },
  "language_info": {
   "codemirror_mode": {
    "name": "ipython",
    "version": 3
   },
   "file_extension": ".py",
   "mimetype": "text/x-python",
   "name": "python",
   "nbconvert_exporter": "python",
   "pygments_lexer": "ipython3",
   "version": "3.13.7"
  }
 },
 "nbformat": 4,
 "nbformat_minor": 5
}
