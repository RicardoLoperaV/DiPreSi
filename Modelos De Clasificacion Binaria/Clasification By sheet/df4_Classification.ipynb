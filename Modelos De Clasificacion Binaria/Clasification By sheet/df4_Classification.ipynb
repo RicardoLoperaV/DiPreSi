{
 "cells": [
  {
   "cell_type": "code",
   "execution_count": 1,
   "id": "ae553188",
   "metadata": {},
   "outputs": [],
   "source": [
    "import sys\n",
    "from pathlib import Path\n",
    "# Get the repository root (2 levels up from current notebook)\n",
    "repo_root = Path(__file__).parent.parent.parent if '__file__' in globals() else Path.cwd().parent.parent\n",
    "sys.path.insert(0, str(repo_root))\n",
    "\n",
    "# import necessary libraries\n",
    "import os\n",
    "import numpy as np\n",
    "import pandas as pd\n",
    "import matplotlib.pyplot as plt\n",
    "import seaborn as sns\n",
    "from sklearn.decomposition import PCA\n",
    "from sklearn.manifold import TSNE, trustworthiness\n",
    "import Template\n",
    "from sklearn.neighbors import KNeighborsClassifier\n",
    "from sklearn.metrics import classification_report, confusion_matrix, accuracy_score, ConfusionMatrixDisplay, precision_score, recall_score, f1_score\n",
    "from sklearn.model_selection import train_test_split, GridSearchCV\n",
    "from sklearn.pipeline import Pipeline\n",
    "from sklearn.svm import SVC\n",
    "from tensorflow import keras\n",
    "from keras import layers\n",
    "from sklearn.preprocessing import LabelEncoder\n",
    "from sklearn.linear_model import LogisticRegression\n",
    "from sklearn.ensemble import BaggingClassifier\n",
    "from sklearn.tree import DecisionTreeClassifier\n",
    "\n"
   ]
  },
  {
   "cell_type": "code",
   "execution_count": 2,
   "id": "6381704c",
   "metadata": {},
   "outputs": [],
   "source": [
    "Template = Template.Template()\n",
    "\n",
    "# Build the path to the Excel file in the repository root\n",
    "data_path = os.path.join(os.path.dirname(os.getcwd()), '..', 'Datos1_InteraccionesNIR.xlsx')\n",
    "\n",
    "\n",
    "# import the data from all sheets of the Excel file\n",
    "\n",
    "df4 = pd.read_excel(data_path, sheet_name=4)"
   ]
  },
  {
   "cell_type": "code",
   "execution_count": 3,
   "id": "0aab0ef9",
   "metadata": {},
   "outputs": [
    {
     "name": "stdout",
     "output_type": "stream",
     "text": [
      "Tratamiento\n",
      "E_Hidrico     30\n",
      "Fusarium      30\n",
      "Fus_EH_Ral    30\n",
      "Ral_EH        30\n",
      "Control       29\n",
      "Ralstonia     29\n",
      "Ral_Fus       29\n",
      "Fus_EH        23\n",
      "Name: count, dtype: int64\n"
     ]
    }
   ],
   "source": [
    "print(df4['Tratamiento'].value_counts())"
   ]
  },
  {
   "cell_type": "markdown",
   "id": "02fa2b34",
   "metadata": {},
   "source": [
    "## Classification of Healthy plants vs Unhealthy plants"
   ]
  },
  {
   "cell_type": "markdown",
   "id": "77bead1d",
   "metadata": {},
   "source": [
    "#### Data processing for classification"
   ]
  },
  {
   "cell_type": "code",
   "execution_count": 4,
   "id": "30afa302",
   "metadata": {},
   "outputs": [
    {
     "data": {
      "text/html": [
       "<div>\n",
       "<style scoped>\n",
       "    .dataframe tbody tr th:only-of-type {\n",
       "        vertical-align: middle;\n",
       "    }\n",
       "\n",
       "    .dataframe tbody tr th {\n",
       "        vertical-align: top;\n",
       "    }\n",
       "\n",
       "    .dataframe thead th {\n",
       "        text-align: right;\n",
       "    }\n",
       "</style>\n",
       "<table border=\"1\" class=\"dataframe\">\n",
       "  <thead>\n",
       "    <tr style=\"text-align: right;\">\n",
       "      <th></th>\n",
       "      <th>Tratamiento</th>\n",
       "      <th>350</th>\n",
       "      <th>351</th>\n",
       "      <th>352</th>\n",
       "      <th>353</th>\n",
       "      <th>354</th>\n",
       "      <th>355</th>\n",
       "      <th>356</th>\n",
       "      <th>357</th>\n",
       "      <th>358</th>\n",
       "      <th>...</th>\n",
       "      <th>2492</th>\n",
       "      <th>2493</th>\n",
       "      <th>2494</th>\n",
       "      <th>2495</th>\n",
       "      <th>2496</th>\n",
       "      <th>2497</th>\n",
       "      <th>2498</th>\n",
       "      <th>2499</th>\n",
       "      <th>2500</th>\n",
       "      <th>Health_Status</th>\n",
       "    </tr>\n",
       "  </thead>\n",
       "  <tbody>\n",
       "    <tr>\n",
       "      <th>0</th>\n",
       "      <td>Control</td>\n",
       "      <td>0.074723</td>\n",
       "      <td>0.074907</td>\n",
       "      <td>0.069226</td>\n",
       "      <td>0.073145</td>\n",
       "      <td>0.069501</td>\n",
       "      <td>0.060720</td>\n",
       "      <td>0.062748</td>\n",
       "      <td>0.060955</td>\n",
       "      <td>0.059762</td>\n",
       "      <td>...</td>\n",
       "      <td>0.039615</td>\n",
       "      <td>0.039570</td>\n",
       "      <td>0.039455</td>\n",
       "      <td>0.039427</td>\n",
       "      <td>0.039334</td>\n",
       "      <td>0.039157</td>\n",
       "      <td>0.038921</td>\n",
       "      <td>0.038661</td>\n",
       "      <td>0.038498</td>\n",
       "      <td>Healthy</td>\n",
       "    </tr>\n",
       "    <tr>\n",
       "      <th>1</th>\n",
       "      <td>Control</td>\n",
       "      <td>0.064413</td>\n",
       "      <td>0.063294</td>\n",
       "      <td>0.060044</td>\n",
       "      <td>0.061458</td>\n",
       "      <td>0.059083</td>\n",
       "      <td>0.053877</td>\n",
       "      <td>0.053428</td>\n",
       "      <td>0.052120</td>\n",
       "      <td>0.050863</td>\n",
       "      <td>...</td>\n",
       "      <td>0.037284</td>\n",
       "      <td>0.037252</td>\n",
       "      <td>0.037116</td>\n",
       "      <td>0.036860</td>\n",
       "      <td>0.036708</td>\n",
       "      <td>0.036610</td>\n",
       "      <td>0.036515</td>\n",
       "      <td>0.036418</td>\n",
       "      <td>0.036374</td>\n",
       "      <td>Healthy</td>\n",
       "    </tr>\n",
       "    <tr>\n",
       "      <th>2</th>\n",
       "      <td>Control</td>\n",
       "      <td>0.065758</td>\n",
       "      <td>0.065233</td>\n",
       "      <td>0.060532</td>\n",
       "      <td>0.060233</td>\n",
       "      <td>0.059288</td>\n",
       "      <td>0.056705</td>\n",
       "      <td>0.054850</td>\n",
       "      <td>0.051916</td>\n",
       "      <td>0.051912</td>\n",
       "      <td>...</td>\n",
       "      <td>0.038430</td>\n",
       "      <td>0.038355</td>\n",
       "      <td>0.038257</td>\n",
       "      <td>0.038215</td>\n",
       "      <td>0.038105</td>\n",
       "      <td>0.038004</td>\n",
       "      <td>0.037822</td>\n",
       "      <td>0.037529</td>\n",
       "      <td>0.037371</td>\n",
       "      <td>Healthy</td>\n",
       "    </tr>\n",
       "    <tr>\n",
       "      <th>3</th>\n",
       "      <td>Control</td>\n",
       "      <td>0.062238</td>\n",
       "      <td>0.062061</td>\n",
       "      <td>0.057599</td>\n",
       "      <td>0.059343</td>\n",
       "      <td>0.057833</td>\n",
       "      <td>0.052907</td>\n",
       "      <td>0.051349</td>\n",
       "      <td>0.048695</td>\n",
       "      <td>0.047981</td>\n",
       "      <td>...</td>\n",
       "      <td>0.036795</td>\n",
       "      <td>0.036624</td>\n",
       "      <td>0.036527</td>\n",
       "      <td>0.036393</td>\n",
       "      <td>0.036301</td>\n",
       "      <td>0.036340</td>\n",
       "      <td>0.036221</td>\n",
       "      <td>0.035973</td>\n",
       "      <td>0.035830</td>\n",
       "      <td>Healthy</td>\n",
       "    </tr>\n",
       "    <tr>\n",
       "      <th>4</th>\n",
       "      <td>Control</td>\n",
       "      <td>0.084853</td>\n",
       "      <td>0.082573</td>\n",
       "      <td>0.083905</td>\n",
       "      <td>0.081276</td>\n",
       "      <td>0.074833</td>\n",
       "      <td>0.069509</td>\n",
       "      <td>0.072085</td>\n",
       "      <td>0.071686</td>\n",
       "      <td>0.071082</td>\n",
       "      <td>...</td>\n",
       "      <td>0.039897</td>\n",
       "      <td>0.039598</td>\n",
       "      <td>0.039449</td>\n",
       "      <td>0.039432</td>\n",
       "      <td>0.039265</td>\n",
       "      <td>0.039116</td>\n",
       "      <td>0.038979</td>\n",
       "      <td>0.038711</td>\n",
       "      <td>0.038569</td>\n",
       "      <td>Healthy</td>\n",
       "    </tr>\n",
       "  </tbody>\n",
       "</table>\n",
       "<p>5 rows × 2153 columns</p>\n",
       "</div>"
      ],
      "text/plain": [
       "  Tratamiento       350       351       352       353       354       355  \\\n",
       "0     Control  0.074723  0.074907  0.069226  0.073145  0.069501  0.060720   \n",
       "1     Control  0.064413  0.063294  0.060044  0.061458  0.059083  0.053877   \n",
       "2     Control  0.065758  0.065233  0.060532  0.060233  0.059288  0.056705   \n",
       "3     Control  0.062238  0.062061  0.057599  0.059343  0.057833  0.052907   \n",
       "4     Control  0.084853  0.082573  0.083905  0.081276  0.074833  0.069509   \n",
       "\n",
       "        356       357       358  ...      2492      2493      2494      2495  \\\n",
       "0  0.062748  0.060955  0.059762  ...  0.039615  0.039570  0.039455  0.039427   \n",
       "1  0.053428  0.052120  0.050863  ...  0.037284  0.037252  0.037116  0.036860   \n",
       "2  0.054850  0.051916  0.051912  ...  0.038430  0.038355  0.038257  0.038215   \n",
       "3  0.051349  0.048695  0.047981  ...  0.036795  0.036624  0.036527  0.036393   \n",
       "4  0.072085  0.071686  0.071082  ...  0.039897  0.039598  0.039449  0.039432   \n",
       "\n",
       "       2496      2497      2498      2499      2500  Health_Status  \n",
       "0  0.039334  0.039157  0.038921  0.038661  0.038498        Healthy  \n",
       "1  0.036708  0.036610  0.036515  0.036418  0.036374        Healthy  \n",
       "2  0.038105  0.038004  0.037822  0.037529  0.037371        Healthy  \n",
       "3  0.036301  0.036340  0.036221  0.035973  0.035830        Healthy  \n",
       "4  0.039265  0.039116  0.038979  0.038711  0.038569        Healthy  \n",
       "\n",
       "[5 rows x 2153 columns]"
      ]
     },
     "execution_count": 4,
     "metadata": {},
     "output_type": "execute_result"
    }
   ],
   "source": [
    "# Make a new column 'Health_Status' based on 'Tratamiento'\n",
    "df_HvsUnH = df4.copy()\n",
    "\n",
    "df_HvsUnH['Health_Status'] = df_HvsUnH['Tratamiento'].apply(lambda x: 'Healthy' if x == 'Control' else 'Unhealthy')\n",
    "\n",
    "df_HvsUnH.head()"
   ]
  },
  {
   "cell_type": "code",
   "execution_count": 5,
   "id": "923e0cb5",
   "metadata": {},
   "outputs": [],
   "source": [
    "# data treatment\n",
    "\n",
    "# Data preparation for model production\n",
    "df_X = df_HvsUnH.drop(columns=['Health_Status'])\n",
    "\n",
    "X = df_X.iloc[:, 3:].values  \n",
    "\n",
    "y = df_HvsUnH['Health_Status'].values\n",
    "\n",
    "#split the data into training and testing sets\n",
    "X_train, X_test, y_train, y_test = train_test_split(X, y, test_size=0.3, random_state=42, stratify=y)"
   ]
  },
  {
   "cell_type": "markdown",
   "id": "aa9d184d",
   "metadata": {},
   "source": [
    "### Logistic Regression "
   ]
  },
  {
   "cell_type": "code",
   "execution_count": 6,
   "id": "0b2fb7fa",
   "metadata": {},
   "outputs": [
    {
     "name": "stdout",
     "output_type": "stream",
     "text": [
      "Best Model Accuracy: 0.8714285714285714\n",
      "Best Model Classification Report:\n",
      "               precision    recall  f1-score   support\n",
      "\n",
      "     Healthy       0.00      0.00      0.00         9\n",
      "   Unhealthy       0.87      1.00      0.93        61\n",
      "\n",
      "    accuracy                           0.87        70\n",
      "   macro avg       0.44      0.50      0.47        70\n",
      "weighted avg       0.76      0.87      0.81        70\n",
      "\n"
     ]
    },
    {
     "name": "stderr",
     "output_type": "stream",
     "text": [
      "c:\\Users\\ricar\\AppData\\Local\\Programs\\Python\\Python313\\Lib\\site-packages\\sklearn\\metrics\\_classification.py:1731: UndefinedMetricWarning: Precision is ill-defined and being set to 0.0 in labels with no predicted samples. Use `zero_division` parameter to control this behavior.\n",
      "  _warn_prf(average, modifier, f\"{metric.capitalize()} is\", result.shape[0])\n",
      "c:\\Users\\ricar\\AppData\\Local\\Programs\\Python\\Python313\\Lib\\site-packages\\sklearn\\metrics\\_classification.py:1731: UndefinedMetricWarning: Precision is ill-defined and being set to 0.0 in labels with no predicted samples. Use `zero_division` parameter to control this behavior.\n",
      "  _warn_prf(average, modifier, f\"{metric.capitalize()} is\", result.shape[0])\n",
      "c:\\Users\\ricar\\AppData\\Local\\Programs\\Python\\Python313\\Lib\\site-packages\\sklearn\\metrics\\_classification.py:1731: UndefinedMetricWarning: Precision is ill-defined and being set to 0.0 in labels with no predicted samples. Use `zero_division` parameter to control this behavior.\n",
      "  _warn_prf(average, modifier, f\"{metric.capitalize()} is\", result.shape[0])\n"
     ]
    }
   ],
   "source": [
    "# Define a more comprehensive parameter grid for hyperparameter tuning\n",
    "param_grid = [\n",
    "    # L1 regularization options\n",
    "    {\n",
    "        'PCA__n_components': [2],\n",
    "        'model__penalty': ['l1'],\n",
    "        'model__C': [0.001, 0.01, 0.1, 1, 10, 100],\n",
    "        'model__solver': ['liblinear', 'saga'],\n",
    "        'model__class_weight': [None, 'balanced']\n",
    "    },\n",
    "    # L2 regularization options\n",
    "    {\n",
    "        'PCA__n_components': [2],\n",
    "        'model__penalty': ['l2'],\n",
    "        'model__C': [0.001, 0.01, 0.1, 1, 10, 100],\n",
    "        'model__solver': ['liblinear', 'saga', 'lbfgs'],\n",
    "        'model__class_weight': [None, 'balanced']\n",
    "    },\n",
    "    # Elasticnet option (saga only)\n",
    "    {\n",
    "        'PCA__n_components': [2],\n",
    "        'model__penalty': ['elasticnet'],\n",
    "        'model__C': [0.001, 0.01, 0.1, 1, 10, 100],\n",
    "        'model__solver': ['saga'],\n",
    "        'model__l1_ratio': [0.2, 0.5, 0.8],\n",
    "        'model__class_weight': [None, 'balanced']\n",
    "    }\n",
    "]\n",
    "\n",
    "# Create a pipeline\n",
    "pipeline = Pipeline([\n",
    "    ('PCA', PCA()),\n",
    "    ('model', LogisticRegression(max_iter=1000))\n",
    "])\n",
    "\n",
    "grid_search = GridSearchCV(pipeline, param_grid, cv=5, n_jobs=-1, scoring='accuracy')\n",
    "grid_search.fit(X_train, y_train)\n",
    "\n",
    "best_model = grid_search.best_estimator_\n",
    "# Make predictions with the best model\n",
    "y_pred_best = best_model.predict(X_test)\n",
    "# Evaluate the best model\n",
    "print(\"Best Model Accuracy:\", accuracy_score(y_test, y_pred_best))\n",
    "print(\"Best Model Classification Report:\\n\", classification_report(y_test, y_pred_best))"
   ]
  },
  {
   "cell_type": "code",
   "execution_count": 7,
   "id": "cabaa972",
   "metadata": {},
   "outputs": [
    {
     "name": "stdout",
     "output_type": "stream",
     "text": [
      "Best Parameters: {'PCA__n_components': 2, 'model__C': 1, 'model__class_weight': None, 'model__penalty': 'l1', 'model__solver': 'liblinear'}\n"
     ]
    }
   ],
   "source": [
    "# Parameter for the best model found\n",
    "best_params = grid_search.best_params_\n",
    "print(\"Best Parameters:\", best_params)"
   ]
  },
  {
   "cell_type": "code",
   "execution_count": 8,
   "id": "0a613183",
   "metadata": {},
   "outputs": [
    {
     "data": {
      "image/png": "[encoded data removed]",
      "text/plain": [
       "<Figure size 640x480 with 2 Axes>"
      ]
     },
     "metadata": {},
     "output_type": "display_data"
    }
   ],
   "source": [
    "cm = confusion_matrix(y_test, y_pred_best)\n",
    "disp = ConfusionMatrixDisplay(confusion_matrix=cm, display_labels=best_model.classes_)\n",
    "# Display the confusion matrix\n",
    "disp.plot(cmap='Blues')\n",
    "plt.title(f'Confusion Matrix - Logistic Regression with PCA - accuracy: {accuracy_score(y_test, y_pred_best):.4f}')\n",
    "plt.tight_layout()\n",
    "plt.show()"
   ]
  },
  {
   "cell_type": "markdown",
   "id": "384c3e22",
   "metadata": {},
   "source": [
    "### SVM"
   ]
  },
  {
   "cell_type": "code",
   "execution_count": 9,
   "id": "9dc10e2f",
   "metadata": {},
   "outputs": [
    {
     "name": "stdout",
     "output_type": "stream",
     "text": [
      "Fitting 5 folds for each of 4320 candidates, totalling 21600 fits\n",
      "Best cross-validation score (Accuracy): 0.8995\n",
      "Best parameters found:\n",
      "{'pca__n_components': 20, 'svm__C': 100, 'svm__class_weight': 'balanced', 'svm__degree': 2, 'svm__gamma': 'auto', 'svm__kernel': 'rbf'}\n",
      "\n",
      "Accuracy on the test set: 0.8750\n"
     ]
    }
   ],
   "source": [
    "param_grid = {\n",
    "    'pca__n_components': [5, 10, 15, 20, 30, 40],\n",
    "    'svm__C': [0.01, 0.1, 1, 10, 100],\n",
    "    'svm__kernel': ['linear', 'rbf', 'poly', 'sigmoid'],\n",
    "    'svm__gamma': ['scale', 'auto', 0.001, 0.01, 0.1, 1],\n",
    "    'svm__degree': [2, 3, 4],\n",
    "    'svm__class_weight': ['balanced', None]\n",
    "}\n",
    "\n",
    "pipeline = Pipeline([    \n",
    "    ('pca', PCA()),                   \n",
    "    ('svm', SVC())  \n",
    "])\n",
    "\n",
    "grid_search = GridSearchCV(pipeline, param_grid, cv=5, n_jobs=-1, verbose=1, scoring='balanced_accuracy')\n",
    "\n",
    "grid_search.fit(X_train, y_train)\n",
    "\n",
    "print(f\"Best cross-validation score (Accuracy): {grid_search.best_score_:.4f}\")\n",
    "print(\"Best parameters found:\")\n",
    "print(grid_search.best_params_)\n",
    "\n",
    "best_model = grid_search.best_estimator_\n",
    "accuracy = best_model.score(X_test, y_test)\n",
    "print(f\"\\nAccuracy on the test set: {accuracy:.4f}\")\n",
    "\n",
    "y_pred_SVM = best_model.predict(X_test)"
   ]
  },
  {
   "cell_type": "code",
   "execution_count": 10,
   "id": "448b73e7",
   "metadata": {},
   "outputs": [
    {
     "data": {
      "image/png": "[encoded data removed]",
      "text/plain": [
       "<Figure size 640x480 with 2 Axes>"
      ]
     },
     "metadata": {},
     "output_type": "display_data"
    }
   ],
   "source": [
    "cm = confusion_matrix(y_test, y_pred_SVM)\n",
    "disp = ConfusionMatrixDisplay(confusion_matrix=cm, display_labels=best_model.classes_)\n",
    "# Display the confusion matrix\n",
    "disp.plot(cmap='Blues')\n",
    "plt.title(f'Confusion Matrix - SVM with PCA - accuracy: {accuracy_score(y_test, y_pred_SVM):.4f}')\n",
    "plt.tight_layout()\n",
    "plt.show()"
   ]
  },
  {
   "cell_type": "markdown",
   "id": "0c3a3586",
   "metadata": {},
   "source": [
    "## Classification of Unhealthy plants: Hidric Stress vs fungal diseases (includes combined fungal diseases)"
   ]
  },
  {
   "cell_type": "markdown",
   "id": "f397e1eb",
   "metadata": {},
   "source": [
    "### Data Processing"
   ]
  },
  {
   "cell_type": "code",
   "execution_count": 11,
   "id": "ea224dc1",
   "metadata": {},
   "outputs": [
    {
     "name": "stdout",
     "output_type": "stream",
     "text": [
      "Tratamiento\n",
      "Fungus_Combined    180\n",
      "Hidric_Stress       30\n",
      "Name: count, dtype: int64\n"
     ]
    },
    {
     "data": {
      "text/html": [
       "<div>\n",
       "<style scoped>\n",
       "    .dataframe tbody tr th:only-of-type {\n",
       "        vertical-align: middle;\n",
       "    }\n",
       "\n",
       "    .dataframe tbody tr th {\n",
       "        vertical-align: top;\n",
       "    }\n",
       "\n",
       "    .dataframe thead th {\n",
       "        text-align: right;\n",
       "    }\n",
       "</style>\n",
       "<table border=\"1\" class=\"dataframe\">\n",
       "  <thead>\n",
       "    <tr style=\"text-align: right;\">\n",
       "      <th></th>\n",
       "      <th>Tratamiento</th>\n",
       "      <th>Planta</th>\n",
       "      <th>350</th>\n",
       "      <th>351</th>\n",
       "      <th>352</th>\n",
       "      <th>353</th>\n",
       "      <th>354</th>\n",
       "      <th>355</th>\n",
       "      <th>356</th>\n",
       "      <th>357</th>\n",
       "      <th>...</th>\n",
       "      <th>2491</th>\n",
       "      <th>2492</th>\n",
       "      <th>2493</th>\n",
       "      <th>2494</th>\n",
       "      <th>2495</th>\n",
       "      <th>2496</th>\n",
       "      <th>2497</th>\n",
       "      <th>2498</th>\n",
       "      <th>2499</th>\n",
       "      <th>2500</th>\n",
       "    </tr>\n",
       "  </thead>\n",
       "  <tbody>\n",
       "    <tr>\n",
       "      <th>30</th>\n",
       "      <td>Fungus_Combined</td>\n",
       "      <td>1</td>\n",
       "      <td>0.076276</td>\n",
       "      <td>0.073734</td>\n",
       "      <td>0.080145</td>\n",
       "      <td>0.074904</td>\n",
       "      <td>0.069138</td>\n",
       "      <td>0.066730</td>\n",
       "      <td>0.064755</td>\n",
       "      <td>0.064568</td>\n",
       "      <td>...</td>\n",
       "      <td>0.034109</td>\n",
       "      <td>0.033864</td>\n",
       "      <td>0.033540</td>\n",
       "      <td>0.033337</td>\n",
       "      <td>0.033148</td>\n",
       "      <td>0.032995</td>\n",
       "      <td>0.032992</td>\n",
       "      <td>0.032844</td>\n",
       "      <td>0.032588</td>\n",
       "      <td>0.032446</td>\n",
       "    </tr>\n",
       "    <tr>\n",
       "      <th>31</th>\n",
       "      <td>Fungus_Combined</td>\n",
       "      <td>2</td>\n",
       "      <td>0.068150</td>\n",
       "      <td>0.065385</td>\n",
       "      <td>0.069024</td>\n",
       "      <td>0.065933</td>\n",
       "      <td>0.063197</td>\n",
       "      <td>0.060940</td>\n",
       "      <td>0.054312</td>\n",
       "      <td>0.053331</td>\n",
       "      <td>...</td>\n",
       "      <td>0.034582</td>\n",
       "      <td>0.034368</td>\n",
       "      <td>0.034120</td>\n",
       "      <td>0.033906</td>\n",
       "      <td>0.033664</td>\n",
       "      <td>0.033526</td>\n",
       "      <td>0.033501</td>\n",
       "      <td>0.033339</td>\n",
       "      <td>0.033150</td>\n",
       "      <td>0.033019</td>\n",
       "    </tr>\n",
       "    <tr>\n",
       "      <th>32</th>\n",
       "      <td>Fungus_Combined</td>\n",
       "      <td>3</td>\n",
       "      <td>0.062960</td>\n",
       "      <td>0.059255</td>\n",
       "      <td>0.062903</td>\n",
       "      <td>0.060468</td>\n",
       "      <td>0.056111</td>\n",
       "      <td>0.052244</td>\n",
       "      <td>0.049260</td>\n",
       "      <td>0.051392</td>\n",
       "      <td>...</td>\n",
       "      <td>0.033847</td>\n",
       "      <td>0.033737</td>\n",
       "      <td>0.033617</td>\n",
       "      <td>0.033446</td>\n",
       "      <td>0.033250</td>\n",
       "      <td>0.033088</td>\n",
       "      <td>0.032845</td>\n",
       "      <td>0.032746</td>\n",
       "      <td>0.032786</td>\n",
       "      <td>0.032706</td>\n",
       "    </tr>\n",
       "    <tr>\n",
       "      <th>33</th>\n",
       "      <td>Fungus_Combined</td>\n",
       "      <td>4</td>\n",
       "      <td>0.070999</td>\n",
       "      <td>0.067527</td>\n",
       "      <td>0.072041</td>\n",
       "      <td>0.066671</td>\n",
       "      <td>0.062104</td>\n",
       "      <td>0.060588</td>\n",
       "      <td>0.057448</td>\n",
       "      <td>0.059691</td>\n",
       "      <td>...</td>\n",
       "      <td>0.028614</td>\n",
       "      <td>0.028435</td>\n",
       "      <td>0.028270</td>\n",
       "      <td>0.028110</td>\n",
       "      <td>0.028059</td>\n",
       "      <td>0.027936</td>\n",
       "      <td>0.027703</td>\n",
       "      <td>0.027637</td>\n",
       "      <td>0.027699</td>\n",
       "      <td>0.027606</td>\n",
       "    </tr>\n",
       "    <tr>\n",
       "      <th>34</th>\n",
       "      <td>Fungus_Combined</td>\n",
       "      <td>5</td>\n",
       "      <td>0.064629</td>\n",
       "      <td>0.061472</td>\n",
       "      <td>0.068240</td>\n",
       "      <td>0.066059</td>\n",
       "      <td>0.061974</td>\n",
       "      <td>0.058884</td>\n",
       "      <td>0.055603</td>\n",
       "      <td>0.055067</td>\n",
       "      <td>...</td>\n",
       "      <td>0.029979</td>\n",
       "      <td>0.029839</td>\n",
       "      <td>0.029591</td>\n",
       "      <td>0.029456</td>\n",
       "      <td>0.029399</td>\n",
       "      <td>0.029272</td>\n",
       "      <td>0.029167</td>\n",
       "      <td>0.029009</td>\n",
       "      <td>0.028745</td>\n",
       "      <td>0.028642</td>\n",
       "    </tr>\n",
       "  </tbody>\n",
       "</table>\n",
       "<p>5 rows × 2153 columns</p>\n",
       "</div>"
      ],
      "text/plain": [
       "        Tratamiento  Planta       350       351       352       353       354  \\\n",
       "30  Fungus_Combined       1  0.076276  0.073734  0.080145  0.074904  0.069138   \n",
       "31  Fungus_Combined       2  0.068150  0.065385  0.069024  0.065933  0.063197   \n",
       "32  Fungus_Combined       3  0.062960  0.059255  0.062903  0.060468  0.056111   \n",
       "33  Fungus_Combined       4  0.070999  0.067527  0.072041  0.066671  0.062104   \n",
       "34  Fungus_Combined       5  0.064629  0.061472  0.068240  0.066059  0.061974   \n",
       "\n",
       "         355       356       357  ...      2491      2492      2493      2494  \\\n",
       "30  0.066730  0.064755  0.064568  ...  0.034109  0.033864  0.033540  0.033337   \n",
       "31  0.060940  0.054312  0.053331  ...  0.034582  0.034368  0.034120  0.033906   \n",
       "32  0.052244  0.049260  0.051392  ...  0.033847  0.033737  0.033617  0.033446   \n",
       "33  0.060588  0.057448  0.059691  ...  0.028614  0.028435  0.028270  0.028110   \n",
       "34  0.058884  0.055603  0.055067  ...  0.029979  0.029839  0.029591  0.029456   \n",
       "\n",
       "        2495      2496      2497      2498      2499      2500  \n",
       "30  0.033148  0.032995  0.032992  0.032844  0.032588  0.032446  \n",
       "31  0.033664  0.033526  0.033501  0.033339  0.033150  0.033019  \n",
       "32  0.033250  0.033088  0.032845  0.032746  0.032786  0.032706  \n",
       "33  0.028059  0.027936  0.027703  0.027637  0.027699  0.027606  \n",
       "34  0.029399  0.029272  0.029167  0.029009  0.028745  0.028642  \n",
       "\n",
       "[5 rows x 2153 columns]"
      ]
     },
     "execution_count": 11,
     "metadata": {},
     "output_type": "execute_result"
    }
   ],
   "source": [
    "df_EHvsCombFungus = df3.copy()\n",
    "\n",
    "df_EHvsCombFungus = df_EHvsCombFungus[(df_EHvsCombFungus['Tratamiento'] != 'Control')]\n",
    "\n",
    "df_EHvsCombFungus['Tratamiento'] = df_EHvsCombFungus['Tratamiento'].apply(lambda x: 'Fungus_Combined' if x != 'E_Hidrico' else 'Hidric_Stress')\n",
    "\n",
    "print(df_EHvsCombFungus['Tratamiento'].value_counts())\n",
    "\n",
    "df_EHvsCombFungus.head()"
   ]
  },
  {
   "cell_type": "code",
   "execution_count": 12,
   "id": "9100c8a9",
   "metadata": {},
   "outputs": [],
   "source": [
    "X = df_EHvsCombFungus.iloc[:, 3:].values\n",
    "y = df_EHvsCombFungus['Tratamiento'].values\n",
    "\n",
    "#split the data into training and testing sets\n",
    "X_train, X_test, y_train, y_test = train_test_split(X, y, test_size=0.2, random_state=42, stratify=y)"
   ]
  },
  {
   "cell_type": "markdown",
   "id": "b569d1d1",
   "metadata": {},
   "source": [
    "### Logistic Regression"
   ]
  },
  {
   "cell_type": "code",
   "execution_count": 13,
   "id": "153ad049",
   "metadata": {},
   "outputs": [
    {
     "name": "stdout",
     "output_type": "stream",
     "text": [
      "Best Model Accuracy: 0.9761904761904762\n",
      "Best Model Classification Report:\n",
      "                  precision    recall  f1-score   support\n",
      "\n",
      "Fungus_Combined       1.00      0.97      0.99        36\n",
      "  Hidric_Stress       0.86      1.00      0.92         6\n",
      "\n",
      "       accuracy                           0.98        42\n",
      "      macro avg       0.93      0.99      0.95        42\n",
      "   weighted avg       0.98      0.98      0.98        42\n",
      "\n"
     ]
    }
   ],
   "source": [
    "# Define a more comprehensive parameter grid for hyperparameter tuning\n",
    "param_grid = [\n",
    "    # L1 regularization options\n",
    "    {\n",
    "        'PCA__n_components': [5, 10, 15, 20, 30],\n",
    "        'model__penalty': ['l1'],\n",
    "        'model__C': [0.001, 0.01, 0.1, 1, 10, 100],\n",
    "        'model__solver': ['liblinear', 'saga'],\n",
    "        'model__class_weight': [None, 'balanced']\n",
    "    },\n",
    "    # L2 regularization options\n",
    "    {\n",
    "        'PCA__n_components': [5, 10, 15, 20, 30],\n",
    "        'model__penalty': ['l2'],\n",
    "        'model__C': [0.001, 0.01, 0.1, 1, 10, 100],\n",
    "        'model__solver': ['liblinear', 'saga', 'lbfgs'],\n",
    "        'model__class_weight': [None, 'balanced']\n",
    "    },\n",
    "    # Elasticnet option (saga only)\n",
    "    {\n",
    "        'PCA__n_components': [5, 10, 15, 20, 30],\n",
    "        'model__penalty': ['elasticnet'],\n",
    "        'model__C': [0.001, 0.01, 0.1, 1, 10, 100],\n",
    "        'model__solver': ['saga'],\n",
    "        'model__l1_ratio': [0.2, 0.5, 0.8],\n",
    "        'model__class_weight': [None, 'balanced']\n",
    "    }\n",
    "]\n",
    "\n",
    "# Create a pipeline\n",
    "pipeline = Pipeline([\n",
    "    ('PCA', PCA()),\n",
    "    ('model', LogisticRegression(max_iter=1000))\n",
    "])\n",
    "\n",
    "grid_search = GridSearchCV(pipeline, param_grid, cv=5, n_jobs=-1, scoring='accuracy')\n",
    "grid_search.fit(X_train, y_train)\n",
    "\n",
    "best_model = grid_search.best_estimator_\n",
    "# Make predictions with the best model\n",
    "y_pred_best = best_model.predict(X_test)\n",
    "# Evaluate the best model\n",
    "print(\"Best Model Accuracy:\", accuracy_score(y_test, y_pred_best))\n",
    "print(\"Best Model Classification Report:\\n\", classification_report(y_test, y_pred_best))"
   ]
  },
  {
   "cell_type": "code",
   "execution_count": 14,
   "id": "cee8c47f",
   "metadata": {},
   "outputs": [
    {
     "name": "stdout",
     "output_type": "stream",
     "text": [
      "Best Parameters: {'PCA__n_components': 20, 'model__C': 100, 'model__class_weight': None, 'model__penalty': 'l1', 'model__solver': 'liblinear'}\n"
     ]
    }
   ],
   "source": [
    "# Parameter for the best model found\n",
    "best_params = grid_search.best_params_\n",
    "print(\"Best Parameters:\", best_params)"
   ]
  },
  {
   "cell_type": "code",
   "execution_count": 15,
   "id": "703a81c7",
   "metadata": {},
   "outputs": [
    {
     "data": {
      "image/png": "[encoded data removed]",
      "text/plain": [
       "<Figure size 640x480 with 2 Axes>"
      ]
     },
     "metadata": {},
     "output_type": "display_data"
    }
   ],
   "source": [
    "cm = confusion_matrix(y_test, y_pred_best)\n",
    "disp = ConfusionMatrixDisplay(confusion_matrix=cm, display_labels=best_model.classes_)\n",
    "# Display the confusion matrix\n",
    "disp.plot(cmap='Blues')\n",
    "plt.title(f'Confusion Matrix - Logistic Regression with PCA - accuracy: {accuracy_score(y_test, y_pred_best):.4f}')\n",
    "plt.tight_layout()\n",
    "plt.show()"
   ]
  },
  {
   "cell_type": "markdown",
   "id": "35addea3",
   "metadata": {},
   "source": [
    "## Classification of Unhealthy plants: Hidric Stress vs specific fungal diseases"
   ]
  },
  {
   "cell_type": "markdown",
   "id": "fc9535ea",
   "metadata": {},
   "source": [
    "### Data Processing"
   ]
  },
  {
   "cell_type": "code",
   "execution_count": 16,
   "id": "2944b036",
   "metadata": {},
   "outputs": [
    {
     "name": "stdout",
     "output_type": "stream",
     "text": [
      "['Fungus_Disease' 'Hydric_Stress']\n"
     ]
    }
   ],
   "source": [
    "df_EHvsFD = df3.copy()\n",
    "\n",
    "df_EHvsFD = df_EHvsFD[(df_EHvsFD['Tratamiento'] == 'Fusarium') | \n",
    "                      (df_EHvsFD['Tratamiento'] == 'E_Hidrico') | \n",
    "                      (df_EHvsFD['Tratamiento'] == 'Ralstonia')]  \n",
    "\n",
    "df_EHvsFD['Tratamiento'] = df_EHvsFD['Tratamiento'].apply(lambda x: 'Fungus_Disease' if x == 'Fusarium' or x == 'Ralstonia' else 'Hydric_Stress')\n",
    "\n",
    "print(df_EHvsFD['Tratamiento'].unique())\n",
    "\n",
    "X = df_EHvsFD.iloc[:, 3:].values\n",
    "y = df_EHvsFD['Tratamiento'].values\n",
    "\n",
    "#split the data into training and testing sets\n",
    "X_train, X_test, y_train, y_test = train_test_split(X, y, test_size=0.2, random_state=42, stratify=y)"
   ]
  },
  {
   "cell_type": "markdown",
   "id": "be8ecbd7",
   "metadata": {},
   "source": [
    "### Logistic Regression"
   ]
  },
  {
   "cell_type": "code",
   "execution_count": 17,
   "id": "961eb8c3",
   "metadata": {},
   "outputs": [
    {
     "name": "stdout",
     "output_type": "stream",
     "text": [
      "Best Model Accuracy: 0.8888888888888888\n",
      "Best Model Classification Report:\n",
      "                 precision    recall  f1-score   support\n",
      "\n",
      "Fungus_Disease       1.00      0.83      0.91        12\n",
      " Hydric_Stress       0.75      1.00      0.86         6\n",
      "\n",
      "      accuracy                           0.89        18\n",
      "     macro avg       0.88      0.92      0.88        18\n",
      "  weighted avg       0.92      0.89      0.89        18\n",
      "\n"
     ]
    },
    {
     "name": "stderr",
     "output_type": "stream",
     "text": [
      "c:\\Users\\ricar\\AppData\\Local\\Programs\\Python\\Python313\\Lib\\site-packages\\sklearn\\linear_model\\_sag.py:348: ConvergenceWarning: The max_iter was reached which means the coef_ did not converge\n",
      "  warnings.warn(\n"
     ]
    }
   ],
   "source": [
    "# Define a more comprehensive parameter grid for hyperparameter tuning\n",
    "param_grid = [\n",
    "    # L1 regularization options\n",
    "    {\n",
    "        'PCA__n_components': [5, 10, 15, 20, 30],\n",
    "        'model__penalty': ['l1'],\n",
    "        'model__C': [0.001, 0.01, 0.1, 1, 10, 100],\n",
    "        'model__solver': ['liblinear', 'saga'],\n",
    "        'model__class_weight': [None, 'balanced']\n",
    "    },\n",
    "    # L2 regularization options\n",
    "    {\n",
    "        'PCA__n_components': [5, 10, 15, 20, 30],\n",
    "        'model__penalty': ['l2'],\n",
    "        'model__C': [0.001, 0.01, 0.1, 1, 10, 100],\n",
    "        'model__solver': ['liblinear', 'saga', 'lbfgs'],\n",
    "        'model__class_weight': [None, 'balanced']\n",
    "    },\n",
    "    # Elasticnet option (saga only)\n",
    "    {\n",
    "        'PCA__n_components': [5, 10, 15, 20, 30],\n",
    "        'model__penalty': ['elasticnet'],\n",
    "        'model__C': [0.001, 0.01, 0.1, 1, 10, 100],\n",
    "        'model__solver': ['saga'],\n",
    "        'model__l1_ratio': [0.2, 0.5, 0.8],\n",
    "        'model__class_weight': [None, 'balanced']\n",
    "    }\n",
    "]\n",
    "\n",
    "# Create a pipeline\n",
    "pipeline = Pipeline([\n",
    "    ('PCA', PCA()),\n",
    "    ('model', LogisticRegression(max_iter=1000))\n",
    "])\n",
    "\n",
    "grid_search = GridSearchCV(pipeline, param_grid, cv=5, n_jobs=-1, scoring='accuracy')\n",
    "grid_search.fit(X_train, y_train)\n",
    "\n",
    "best_model = grid_search.best_estimator_\n",
    "# Make predictions with the best model\n",
    "y_pred_best = best_model.predict(X_test)\n",
    "# Evaluate the best model\n",
    "print(\"Best Model Accuracy:\", accuracy_score(y_test, y_pred_best))\n",
    "print(\"Best Model Classification Report:\\n\", classification_report(y_test, y_pred_best))"
   ]
  },
  {
   "cell_type": "code",
   "execution_count": 18,
   "id": "fa2a8e4b",
   "metadata": {},
   "outputs": [
    {
     "name": "stdout",
     "output_type": "stream",
     "text": [
      "Best Parameters: {'PCA__n_components': 15, 'model__C': 100, 'model__class_weight': None, 'model__penalty': 'l1', 'model__solver': 'saga'}\n"
     ]
    }
   ],
   "source": [
    "# Parameter for the best model found\n",
    "best_params = grid_search.best_params_\n",
    "print(\"Best Parameters:\", best_params)"
   ]
  },
  {
   "cell_type": "code",
   "execution_count": 19,
   "id": "db167e07",
   "metadata": {},
   "outputs": [
    {
     "data": {
      "image/png": "[encoded data removed]",
      "text/plain": [
       "<Figure size 640x480 with 2 Axes>"
      ]
     },
     "metadata": {},
     "output_type": "display_data"
    }
   ],
   "source": [
    "cm = confusion_matrix(y_test, y_pred_best)\n",
    "disp = ConfusionMatrixDisplay(confusion_matrix=cm, display_labels=best_model.classes_)\n",
    "# Display the confusion matrix\n",
    "disp.plot(cmap='Blues')\n",
    "plt.title(f'Confusion Matrix - Logistic Regression with PCA - accuracy: {accuracy_score(y_test, y_pred_best):.4f}')\n",
    "plt.tight_layout()\n",
    "plt.show()"
   ]
  },
  {
   "cell_type": "markdown",
   "id": "c6ae3887",
   "metadata": {},
   "source": [
    "## Classification of Unhealthy plants: Ralstonia vs Fusarium"
   ]
  },
  {
   "cell_type": "markdown",
   "id": "930df4d4",
   "metadata": {},
   "source": [
    "#### Data processing for classification"
   ]
  },
  {
   "cell_type": "code",
   "execution_count": 20,
   "id": "62ddc99d",
   "metadata": {},
   "outputs": [
    {
     "name": "stdout",
     "output_type": "stream",
     "text": [
      "Tratamiento\n",
      "Ralstonia    30\n",
      "Fusarium     30\n",
      "Name: count, dtype: int64\n"
     ]
    },
    {
     "data": {
      "text/html": [
       "<div>\n",
       "<style scoped>\n",
       "    .dataframe tbody tr th:only-of-type {\n",
       "        vertical-align: middle;\n",
       "    }\n",
       "\n",
       "    .dataframe tbody tr th {\n",
       "        vertical-align: top;\n",
       "    }\n",
       "\n",
       "    .dataframe thead th {\n",
       "        text-align: right;\n",
       "    }\n",
       "</style>\n",
       "<table border=\"1\" class=\"dataframe\">\n",
       "  <thead>\n",
       "    <tr style=\"text-align: right;\">\n",
       "      <th></th>\n",
       "      <th>Tratamiento</th>\n",
       "      <th>Planta</th>\n",
       "      <th>350</th>\n",
       "      <th>351</th>\n",
       "      <th>352</th>\n",
       "      <th>353</th>\n",
       "      <th>354</th>\n",
       "      <th>355</th>\n",
       "      <th>356</th>\n",
       "      <th>357</th>\n",
       "      <th>...</th>\n",
       "      <th>2491</th>\n",
       "      <th>2492</th>\n",
       "      <th>2493</th>\n",
       "      <th>2494</th>\n",
       "      <th>2495</th>\n",
       "      <th>2496</th>\n",
       "      <th>2497</th>\n",
       "      <th>2498</th>\n",
       "      <th>2499</th>\n",
       "      <th>2500</th>\n",
       "    </tr>\n",
       "  </thead>\n",
       "  <tbody>\n",
       "    <tr>\n",
       "      <th>30</th>\n",
       "      <td>Ralstonia</td>\n",
       "      <td>1</td>\n",
       "      <td>0.076276</td>\n",
       "      <td>0.073734</td>\n",
       "      <td>0.080145</td>\n",
       "      <td>0.074904</td>\n",
       "      <td>0.069138</td>\n",
       "      <td>0.066730</td>\n",
       "      <td>0.064755</td>\n",
       "      <td>0.064568</td>\n",
       "      <td>...</td>\n",
       "      <td>0.034109</td>\n",
       "      <td>0.033864</td>\n",
       "      <td>0.033540</td>\n",
       "      <td>0.033337</td>\n",
       "      <td>0.033148</td>\n",
       "      <td>0.032995</td>\n",
       "      <td>0.032992</td>\n",
       "      <td>0.032844</td>\n",
       "      <td>0.032588</td>\n",
       "      <td>0.032446</td>\n",
       "    </tr>\n",
       "    <tr>\n",
       "      <th>31</th>\n",
       "      <td>Ralstonia</td>\n",
       "      <td>2</td>\n",
       "      <td>0.068150</td>\n",
       "      <td>0.065385</td>\n",
       "      <td>0.069024</td>\n",
       "      <td>0.065933</td>\n",
       "      <td>0.063197</td>\n",
       "      <td>0.060940</td>\n",
       "      <td>0.054312</td>\n",
       "      <td>0.053331</td>\n",
       "      <td>...</td>\n",
       "      <td>0.034582</td>\n",
       "      <td>0.034368</td>\n",
       "      <td>0.034120</td>\n",
       "      <td>0.033906</td>\n",
       "      <td>0.033664</td>\n",
       "      <td>0.033526</td>\n",
       "      <td>0.033501</td>\n",
       "      <td>0.033339</td>\n",
       "      <td>0.033150</td>\n",
       "      <td>0.033019</td>\n",
       "    </tr>\n",
       "    <tr>\n",
       "      <th>32</th>\n",
       "      <td>Ralstonia</td>\n",
       "      <td>3</td>\n",
       "      <td>0.062960</td>\n",
       "      <td>0.059255</td>\n",
       "      <td>0.062903</td>\n",
       "      <td>0.060468</td>\n",
       "      <td>0.056111</td>\n",
       "      <td>0.052244</td>\n",
       "      <td>0.049260</td>\n",
       "      <td>0.051392</td>\n",
       "      <td>...</td>\n",
       "      <td>0.033847</td>\n",
       "      <td>0.033737</td>\n",
       "      <td>0.033617</td>\n",
       "      <td>0.033446</td>\n",
       "      <td>0.033250</td>\n",
       "      <td>0.033088</td>\n",
       "      <td>0.032845</td>\n",
       "      <td>0.032746</td>\n",
       "      <td>0.032786</td>\n",
       "      <td>0.032706</td>\n",
       "    </tr>\n",
       "    <tr>\n",
       "      <th>33</th>\n",
       "      <td>Ralstonia</td>\n",
       "      <td>4</td>\n",
       "      <td>0.070999</td>\n",
       "      <td>0.067527</td>\n",
       "      <td>0.072041</td>\n",
       "      <td>0.066671</td>\n",
       "      <td>0.062104</td>\n",
       "      <td>0.060588</td>\n",
       "      <td>0.057448</td>\n",
       "      <td>0.059691</td>\n",
       "      <td>...</td>\n",
       "      <td>0.028614</td>\n",
       "      <td>0.028435</td>\n",
       "      <td>0.028270</td>\n",
       "      <td>0.028110</td>\n",
       "      <td>0.028059</td>\n",
       "      <td>0.027936</td>\n",
       "      <td>0.027703</td>\n",
       "      <td>0.027637</td>\n",
       "      <td>0.027699</td>\n",
       "      <td>0.027606</td>\n",
       "    </tr>\n",
       "    <tr>\n",
       "      <th>34</th>\n",
       "      <td>Ralstonia</td>\n",
       "      <td>5</td>\n",
       "      <td>0.064629</td>\n",
       "      <td>0.061472</td>\n",
       "      <td>0.068240</td>\n",
       "      <td>0.066059</td>\n",
       "      <td>0.061974</td>\n",
       "      <td>0.058884</td>\n",
       "      <td>0.055603</td>\n",
       "      <td>0.055067</td>\n",
       "      <td>...</td>\n",
       "      <td>0.029979</td>\n",
       "      <td>0.029839</td>\n",
       "      <td>0.029591</td>\n",
       "      <td>0.029456</td>\n",
       "      <td>0.029399</td>\n",
       "      <td>0.029272</td>\n",
       "      <td>0.029167</td>\n",
       "      <td>0.029009</td>\n",
       "      <td>0.028745</td>\n",
       "      <td>0.028642</td>\n",
       "    </tr>\n",
       "  </tbody>\n",
       "</table>\n",
       "<p>5 rows × 2153 columns</p>\n",
       "</div>"
      ],
      "text/plain": [
       "   Tratamiento  Planta       350       351       352       353       354  \\\n",
       "30   Ralstonia       1  0.076276  0.073734  0.080145  0.074904  0.069138   \n",
       "31   Ralstonia       2  0.068150  0.065385  0.069024  0.065933  0.063197   \n",
       "32   Ralstonia       3  0.062960  0.059255  0.062903  0.060468  0.056111   \n",
       "33   Ralstonia       4  0.070999  0.067527  0.072041  0.066671  0.062104   \n",
       "34   Ralstonia       5  0.064629  0.061472  0.068240  0.066059  0.061974   \n",
       "\n",
       "         355       356       357  ...      2491      2492      2493      2494  \\\n",
       "30  0.066730  0.064755  0.064568  ...  0.034109  0.033864  0.033540  0.033337   \n",
       "31  0.060940  0.054312  0.053331  ...  0.034582  0.034368  0.034120  0.033906   \n",
       "32  0.052244  0.049260  0.051392  ...  0.033847  0.033737  0.033617  0.033446   \n",
       "33  0.060588  0.057448  0.059691  ...  0.028614  0.028435  0.028270  0.028110   \n",
       "34  0.058884  0.055603  0.055067  ...  0.029979  0.029839  0.029591  0.029456   \n",
       "\n",
       "        2495      2496      2497      2498      2499      2500  \n",
       "30  0.033148  0.032995  0.032992  0.032844  0.032588  0.032446  \n",
       "31  0.033664  0.033526  0.033501  0.033339  0.033150  0.033019  \n",
       "32  0.033250  0.033088  0.032845  0.032746  0.032786  0.032706  \n",
       "33  0.028059  0.027936  0.027703  0.027637  0.027699  0.027606  \n",
       "34  0.029399  0.029272  0.029167  0.029009  0.028745  0.028642  \n",
       "\n",
       "[5 rows x 2153 columns]"
      ]
     },
     "execution_count": 20,
     "metadata": {},
     "output_type": "execute_result"
    }
   ],
   "source": [
    "\n",
    "df_DiseaseType = df3.copy()\n",
    "\n",
    "# Lets filter only unhealthy plants\n",
    "df_DiseaseType = df_DiseaseType[(df_DiseaseType['Tratamiento'] == 'Ralstonia') | (df_DiseaseType['Tratamiento'] == 'Fusarium')]\n",
    "\n",
    "print(df_DiseaseType['Tratamiento'].value_counts())\n",
    "df_DiseaseType.head()"
   ]
  },
  {
   "cell_type": "code",
   "execution_count": 21,
   "id": "a9d38d4b",
   "metadata": {},
   "outputs": [],
   "source": [
    "# data treatment\n",
    "\n",
    "# Data preparation for model production\n",
    "X = df_DiseaseType.iloc[:, 3:].values\n",
    "\n",
    "y = df_DiseaseType['Tratamiento'].values\n",
    "\n",
    "#split the data into training and testing sets\n",
    "X_train, X_test, y_train, y_test = train_test_split(X, y, test_size=0.2, random_state=42, stratify=y)"
   ]
  },
  {
   "cell_type": "markdown",
   "id": "53fac822",
   "metadata": {},
   "source": [
    "### Logistic Regression"
   ]
  },
  {
   "cell_type": "code",
   "execution_count": 22,
   "id": "a5986ba0",
   "metadata": {},
   "outputs": [
    {
     "name": "stdout",
     "output_type": "stream",
     "text": [
      "Best Model Accuracy: 1.0\n",
      "Best Model Classification Report:\n",
      "               precision    recall  f1-score   support\n",
      "\n",
      "    Fusarium       1.00      1.00      1.00         6\n",
      "   Ralstonia       1.00      1.00      1.00         6\n",
      "\n",
      "    accuracy                           1.00        12\n",
      "   macro avg       1.00      1.00      1.00        12\n",
      "weighted avg       1.00      1.00      1.00        12\n",
      "\n"
     ]
    }
   ],
   "source": [
    "# Define a more comprehensive parameter grid for hyperparameter tuning\n",
    "param_grid = [\n",
    "    # L1 regularization options\n",
    "    {\n",
    "        'PCA__n_components': [5, 10, 15, 20, 30],\n",
    "        'model__penalty': ['l1'],\n",
    "        'model__C': [0.001, 0.01, 0.1, 1, 10, 100],\n",
    "        'model__solver': ['liblinear', 'saga'],\n",
    "        'model__class_weight': [None, 'balanced']\n",
    "    },\n",
    "    # L2 regularization options\n",
    "    {\n",
    "        'PCA__n_components': [5, 10, 15, 20, 30],\n",
    "        'model__penalty': ['l2'],\n",
    "        'model__C': [0.001, 0.01, 0.1, 1, 10, 100],\n",
    "        'model__solver': ['liblinear', 'saga', 'lbfgs'],\n",
    "        'model__class_weight': [None, 'balanced']\n",
    "    },\n",
    "    # Elasticnet option (saga only)\n",
    "    {\n",
    "        'PCA__n_components': [5, 10, 15, 20, 30],\n",
    "        'model__penalty': ['elasticnet'],\n",
    "        'model__C': [0.001, 0.01, 0.1, 1, 10, 100],\n",
    "        'model__solver': ['saga'],\n",
    "        'model__l1_ratio': [0.2, 0.5, 0.8],\n",
    "        'model__class_weight': [None, 'balanced']\n",
    "    }\n",
    "]\n",
    "\n",
    "# Create a pipeline\n",
    "pipeline = Pipeline([\n",
    "    ('PCA', PCA()),\n",
    "    ('model', LogisticRegression(max_iter=1000))\n",
    "])\n",
    "\n",
    "grid_search = GridSearchCV(pipeline, param_grid, cv=5, n_jobs=-1, scoring='accuracy')\n",
    "grid_search.fit(X_train, y_train)\n",
    "\n",
    "best_model = grid_search.best_estimator_\n",
    "# Make predictions with the best model\n",
    "y_pred_best = best_model.predict(X_test)\n",
    "# Evaluate the best model\n",
    "print(\"Best Model Accuracy:\", accuracy_score(y_test, y_pred_best))\n",
    "print(\"Best Model Classification Report:\\n\", classification_report(y_test, y_pred_best))\n"
   ]
  },
  {
   "cell_type": "code",
   "execution_count": 23,
   "id": "c6f560a0",
   "metadata": {},
   "outputs": [
    {
     "name": "stdout",
     "output_type": "stream",
     "text": [
      "Best Parameters: {'PCA__n_components': 10, 'model__C': 100, 'model__class_weight': None, 'model__penalty': 'l1', 'model__solver': 'liblinear'}\n"
     ]
    }
   ],
   "source": [
    "# Parameter for the best model found\n",
    "best_params = grid_search.best_params_\n",
    "print(\"Best Parameters:\", best_params)"
   ]
  },
  {
   "cell_type": "code",
   "execution_count": 24,
   "id": "8baad181",
   "metadata": {},
   "outputs": [
    {
     "data": {
      "image/png": "[encoded data removed]",
      "text/plain": [
       "<Figure size 640x480 with 2 Axes>"
      ]
     },
     "metadata": {},
     "output_type": "display_data"
    }
   ],
   "source": [
    "cm = confusion_matrix(y_test, y_pred_best)\n",
    "disp = ConfusionMatrixDisplay(confusion_matrix=cm, display_labels=best_model.classes_)\n",
    "# Display the confusion matrix\n",
    "disp.plot(cmap='Blues')\n",
    "plt.title(f'Confusion Matrix - Logistic Regression with PCA - accuracy: {accuracy_score(y_test, y_pred_best):.4f}')\n",
    "plt.tight_layout()\n",
    "plt.show()"
   ]
  }
 ],
 "metadata": {
  "kernelspec": {
   "display_name": "Python 3",
   "language": "python",
   "name": "python3"
  },
  "language_info": {
   "codemirror_mode": {
    "name": "ipython",
    "version": 3
   },
   "file_extension": ".py",
   "mimetype": "text/x-python",
   "name": "python",
   "nbconvert_exporter": "python",
   "pygments_lexer": "ipython3",
   "version": "3.13.7"
  }
 },
 "nbformat": 4,
 "nbformat_minor": 5
}
