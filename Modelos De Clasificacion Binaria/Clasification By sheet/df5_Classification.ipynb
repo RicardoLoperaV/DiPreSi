{
 "cells": [
  {
   "cell_type": "code",
   "execution_count": 1,
   "id": "ae553188",
   "metadata": {},
   "outputs": [],
   "source": [
    "import sys\n",
    "from pathlib import Path\n",
    "# Get the repository root (2 levels up from current notebook)\n",
    "repo_root = Path(__file__).parent.parent.parent if '__file__' in globals() else Path.cwd().parent.parent\n",
    "sys.path.insert(0, str(repo_root))\n",
    "\n",
    "# import necessary libraries\n",
    "import os\n",
    "import numpy as np\n",
    "import pandas as pd\n",
    "import matplotlib.pyplot as plt\n",
    "import seaborn as sns\n",
    "from sklearn.decomposition import PCA\n",
    "from sklearn.manifold import TSNE, trustworthiness\n",
    "import Template\n",
    "from sklearn.neighbors import KNeighborsClassifier\n",
    "from sklearn.metrics import classification_report, confusion_matrix, accuracy_score, ConfusionMatrixDisplay, precision_score, recall_score, f1_score\n",
    "from sklearn.model_selection import train_test_split, GridSearchCV\n",
    "from sklearn.pipeline import Pipeline\n",
    "from sklearn.svm import SVC\n",
    "from tensorflow import keras\n",
    "from keras import layers\n",
    "from sklearn.preprocessing import LabelEncoder\n",
    "from sklearn.linear_model import LogisticRegression\n",
    "from sklearn.ensemble import BaggingClassifier\n",
    "from sklearn.tree import DecisionTreeClassifier\n",
    "\n"
   ]
  },
  {
   "cell_type": "code",
   "execution_count": 2,
   "id": "6381704c",
   "metadata": {},
   "outputs": [],
   "source": [
    "Template = Template.Template()\n",
    "\n",
    "# Build the path to the Excel file in the repository root\n",
    "data_path = os.path.join(os.path.dirname(os.getcwd()), '..', 'Datos1_InteraccionesNIR.xlsx')\n",
    "\n",
    "\n",
    "# import the data from all sheets of the Excel file\n",
    "\n",
    "df5 = pd.read_excel(data_path, sheet_name=5)"
   ]
  },
  {
   "cell_type": "code",
   "execution_count": 3,
   "id": "0aab0ef9",
   "metadata": {},
   "outputs": [
    {
     "name": "stdout",
     "output_type": "stream",
     "text": [
      "Tratamiento\n",
      "Control       30\n",
      "Fusarium      30\n",
      "E_Hidrico     30\n",
      "Ral_Fus       30\n",
      "Fus_EH        30\n",
      "Ral_EH        30\n",
      "Fus_EH_Ral    30\n",
      "Ralstonia     28\n",
      "Name: count, dtype: int64\n"
     ]
    }
   ],
   "source": [
    "print(df5['Tratamiento'].value_counts())"
   ]
  },
  {
   "cell_type": "markdown",
   "id": "02fa2b34",
   "metadata": {},
   "source": [
    "## Classification of Healthy plants vs Unhealthy plants"
   ]
  },
  {
   "cell_type": "markdown",
   "id": "77bead1d",
   "metadata": {},
   "source": [
    "#### Data processing for classification"
   ]
  },
  {
   "cell_type": "code",
   "execution_count": 4,
   "id": "30afa302",
   "metadata": {},
   "outputs": [
    {
     "data": {
      "text/html": [
       "<div>\n",
       "<style scoped>\n",
       "    .dataframe tbody tr th:only-of-type {\n",
       "        vertical-align: middle;\n",
       "    }\n",
       "\n",
       "    .dataframe tbody tr th {\n",
       "        vertical-align: top;\n",
       "    }\n",
       "\n",
       "    .dataframe thead th {\n",
       "        text-align: right;\n",
       "    }\n",
       "</style>\n",
       "<table border=\"1\" class=\"dataframe\">\n",
       "  <thead>\n",
       "    <tr style=\"text-align: right;\">\n",
       "      <th></th>\n",
       "      <th>Tratamiento</th>\n",
       "      <th>350</th>\n",
       "      <th>351</th>\n",
       "      <th>352</th>\n",
       "      <th>353</th>\n",
       "      <th>354</th>\n",
       "      <th>355</th>\n",
       "      <th>356</th>\n",
       "      <th>357</th>\n",
       "      <th>358</th>\n",
       "      <th>...</th>\n",
       "      <th>2492</th>\n",
       "      <th>2493</th>\n",
       "      <th>2494</th>\n",
       "      <th>2495</th>\n",
       "      <th>2496</th>\n",
       "      <th>2497</th>\n",
       "      <th>2498</th>\n",
       "      <th>2499</th>\n",
       "      <th>2500</th>\n",
       "      <th>Health_Status</th>\n",
       "    </tr>\n",
       "  </thead>\n",
       "  <tbody>\n",
       "    <tr>\n",
       "      <th>0</th>\n",
       "      <td>Control</td>\n",
       "      <td>0.080177</td>\n",
       "      <td>0.078760</td>\n",
       "      <td>0.082160</td>\n",
       "      <td>0.076248</td>\n",
       "      <td>0.071906</td>\n",
       "      <td>0.070184</td>\n",
       "      <td>0.064798</td>\n",
       "      <td>0.063928</td>\n",
       "      <td>0.065339</td>\n",
       "      <td>...</td>\n",
       "      <td>0.035158</td>\n",
       "      <td>0.035075</td>\n",
       "      <td>0.034884</td>\n",
       "      <td>0.034635</td>\n",
       "      <td>0.034496</td>\n",
       "      <td>0.034324</td>\n",
       "      <td>0.034172</td>\n",
       "      <td>0.034152</td>\n",
       "      <td>0.034039</td>\n",
       "      <td>Healthy</td>\n",
       "    </tr>\n",
       "    <tr>\n",
       "      <th>1</th>\n",
       "      <td>Control</td>\n",
       "      <td>0.074039</td>\n",
       "      <td>0.070126</td>\n",
       "      <td>0.072451</td>\n",
       "      <td>0.068987</td>\n",
       "      <td>0.063071</td>\n",
       "      <td>0.058199</td>\n",
       "      <td>0.056850</td>\n",
       "      <td>0.056829</td>\n",
       "      <td>0.058649</td>\n",
       "      <td>...</td>\n",
       "      <td>0.031430</td>\n",
       "      <td>0.031367</td>\n",
       "      <td>0.031190</td>\n",
       "      <td>0.030952</td>\n",
       "      <td>0.030767</td>\n",
       "      <td>0.030535</td>\n",
       "      <td>0.030396</td>\n",
       "      <td>0.030340</td>\n",
       "      <td>0.030264</td>\n",
       "      <td>Healthy</td>\n",
       "    </tr>\n",
       "    <tr>\n",
       "      <th>2</th>\n",
       "      <td>Control</td>\n",
       "      <td>0.078362</td>\n",
       "      <td>0.076020</td>\n",
       "      <td>0.081738</td>\n",
       "      <td>0.076870</td>\n",
       "      <td>0.071523</td>\n",
       "      <td>0.068907</td>\n",
       "      <td>0.066183</td>\n",
       "      <td>0.065744</td>\n",
       "      <td>0.066988</td>\n",
       "      <td>...</td>\n",
       "      <td>0.033847</td>\n",
       "      <td>0.033764</td>\n",
       "      <td>0.033584</td>\n",
       "      <td>0.033396</td>\n",
       "      <td>0.033210</td>\n",
       "      <td>0.032949</td>\n",
       "      <td>0.032791</td>\n",
       "      <td>0.032706</td>\n",
       "      <td>0.032602</td>\n",
       "      <td>Healthy</td>\n",
       "    </tr>\n",
       "    <tr>\n",
       "      <th>3</th>\n",
       "      <td>Control</td>\n",
       "      <td>0.068186</td>\n",
       "      <td>0.066410</td>\n",
       "      <td>0.070268</td>\n",
       "      <td>0.066827</td>\n",
       "      <td>0.063998</td>\n",
       "      <td>0.062501</td>\n",
       "      <td>0.057773</td>\n",
       "      <td>0.058305</td>\n",
       "      <td>0.059360</td>\n",
       "      <td>...</td>\n",
       "      <td>0.028623</td>\n",
       "      <td>0.028487</td>\n",
       "      <td>0.028352</td>\n",
       "      <td>0.028190</td>\n",
       "      <td>0.028103</td>\n",
       "      <td>0.028099</td>\n",
       "      <td>0.027965</td>\n",
       "      <td>0.027803</td>\n",
       "      <td>0.027681</td>\n",
       "      <td>Healthy</td>\n",
       "    </tr>\n",
       "    <tr>\n",
       "      <th>4</th>\n",
       "      <td>Control</td>\n",
       "      <td>0.082644</td>\n",
       "      <td>0.077164</td>\n",
       "      <td>0.082672</td>\n",
       "      <td>0.077808</td>\n",
       "      <td>0.075697</td>\n",
       "      <td>0.076032</td>\n",
       "      <td>0.068969</td>\n",
       "      <td>0.068713</td>\n",
       "      <td>0.070741</td>\n",
       "      <td>...</td>\n",
       "      <td>0.038249</td>\n",
       "      <td>0.038118</td>\n",
       "      <td>0.038014</td>\n",
       "      <td>0.037958</td>\n",
       "      <td>0.037872</td>\n",
       "      <td>0.037791</td>\n",
       "      <td>0.037685</td>\n",
       "      <td>0.037531</td>\n",
       "      <td>0.037459</td>\n",
       "      <td>Healthy</td>\n",
       "    </tr>\n",
       "  </tbody>\n",
       "</table>\n",
       "<p>5 rows × 2153 columns</p>\n",
       "</div>"
      ],
      "text/plain": [
       "  Tratamiento       350       351       352       353       354       355  \\\n",
       "0     Control  0.080177  0.078760  0.082160  0.076248  0.071906  0.070184   \n",
       "1     Control  0.074039  0.070126  0.072451  0.068987  0.063071  0.058199   \n",
       "2     Control  0.078362  0.076020  0.081738  0.076870  0.071523  0.068907   \n",
       "3     Control  0.068186  0.066410  0.070268  0.066827  0.063998  0.062501   \n",
       "4     Control  0.082644  0.077164  0.082672  0.077808  0.075697  0.076032   \n",
       "\n",
       "        356       357       358  ...      2492      2493      2494      2495  \\\n",
       "0  0.064798  0.063928  0.065339  ...  0.035158  0.035075  0.034884  0.034635   \n",
       "1  0.056850  0.056829  0.058649  ...  0.031430  0.031367  0.031190  0.030952   \n",
       "2  0.066183  0.065744  0.066988  ...  0.033847  0.033764  0.033584  0.033396   \n",
       "3  0.057773  0.058305  0.059360  ...  0.028623  0.028487  0.028352  0.028190   \n",
       "4  0.068969  0.068713  0.070741  ...  0.038249  0.038118  0.038014  0.037958   \n",
       "\n",
       "       2496      2497      2498      2499      2500  Health_Status  \n",
       "0  0.034496  0.034324  0.034172  0.034152  0.034039        Healthy  \n",
       "1  0.030767  0.030535  0.030396  0.030340  0.030264        Healthy  \n",
       "2  0.033210  0.032949  0.032791  0.032706  0.032602        Healthy  \n",
       "3  0.028103  0.028099  0.027965  0.027803  0.027681        Healthy  \n",
       "4  0.037872  0.037791  0.037685  0.037531  0.037459        Healthy  \n",
       "\n",
       "[5 rows x 2153 columns]"
      ]
     },
     "execution_count": 4,
     "metadata": {},
     "output_type": "execute_result"
    }
   ],
   "source": [
    "# Make a new column 'Health_Status' based on 'Tratamiento'\n",
    "df_HvsUnH = df5.copy()\n",
    "\n",
    "df_HvsUnH['Health_Status'] = df_HvsUnH['Tratamiento'].apply(lambda x: 'Healthy' if x == 'Control' else 'Unhealthy')\n",
    "\n",
    "df_HvsUnH.head()"
   ]
  },
  {
   "cell_type": "code",
   "execution_count": 5,
   "id": "923e0cb5",
   "metadata": {},
   "outputs": [],
   "source": [
    "# data treatment\n",
    "\n",
    "# Data preparation for model production\n",
    "df_X = df_HvsUnH.drop(columns=['Health_Status'])\n",
    "\n",
    "X = df_X.iloc[:, 3:].values  \n",
    "\n",
    "y = df_HvsUnH['Health_Status'].values\n",
    "\n",
    "#split the data into training and testing sets\n",
    "X_train, X_test, y_train, y_test = train_test_split(X, y, test_size=0.3, random_state=42, stratify=y)"
   ]
  },
  {
   "cell_type": "markdown",
   "id": "aa9d184d",
   "metadata": {},
   "source": [
    "### Logistic Regression "
   ]
  },
  {
   "cell_type": "code",
   "execution_count": 6,
   "id": "0b2fb7fa",
   "metadata": {},
   "outputs": [
    {
     "name": "stdout",
     "output_type": "stream",
     "text": [
      "Best Model Accuracy: 0.875\n",
      "Best Model Classification Report:\n",
      "               precision    recall  f1-score   support\n",
      "\n",
      "     Healthy       0.00      0.00      0.00         9\n",
      "   Unhealthy       0.88      1.00      0.93        63\n",
      "\n",
      "    accuracy                           0.88        72\n",
      "   macro avg       0.44      0.50      0.47        72\n",
      "weighted avg       0.77      0.88      0.82        72\n",
      "\n"
     ]
    },
    {
     "name": "stderr",
     "output_type": "stream",
     "text": [
      "c:\\Users\\ricar\\AppData\\Local\\Programs\\Python\\Python313\\Lib\\site-packages\\sklearn\\metrics\\_classification.py:1731: UndefinedMetricWarning: Precision is ill-defined and being set to 0.0 in labels with no predicted samples. Use `zero_division` parameter to control this behavior.\n",
      "  _warn_prf(average, modifier, f\"{metric.capitalize()} is\", result.shape[0])\n",
      "c:\\Users\\ricar\\AppData\\Local\\Programs\\Python\\Python313\\Lib\\site-packages\\sklearn\\metrics\\_classification.py:1731: UndefinedMetricWarning: Precision is ill-defined and being set to 0.0 in labels with no predicted samples. Use `zero_division` parameter to control this behavior.\n",
      "  _warn_prf(average, modifier, f\"{metric.capitalize()} is\", result.shape[0])\n",
      "c:\\Users\\ricar\\AppData\\Local\\Programs\\Python\\Python313\\Lib\\site-packages\\sklearn\\metrics\\_classification.py:1731: UndefinedMetricWarning: Precision is ill-defined and being set to 0.0 in labels with no predicted samples. Use `zero_division` parameter to control this behavior.\n",
      "  _warn_prf(average, modifier, f\"{metric.capitalize()} is\", result.shape[0])\n"
     ]
    }
   ],
   "source": [
    "# Define a more comprehensive parameter grid for hyperparameter tuning\n",
    "param_grid = [\n",
    "    # L1 regularization options\n",
    "    {\n",
    "        'PCA__n_components': [2],\n",
    "        'model__penalty': ['l1'],\n",
    "        'model__C': [0.001, 0.01, 0.1, 1, 10, 100],\n",
    "        'model__solver': ['liblinear', 'saga'],\n",
    "        'model__class_weight': [None, 'balanced']\n",
    "    },\n",
    "    # L2 regularization options\n",
    "    {\n",
    "        'PCA__n_components': [2],\n",
    "        'model__penalty': ['l2'],\n",
    "        'model__C': [0.001, 0.01, 0.1, 1, 10, 100],\n",
    "        'model__solver': ['liblinear', 'saga', 'lbfgs'],\n",
    "        'model__class_weight': [None, 'balanced']\n",
    "    },\n",
    "    # Elasticnet option (saga only)\n",
    "    {\n",
    "        'PCA__n_components': [2],\n",
    "        'model__penalty': ['elasticnet'],\n",
    "        'model__C': [0.001, 0.01, 0.1, 1, 10, 100],\n",
    "        'model__solver': ['saga'],\n",
    "        'model__l1_ratio': [0.2, 0.5, 0.8],\n",
    "        'model__class_weight': [None, 'balanced']\n",
    "    }\n",
    "]\n",
    "\n",
    "# Create a pipeline\n",
    "pipeline = Pipeline([\n",
    "    ('PCA', PCA()),\n",
    "    ('model', LogisticRegression(max_iter=1000))\n",
    "])\n",
    "\n",
    "grid_search = GridSearchCV(pipeline, param_grid, cv=5, n_jobs=-1, scoring='accuracy')\n",
    "grid_search.fit(X_train, y_train)\n",
    "\n",
    "best_model = grid_search.best_estimator_\n",
    "# Make predictions with the best model\n",
    "y_pred_best = best_model.predict(X_test)\n",
    "# Evaluate the best model\n",
    "print(\"Best Model Accuracy:\", accuracy_score(y_test, y_pred_best))\n",
    "print(\"Best Model Classification Report:\\n\", classification_report(y_test, y_pred_best))"
   ]
  },
  {
   "cell_type": "code",
   "execution_count": 7,
   "id": "cabaa972",
   "metadata": {},
   "outputs": [
    {
     "name": "stdout",
     "output_type": "stream",
     "text": [
      "Best Parameters: {'PCA__n_components': 2, 'model__C': 0.001, 'model__class_weight': None, 'model__penalty': 'l1', 'model__solver': 'saga'}\n"
     ]
    }
   ],
   "source": [
    "# Parameter for the best model found\n",
    "best_params = grid_search.best_params_\n",
    "print(\"Best Parameters:\", best_params)"
   ]
  },
  {
   "cell_type": "code",
   "execution_count": 8,
   "id": "0a613183",
   "metadata": {},
   "outputs": [
    {
     "data": {
      "image/png": "[encoded data removed]",
      "text/plain": [
       "<Figure size 640x480 with 2 Axes>"
      ]
     },
     "metadata": {},
     "output_type": "display_data"
    }
   ],
   "source": [
    "cm = confusion_matrix(y_test, y_pred_best)\n",
    "disp = ConfusionMatrixDisplay(confusion_matrix=cm, display_labels=best_model.classes_)\n",
    "# Display the confusion matrix\n",
    "disp.plot(cmap='Blues')\n",
    "plt.title(f'Confusion Matrix - Logistic Regression with PCA - accuracy: {accuracy_score(y_test, y_pred_best):.4f}')\n",
    "plt.tight_layout()\n",
    "plt.show()"
   ]
  },
  {
   "cell_type": "markdown",
   "id": "384c3e22",
   "metadata": {},
   "source": [
    "### SVM"
   ]
  },
  {
   "cell_type": "code",
   "execution_count": 9,
   "id": "9dc10e2f",
   "metadata": {},
   "outputs": [
    {
     "name": "stdout",
     "output_type": "stream",
     "text": [
      "Fitting 5 folds for each of 4320 candidates, totalling 21600 fits\n",
      "Best cross-validation score (Accuracy): 0.8995\n",
      "Best parameters found:\n",
      "{'pca__n_components': 20, 'svm__C': 100, 'svm__class_weight': 'balanced', 'svm__degree': 2, 'svm__gamma': 'auto', 'svm__kernel': 'rbf'}\n",
      "\n",
      "Accuracy on the test set: 0.8750\n"
     ]
    }
   ],
   "source": [
    "param_grid = {\n",
    "    'pca__n_components': [5, 10, 15, 20, 30, 40],\n",
    "    'svm__C': [0.01, 0.1, 1, 10, 100],\n",
    "    'svm__kernel': ['linear', 'rbf', 'poly', 'sigmoid'],\n",
    "    'svm__gamma': ['scale', 'auto', 0.001, 0.01, 0.1, 1],\n",
    "    'svm__degree': [2, 3, 4],\n",
    "    'svm__class_weight': ['balanced', None]\n",
    "}\n",
    "\n",
    "pipeline = Pipeline([    \n",
    "    ('pca', PCA()),                   \n",
    "    ('svm', SVC())  \n",
    "])\n",
    "\n",
    "grid_search = GridSearchCV(pipeline, param_grid, cv=5, n_jobs=-1, verbose=1, scoring='balanced_accuracy')\n",
    "\n",
    "grid_search.fit(X_train, y_train)\n",
    "\n",
    "print(f\"Best cross-validation score (Accuracy): {grid_search.best_score_:.4f}\")\n",
    "print(\"Best parameters found:\")\n",
    "print(grid_search.best_params_)\n",
    "\n",
    "best_model = grid_search.best_estimator_\n",
    "accuracy = best_model.score(X_test, y_test)\n",
    "print(f\"\\nAccuracy on the test set: {accuracy:.4f}\")\n",
    "\n",
    "y_pred_SVM = best_model.predict(X_test)"
   ]
  },
  {
   "cell_type": "code",
   "execution_count": 10,
   "id": "448b73e7",
   "metadata": {},
   "outputs": [
    {
     "data": {
      "image/png": "[encoded data removed]",
      "text/plain": [
       "<Figure size 640x480 with 2 Axes>"
      ]
     },
     "metadata": {},
     "output_type": "display_data"
    }
   ],
   "source": [
    "cm = confusion_matrix(y_test, y_pred_SVM)\n",
    "disp = ConfusionMatrixDisplay(confusion_matrix=cm, display_labels=best_model.classes_)\n",
    "# Display the confusion matrix\n",
    "disp.plot(cmap='Blues')\n",
    "plt.title(f'Confusion Matrix - SVM with PCA - accuracy: {accuracy_score(y_test, y_pred_SVM):.4f}')\n",
    "plt.tight_layout()\n",
    "plt.show()"
   ]
  },
  {
   "cell_type": "markdown",
   "id": "0c3a3586",
   "metadata": {},
   "source": [
    "## Classification of Unhealthy plants: Hidric Stress vs fungal diseases (includes combined fungal diseases)"
   ]
  },
  {
   "cell_type": "markdown",
   "id": "f397e1eb",
   "metadata": {},
   "source": [
    "### Data Processing"
   ]
  },
  {
   "cell_type": "code",
   "execution_count": 11,
   "id": "ea224dc1",
   "metadata": {},
   "outputs": [
    {
     "name": "stdout",
     "output_type": "stream",
     "text": [
      "Tratamiento\n",
      "Fungus_Combined    180\n",
      "Hidric_Stress       30\n",
      "Name: count, dtype: int64\n"
     ]
    },
    {
     "data": {
      "text/html": [
       "<div>\n",
       "<style scoped>\n",
       "    .dataframe tbody tr th:only-of-type {\n",
       "        vertical-align: middle;\n",
       "    }\n",
       "\n",
       "    .dataframe tbody tr th {\n",
       "        vertical-align: top;\n",
       "    }\n",
       "\n",
       "    .dataframe thead th {\n",
       "        text-align: right;\n",
       "    }\n",
       "</style>\n",
       "<table border=\"1\" class=\"dataframe\">\n",
       "  <thead>\n",
       "    <tr style=\"text-align: right;\">\n",
       "      <th></th>\n",
       "      <th>Tratamiento</th>\n",
       "      <th>Planta</th>\n",
       "      <th>350</th>\n",
       "      <th>351</th>\n",
       "      <th>352</th>\n",
       "      <th>353</th>\n",
       "      <th>354</th>\n",
       "      <th>355</th>\n",
       "      <th>356</th>\n",
       "      <th>357</th>\n",
       "      <th>...</th>\n",
       "      <th>2491</th>\n",
       "      <th>2492</th>\n",
       "      <th>2493</th>\n",
       "      <th>2494</th>\n",
       "      <th>2495</th>\n",
       "      <th>2496</th>\n",
       "      <th>2497</th>\n",
       "      <th>2498</th>\n",
       "      <th>2499</th>\n",
       "      <th>2500</th>\n",
       "    </tr>\n",
       "  </thead>\n",
       "  <tbody>\n",
       "    <tr>\n",
       "      <th>30</th>\n",
       "      <td>Fungus_Combined</td>\n",
       "      <td>1</td>\n",
       "      <td>0.076276</td>\n",
       "      <td>0.073734</td>\n",
       "      <td>0.080145</td>\n",
       "      <td>0.074904</td>\n",
       "      <td>0.069138</td>\n",
       "      <td>0.066730</td>\n",
       "      <td>0.064755</td>\n",
       "      <td>0.064568</td>\n",
       "      <td>...</td>\n",
       "      <td>0.034109</td>\n",
       "      <td>0.033864</td>\n",
       "      <td>0.033540</td>\n",
       "      <td>0.033337</td>\n",
       "      <td>0.033148</td>\n",
       "      <td>0.032995</td>\n",
       "      <td>0.032992</td>\n",
       "      <td>0.032844</td>\n",
       "      <td>0.032588</td>\n",
       "      <td>0.032446</td>\n",
       "    </tr>\n",
       "    <tr>\n",
       "      <th>31</th>\n",
       "      <td>Fungus_Combined</td>\n",
       "      <td>2</td>\n",
       "      <td>0.068150</td>\n",
       "      <td>0.065385</td>\n",
       "      <td>0.069024</td>\n",
       "      <td>0.065933</td>\n",
       "      <td>0.063197</td>\n",
       "      <td>0.060940</td>\n",
       "      <td>0.054312</td>\n",
       "      <td>0.053331</td>\n",
       "      <td>...</td>\n",
       "      <td>0.034582</td>\n",
       "      <td>0.034368</td>\n",
       "      <td>0.034120</td>\n",
       "      <td>0.033906</td>\n",
       "      <td>0.033664</td>\n",
       "      <td>0.033526</td>\n",
       "      <td>0.033501</td>\n",
       "      <td>0.033339</td>\n",
       "      <td>0.033150</td>\n",
       "      <td>0.033019</td>\n",
       "    </tr>\n",
       "    <tr>\n",
       "      <th>32</th>\n",
       "      <td>Fungus_Combined</td>\n",
       "      <td>3</td>\n",
       "      <td>0.062960</td>\n",
       "      <td>0.059255</td>\n",
       "      <td>0.062903</td>\n",
       "      <td>0.060468</td>\n",
       "      <td>0.056111</td>\n",
       "      <td>0.052244</td>\n",
       "      <td>0.049260</td>\n",
       "      <td>0.051392</td>\n",
       "      <td>...</td>\n",
       "      <td>0.033847</td>\n",
       "      <td>0.033737</td>\n",
       "      <td>0.033617</td>\n",
       "      <td>0.033446</td>\n",
       "      <td>0.033250</td>\n",
       "      <td>0.033088</td>\n",
       "      <td>0.032845</td>\n",
       "      <td>0.032746</td>\n",
       "      <td>0.032786</td>\n",
       "      <td>0.032706</td>\n",
       "    </tr>\n",
       "    <tr>\n",
       "      <th>33</th>\n",
       "      <td>Fungus_Combined</td>\n",
       "      <td>4</td>\n",
       "      <td>0.070999</td>\n",
       "      <td>0.067527</td>\n",
       "      <td>0.072041</td>\n",
       "      <td>0.066671</td>\n",
       "      <td>0.062104</td>\n",
       "      <td>0.060588</td>\n",
       "      <td>0.057448</td>\n",
       "      <td>0.059691</td>\n",
       "      <td>...</td>\n",
       "      <td>0.028614</td>\n",
       "      <td>0.028435</td>\n",
       "      <td>0.028270</td>\n",
       "      <td>0.028110</td>\n",
       "      <td>0.028059</td>\n",
       "      <td>0.027936</td>\n",
       "      <td>0.027703</td>\n",
       "      <td>0.027637</td>\n",
       "      <td>0.027699</td>\n",
       "      <td>0.027606</td>\n",
       "    </tr>\n",
       "    <tr>\n",
       "      <th>34</th>\n",
       "      <td>Fungus_Combined</td>\n",
       "      <td>5</td>\n",
       "      <td>0.064629</td>\n",
       "      <td>0.061472</td>\n",
       "      <td>0.068240</td>\n",
       "      <td>0.066059</td>\n",
       "      <td>0.061974</td>\n",
       "      <td>0.058884</td>\n",
       "      <td>0.055603</td>\n",
       "      <td>0.055067</td>\n",
       "      <td>...</td>\n",
       "      <td>0.029979</td>\n",
       "      <td>0.029839</td>\n",
       "      <td>0.029591</td>\n",
       "      <td>0.029456</td>\n",
       "      <td>0.029399</td>\n",
       "      <td>0.029272</td>\n",
       "      <td>0.029167</td>\n",
       "      <td>0.029009</td>\n",
       "      <td>0.028745</td>\n",
       "      <td>0.028642</td>\n",
       "    </tr>\n",
       "  </tbody>\n",
       "</table>\n",
       "<p>5 rows × 2153 columns</p>\n",
       "</div>"
      ],
      "text/plain": [
       "        Tratamiento  Planta       350       351       352       353       354  \\\n",
       "30  Fungus_Combined       1  0.076276  0.073734  0.080145  0.074904  0.069138   \n",
       "31  Fungus_Combined       2  0.068150  0.065385  0.069024  0.065933  0.063197   \n",
       "32  Fungus_Combined       3  0.062960  0.059255  0.062903  0.060468  0.056111   \n",
       "33  Fungus_Combined       4  0.070999  0.067527  0.072041  0.066671  0.062104   \n",
       "34  Fungus_Combined       5  0.064629  0.061472  0.068240  0.066059  0.061974   \n",
       "\n",
       "         355       356       357  ...      2491      2492      2493      2494  \\\n",
       "30  0.066730  0.064755  0.064568  ...  0.034109  0.033864  0.033540  0.033337   \n",
       "31  0.060940  0.054312  0.053331  ...  0.034582  0.034368  0.034120  0.033906   \n",
       "32  0.052244  0.049260  0.051392  ...  0.033847  0.033737  0.033617  0.033446   \n",
       "33  0.060588  0.057448  0.059691  ...  0.028614  0.028435  0.028270  0.028110   \n",
       "34  0.058884  0.055603  0.055067  ...  0.029979  0.029839  0.029591  0.029456   \n",
       "\n",
       "        2495      2496      2497      2498      2499      2500  \n",
       "30  0.033148  0.032995  0.032992  0.032844  0.032588  0.032446  \n",
       "31  0.033664  0.033526  0.033501  0.033339  0.033150  0.033019  \n",
       "32  0.033250  0.033088  0.032845  0.032746  0.032786  0.032706  \n",
       "33  0.028059  0.027936  0.027703  0.027637  0.027699  0.027606  \n",
       "34  0.029399  0.029272  0.029167  0.029009  0.028745  0.028642  \n",
       "\n",
       "[5 rows x 2153 columns]"
      ]
     },
     "execution_count": 11,
     "metadata": {},
     "output_type": "execute_result"
    }
   ],
   "source": [
    "df_EHvsCombFungus = df3.copy()\n",
    "\n",
    "df_EHvsCombFungus = df_EHvsCombFungus[(df_EHvsCombFungus['Tratamiento'] != 'Control')]\n",
    "\n",
    "df_EHvsCombFungus['Tratamiento'] = df_EHvsCombFungus['Tratamiento'].apply(lambda x: 'Fungus_Combined' if x != 'E_Hidrico' else 'Hidric_Stress')\n",
    "\n",
    "print(df_EHvsCombFungus['Tratamiento'].value_counts())\n",
    "\n",
    "df_EHvsCombFungus.head()"
   ]
  },
  {
   "cell_type": "code",
   "execution_count": 12,
   "id": "9100c8a9",
   "metadata": {},
   "outputs": [],
   "source": [
    "X = df_EHvsCombFungus.iloc[:, 3:].values\n",
    "y = df_EHvsCombFungus['Tratamiento'].values\n",
    "\n",
    "#split the data into training and testing sets\n",
    "X_train, X_test, y_train, y_test = train_test_split(X, y, test_size=0.2, random_state=42, stratify=y)"
   ]
  },
  {
   "cell_type": "markdown",
   "id": "b569d1d1",
   "metadata": {},
   "source": [
    "### Logistic Regression"
   ]
  },
  {
   "cell_type": "code",
   "execution_count": 13,
   "id": "153ad049",
   "metadata": {},
   "outputs": [
    {
     "name": "stdout",
     "output_type": "stream",
     "text": [
      "Best Model Accuracy: 0.9761904761904762\n",
      "Best Model Classification Report:\n",
      "                  precision    recall  f1-score   support\n",
      "\n",
      "Fungus_Combined       1.00      0.97      0.99        36\n",
      "  Hidric_Stress       0.86      1.00      0.92         6\n",
      "\n",
      "       accuracy                           0.98        42\n",
      "      macro avg       0.93      0.99      0.95        42\n",
      "   weighted avg       0.98      0.98      0.98        42\n",
      "\n"
     ]
    }
   ],
   "source": [
    "# Define a more comprehensive parameter grid for hyperparameter tuning\n",
    "param_grid = [\n",
    "    # L1 regularization options\n",
    "    {\n",
    "        'PCA__n_components': [5, 10, 15, 20, 30],\n",
    "        'model__penalty': ['l1'],\n",
    "        'model__C': [0.001, 0.01, 0.1, 1, 10, 100],\n",
    "        'model__solver': ['liblinear', 'saga'],\n",
    "        'model__class_weight': [None, 'balanced']\n",
    "    },\n",
    "    # L2 regularization options\n",
    "    {\n",
    "        'PCA__n_components': [5, 10, 15, 20, 30],\n",
    "        'model__penalty': ['l2'],\n",
    "        'model__C': [0.001, 0.01, 0.1, 1, 10, 100],\n",
    "        'model__solver': ['liblinear', 'saga', 'lbfgs'],\n",
    "        'model__class_weight': [None, 'balanced']\n",
    "    },\n",
    "    # Elasticnet option (saga only)\n",
    "    {\n",
    "        'PCA__n_components': [5, 10, 15, 20, 30],\n",
    "        'model__penalty': ['elasticnet'],\n",
    "        'model__C': [0.001, 0.01, 0.1, 1, 10, 100],\n",
    "        'model__solver': ['saga'],\n",
    "        'model__l1_ratio': [0.2, 0.5, 0.8],\n",
    "        'model__class_weight': [None, 'balanced']\n",
    "    }\n",
    "]\n",
    "\n",
    "# Create a pipeline\n",
    "pipeline = Pipeline([\n",
    "    ('PCA', PCA()),\n",
    "    ('model', LogisticRegression(max_iter=1000))\n",
    "])\n",
    "\n",
    "grid_search = GridSearchCV(pipeline, param_grid, cv=5, n_jobs=-1, scoring='accuracy')\n",
    "grid_search.fit(X_train, y_train)\n",
    "\n",
    "best_model = grid_search.best_estimator_\n",
    "# Make predictions with the best model\n",
    "y_pred_best = best_model.predict(X_test)\n",
    "# Evaluate the best model\n",
    "print(\"Best Model Accuracy:\", accuracy_score(y_test, y_pred_best))\n",
    "print(\"Best Model Classification Report:\\n\", classification_report(y_test, y_pred_best))"
   ]
  },
  {
   "cell_type": "code",
   "execution_count": 14,
   "id": "cee8c47f",
   "metadata": {},
   "outputs": [
    {
     "name": "stdout",
     "output_type": "stream",
     "text": [
      "Best Parameters: {'PCA__n_components': 20, 'model__C': 100, 'model__class_weight': None, 'model__penalty': 'l1', 'model__solver': 'liblinear'}\n"
     ]
    }
   ],
   "source": [
    "# Parameter for the best model found\n",
    "best_params = grid_search.best_params_\n",
    "print(\"Best Parameters:\", best_params)"
   ]
  },
  {
   "cell_type": "code",
   "execution_count": 15,
   "id": "703a81c7",
   "metadata": {},
   "outputs": [
    {
     "data": {
      "image/png": "[encoded data removed]",
      "text/plain": [
       "<Figure size 640x480 with 2 Axes>"
      ]
     },
     "metadata": {},
     "output_type": "display_data"
    }
   ],
   "source": [
    "cm = confusion_matrix(y_test, y_pred_best)\n",
    "disp = ConfusionMatrixDisplay(confusion_matrix=cm, display_labels=best_model.classes_)\n",
    "# Display the confusion matrix\n",
    "disp.plot(cmap='Blues')\n",
    "plt.title(f'Confusion Matrix - Logistic Regression with PCA - accuracy: {accuracy_score(y_test, y_pred_best):.4f}')\n",
    "plt.tight_layout()\n",
    "plt.show()"
   ]
  },
  {
   "cell_type": "markdown",
   "id": "35addea3",
   "metadata": {},
   "source": [
    "## Classification of Unhealthy plants: Hidric Stress vs specific fungal diseases"
   ]
  },
  {
   "cell_type": "markdown",
   "id": "fc9535ea",
   "metadata": {},
   "source": [
    "### Data Processing"
   ]
  },
  {
   "cell_type": "code",
   "execution_count": 16,
   "id": "2944b036",
   "metadata": {},
   "outputs": [
    {
     "name": "stdout",
     "output_type": "stream",
     "text": [
      "['Fungus_Disease' 'Hydric_Stress']\n"
     ]
    }
   ],
   "source": [
    "df_EHvsFD = df3.copy()\n",
    "\n",
    "df_EHvsFD = df_EHvsFD[(df_EHvsFD['Tratamiento'] == 'Fusarium') | \n",
    "                      (df_EHvsFD['Tratamiento'] == 'E_Hidrico') | \n",
    "                      (df_EHvsFD['Tratamiento'] == 'Ralstonia')]  \n",
    "\n",
    "df_EHvsFD['Tratamiento'] = df_EHvsFD['Tratamiento'].apply(lambda x: 'Fungus_Disease' if x == 'Fusarium' or x == 'Ralstonia' else 'Hydric_Stress')\n",
    "\n",
    "print(df_EHvsFD['Tratamiento'].unique())\n",
    "\n",
    "X = df_EHvsFD.iloc[:, 3:].values\n",
    "y = df_EHvsFD['Tratamiento'].values\n",
    "\n",
    "#split the data into training and testing sets\n",
    "X_train, X_test, y_train, y_test = train_test_split(X, y, test_size=0.2, random_state=42, stratify=y)"
   ]
  },
  {
   "cell_type": "markdown",
   "id": "be8ecbd7",
   "metadata": {},
   "source": [
    "### Logistic Regression"
   ]
  },
  {
   "cell_type": "code",
   "execution_count": 17,
   "id": "961eb8c3",
   "metadata": {},
   "outputs": [
    {
     "name": "stdout",
     "output_type": "stream",
     "text": [
      "Best Model Accuracy: 0.8888888888888888\n",
      "Best Model Classification Report:\n",
      "                 precision    recall  f1-score   support\n",
      "\n",
      "Fungus_Disease       1.00      0.83      0.91        12\n",
      " Hydric_Stress       0.75      1.00      0.86         6\n",
      "\n",
      "      accuracy                           0.89        18\n",
      "     macro avg       0.88      0.92      0.88        18\n",
      "  weighted avg       0.92      0.89      0.89        18\n",
      "\n"
     ]
    },
    {
     "name": "stderr",
     "output_type": "stream",
     "text": [
      "c:\\Users\\ricar\\AppData\\Local\\Programs\\Python\\Python313\\Lib\\site-packages\\sklearn\\linear_model\\_sag.py:348: ConvergenceWarning: The max_iter was reached which means the coef_ did not converge\n",
      "  warnings.warn(\n"
     ]
    }
   ],
   "source": [
    "# Define a more comprehensive parameter grid for hyperparameter tuning\n",
    "param_grid = [\n",
    "    # L1 regularization options\n",
    "    {\n",
    "        'PCA__n_components': [5, 10, 15, 20, 30],\n",
    "        'model__penalty': ['l1'],\n",
    "        'model__C': [0.001, 0.01, 0.1, 1, 10, 100],\n",
    "        'model__solver': ['liblinear', 'saga'],\n",
    "        'model__class_weight': [None, 'balanced']\n",
    "    },\n",
    "    # L2 regularization options\n",
    "    {\n",
    "        'PCA__n_components': [5, 10, 15, 20, 30],\n",
    "        'model__penalty': ['l2'],\n",
    "        'model__C': [0.001, 0.01, 0.1, 1, 10, 100],\n",
    "        'model__solver': ['liblinear', 'saga', 'lbfgs'],\n",
    "        'model__class_weight': [None, 'balanced']\n",
    "    },\n",
    "    # Elasticnet option (saga only)\n",
    "    {\n",
    "        'PCA__n_components': [5, 10, 15, 20, 30],\n",
    "        'model__penalty': ['elasticnet'],\n",
    "        'model__C': [0.001, 0.01, 0.1, 1, 10, 100],\n",
    "        'model__solver': ['saga'],\n",
    "        'model__l1_ratio': [0.2, 0.5, 0.8],\n",
    "        'model__class_weight': [None, 'balanced']\n",
    "    }\n",
    "]\n",
    "\n",
    "# Create a pipeline\n",
    "pipeline = Pipeline([\n",
    "    ('PCA', PCA()),\n",
    "    ('model', LogisticRegression(max_iter=1000))\n",
    "])\n",
    "\n",
    "grid_search = GridSearchCV(pipeline, param_grid, cv=5, n_jobs=-1, scoring='accuracy')\n",
    "grid_search.fit(X_train, y_train)\n",
    "\n",
    "best_model = grid_search.best_estimator_\n",
    "# Make predictions with the best model\n",
    "y_pred_best = best_model.predict(X_test)\n",
    "# Evaluate the best model\n",
    "print(\"Best Model Accuracy:\", accuracy_score(y_test, y_pred_best))\n",
    "print(\"Best Model Classification Report:\\n\", classification_report(y_test, y_pred_best))"
   ]
  },
  {
   "cell_type": "code",
   "execution_count": 18,
   "id": "fa2a8e4b",
   "metadata": {},
   "outputs": [
    {
     "name": "stdout",
     "output_type": "stream",
     "text": [
      "Best Parameters: {'PCA__n_components': 15, 'model__C': 100, 'model__class_weight': None, 'model__penalty': 'l1', 'model__solver': 'saga'}\n"
     ]
    }
   ],
   "source": [
    "# Parameter for the best model found\n",
    "best_params = grid_search.best_params_\n",
    "print(\"Best Parameters:\", best_params)"
   ]
  },
  {
   "cell_type": "code",
   "execution_count": 19,
   "id": "db167e07",
   "metadata": {},
   "outputs": [
    {
     "data": {
      "image/png": "[encoded data removed]",
      "text/plain": [
       "<Figure size 640x480 with 2 Axes>"
      ]
     },
     "metadata": {},
     "output_type": "display_data"
    }
   ],
   "source": [
    "cm = confusion_matrix(y_test, y_pred_best)\n",
    "disp = ConfusionMatrixDisplay(confusion_matrix=cm, display_labels=best_model.classes_)\n",
    "# Display the confusion matrix\n",
    "disp.plot(cmap='Blues')\n",
    "plt.title(f'Confusion Matrix - Logistic Regression with PCA - accuracy: {accuracy_score(y_test, y_pred_best):.4f}')\n",
    "plt.tight_layout()\n",
    "plt.show()"
   ]
  },
  {
   "cell_type": "markdown",
   "id": "c6ae3887",
   "metadata": {},
   "source": [
    "## Classification of Unhealthy plants: Ralstonia vs Fusarium"
   ]
  },
  {
   "cell_type": "markdown",
   "id": "930df4d4",
   "metadata": {},
   "source": [
    "#### Data processing for classification"
   ]
  },
  {
   "cell_type": "code",
   "execution_count": 20,
   "id": "62ddc99d",
   "metadata": {},
   "outputs": [
    {
     "name": "stdout",
     "output_type": "stream",
     "text": [
      "Tratamiento\n",
      "Ralstonia    30\n",
      "Fusarium     30\n",
      "Name: count, dtype: int64\n"
     ]
    },
    {
     "data": {
      "text/html": [
       "<div>\n",
       "<style scoped>\n",
       "    .dataframe tbody tr th:only-of-type {\n",
       "        vertical-align: middle;\n",
       "    }\n",
       "\n",
       "    .dataframe tbody tr th {\n",
       "        vertical-align: top;\n",
       "    }\n",
       "\n",
       "    .dataframe thead th {\n",
       "        text-align: right;\n",
       "    }\n",
       "</style>\n",
       "<table border=\"1\" class=\"dataframe\">\n",
       "  <thead>\n",
       "    <tr style=\"text-align: right;\">\n",
       "      <th></th>\n",
       "      <th>Tratamiento</th>\n",
       "      <th>Planta</th>\n",
       "      <th>350</th>\n",
       "      <th>351</th>\n",
       "      <th>352</th>\n",
       "      <th>353</th>\n",
       "      <th>354</th>\n",
       "      <th>355</th>\n",
       "      <th>356</th>\n",
       "      <th>357</th>\n",
       "      <th>...</th>\n",
       "      <th>2491</th>\n",
       "      <th>2492</th>\n",
       "      <th>2493</th>\n",
       "      <th>2494</th>\n",
       "      <th>2495</th>\n",
       "      <th>2496</th>\n",
       "      <th>2497</th>\n",
       "      <th>2498</th>\n",
       "      <th>2499</th>\n",
       "      <th>2500</th>\n",
       "    </tr>\n",
       "  </thead>\n",
       "  <tbody>\n",
       "    <tr>\n",
       "      <th>30</th>\n",
       "      <td>Ralstonia</td>\n",
       "      <td>1</td>\n",
       "      <td>0.076276</td>\n",
       "      <td>0.073734</td>\n",
       "      <td>0.080145</td>\n",
       "      <td>0.074904</td>\n",
       "      <td>0.069138</td>\n",
       "      <td>0.066730</td>\n",
       "      <td>0.064755</td>\n",
       "      <td>0.064568</td>\n",
       "      <td>...</td>\n",
       "      <td>0.034109</td>\n",
       "      <td>0.033864</td>\n",
       "      <td>0.033540</td>\n",
       "      <td>0.033337</td>\n",
       "      <td>0.033148</td>\n",
       "      <td>0.032995</td>\n",
       "      <td>0.032992</td>\n",
       "      <td>0.032844</td>\n",
       "      <td>0.032588</td>\n",
       "      <td>0.032446</td>\n",
       "    </tr>\n",
       "    <tr>\n",
       "      <th>31</th>\n",
       "      <td>Ralstonia</td>\n",
       "      <td>2</td>\n",
       "      <td>0.068150</td>\n",
       "      <td>0.065385</td>\n",
       "      <td>0.069024</td>\n",
       "      <td>0.065933</td>\n",
       "      <td>0.063197</td>\n",
       "      <td>0.060940</td>\n",
       "      <td>0.054312</td>\n",
       "      <td>0.053331</td>\n",
       "      <td>...</td>\n",
       "      <td>0.034582</td>\n",
       "      <td>0.034368</td>\n",
       "      <td>0.034120</td>\n",
       "      <td>0.033906</td>\n",
       "      <td>0.033664</td>\n",
       "      <td>0.033526</td>\n",
       "      <td>0.033501</td>\n",
       "      <td>0.033339</td>\n",
       "      <td>0.033150</td>\n",
       "      <td>0.033019</td>\n",
       "    </tr>\n",
       "    <tr>\n",
       "      <th>32</th>\n",
       "      <td>Ralstonia</td>\n",
       "      <td>3</td>\n",
       "      <td>0.062960</td>\n",
       "      <td>0.059255</td>\n",
       "      <td>0.062903</td>\n",
       "      <td>0.060468</td>\n",
       "      <td>0.056111</td>\n",
       "      <td>0.052244</td>\n",
       "      <td>0.049260</td>\n",
       "      <td>0.051392</td>\n",
       "      <td>...</td>\n",
       "      <td>0.033847</td>\n",
       "      <td>0.033737</td>\n",
       "      <td>0.033617</td>\n",
       "      <td>0.033446</td>\n",
       "      <td>0.033250</td>\n",
       "      <td>0.033088</td>\n",
       "      <td>0.032845</td>\n",
       "      <td>0.032746</td>\n",
       "      <td>0.032786</td>\n",
       "      <td>0.032706</td>\n",
       "    </tr>\n",
       "    <tr>\n",
       "      <th>33</th>\n",
       "      <td>Ralstonia</td>\n",
       "      <td>4</td>\n",
       "      <td>0.070999</td>\n",
       "      <td>0.067527</td>\n",
       "      <td>0.072041</td>\n",
       "      <td>0.066671</td>\n",
       "      <td>0.062104</td>\n",
       "      <td>0.060588</td>\n",
       "      <td>0.057448</td>\n",
       "      <td>0.059691</td>\n",
       "      <td>...</td>\n",
       "      <td>0.028614</td>\n",
       "      <td>0.028435</td>\n",
       "      <td>0.028270</td>\n",
       "      <td>0.028110</td>\n",
       "      <td>0.028059</td>\n",
       "      <td>0.027936</td>\n",
       "      <td>0.027703</td>\n",
       "      <td>0.027637</td>\n",
       "      <td>0.027699</td>\n",
       "      <td>0.027606</td>\n",
       "    </tr>\n",
       "    <tr>\n",
       "      <th>34</th>\n",
       "      <td>Ralstonia</td>\n",
       "      <td>5</td>\n",
       "      <td>0.064629</td>\n",
       "      <td>0.061472</td>\n",
       "      <td>0.068240</td>\n",
       "      <td>0.066059</td>\n",
       "      <td>0.061974</td>\n",
       "      <td>0.058884</td>\n",
       "      <td>0.055603</td>\n",
       "      <td>0.055067</td>\n",
       "      <td>...</td>\n",
       "      <td>0.029979</td>\n",
       "      <td>0.029839</td>\n",
       "      <td>0.029591</td>\n",
       "      <td>0.029456</td>\n",
       "      <td>0.029399</td>\n",
       "      <td>0.029272</td>\n",
       "      <td>0.029167</td>\n",
       "      <td>0.029009</td>\n",
       "      <td>0.028745</td>\n",
       "      <td>0.028642</td>\n",
       "    </tr>\n",
       "  </tbody>\n",
       "</table>\n",
       "<p>5 rows × 2153 columns</p>\n",
       "</div>"
      ],
      "text/plain": [
       "   Tratamiento  Planta       350       351       352       353       354  \\\n",
       "30   Ralstonia       1  0.076276  0.073734  0.080145  0.074904  0.069138   \n",
       "31   Ralstonia       2  0.068150  0.065385  0.069024  0.065933  0.063197   \n",
       "32   Ralstonia       3  0.062960  0.059255  0.062903  0.060468  0.056111   \n",
       "33   Ralstonia       4  0.070999  0.067527  0.072041  0.066671  0.062104   \n",
       "34   Ralstonia       5  0.064629  0.061472  0.068240  0.066059  0.061974   \n",
       "\n",
       "         355       356       357  ...      2491      2492      2493      2494  \\\n",
       "30  0.066730  0.064755  0.064568  ...  0.034109  0.033864  0.033540  0.033337   \n",
       "31  0.060940  0.054312  0.053331  ...  0.034582  0.034368  0.034120  0.033906   \n",
       "32  0.052244  0.049260  0.051392  ...  0.033847  0.033737  0.033617  0.033446   \n",
       "33  0.060588  0.057448  0.059691  ...  0.028614  0.028435  0.028270  0.028110   \n",
       "34  0.058884  0.055603  0.055067  ...  0.029979  0.029839  0.029591  0.029456   \n",
       "\n",
       "        2495      2496      2497      2498      2499      2500  \n",
       "30  0.033148  0.032995  0.032992  0.032844  0.032588  0.032446  \n",
       "31  0.033664  0.033526  0.033501  0.033339  0.033150  0.033019  \n",
       "32  0.033250  0.033088  0.032845  0.032746  0.032786  0.032706  \n",
       "33  0.028059  0.027936  0.027703  0.027637  0.027699  0.027606  \n",
       "34  0.029399  0.029272  0.029167  0.029009  0.028745  0.028642  \n",
       "\n",
       "[5 rows x 2153 columns]"
      ]
     },
     "execution_count": 20,
     "metadata": {},
     "output_type": "execute_result"
    }
   ],
   "source": [
    "\n",
    "df_DiseaseType = df3.copy()\n",
    "\n",
    "# Lets filter only unhealthy plants\n",
    "df_DiseaseType = df_DiseaseType[(df_DiseaseType['Tratamiento'] == 'Ralstonia') | (df_DiseaseType['Tratamiento'] == 'Fusarium')]\n",
    "\n",
    "print(df_DiseaseType['Tratamiento'].value_counts())\n",
    "df_DiseaseType.head()"
   ]
  },
  {
   "cell_type": "code",
   "execution_count": 21,
   "id": "a9d38d4b",
   "metadata": {},
   "outputs": [],
   "source": [
    "# data treatment\n",
    "\n",
    "# Data preparation for model production\n",
    "X = df_DiseaseType.iloc[:, 3:].values\n",
    "\n",
    "y = df_DiseaseType['Tratamiento'].values\n",
    "\n",
    "#split the data into training and testing sets\n",
    "X_train, X_test, y_train, y_test = train_test_split(X, y, test_size=0.2, random_state=42, stratify=y)"
   ]
  },
  {
   "cell_type": "markdown",
   "id": "53fac822",
   "metadata": {},
   "source": [
    "### Logistic Regression"
   ]
  },
  {
   "cell_type": "code",
   "execution_count": 22,
   "id": "a5986ba0",
   "metadata": {},
   "outputs": [
    {
     "name": "stdout",
     "output_type": "stream",
     "text": [
      "Best Model Accuracy: 1.0\n",
      "Best Model Classification Report:\n",
      "               precision    recall  f1-score   support\n",
      "\n",
      "    Fusarium       1.00      1.00      1.00         6\n",
      "   Ralstonia       1.00      1.00      1.00         6\n",
      "\n",
      "    accuracy                           1.00        12\n",
      "   macro avg       1.00      1.00      1.00        12\n",
      "weighted avg       1.00      1.00      1.00        12\n",
      "\n"
     ]
    }
   ],
   "source": [
    "# Define a more comprehensive parameter grid for hyperparameter tuning\n",
    "param_grid = [\n",
    "    # L1 regularization options\n",
    "    {\n",
    "        'PCA__n_components': [5, 10, 15, 20, 30],\n",
    "        'model__penalty': ['l1'],\n",
    "        'model__C': [0.001, 0.01, 0.1, 1, 10, 100],\n",
    "        'model__solver': ['liblinear', 'saga'],\n",
    "        'model__class_weight': [None, 'balanced']\n",
    "    },\n",
    "    # L2 regularization options\n",
    "    {\n",
    "        'PCA__n_components': [5, 10, 15, 20, 30],\n",
    "        'model__penalty': ['l2'],\n",
    "        'model__C': [0.001, 0.01, 0.1, 1, 10, 100],\n",
    "        'model__solver': ['liblinear', 'saga', 'lbfgs'],\n",
    "        'model__class_weight': [None, 'balanced']\n",
    "    },\n",
    "    # Elasticnet option (saga only)\n",
    "    {\n",
    "        'PCA__n_components': [5, 10, 15, 20, 30],\n",
    "        'model__penalty': ['elasticnet'],\n",
    "        'model__C': [0.001, 0.01, 0.1, 1, 10, 100],\n",
    "        'model__solver': ['saga'],\n",
    "        'model__l1_ratio': [0.2, 0.5, 0.8],\n",
    "        'model__class_weight': [None, 'balanced']\n",
    "    }\n",
    "]\n",
    "\n",
    "# Create a pipeline\n",
    "pipeline = Pipeline([\n",
    "    ('PCA', PCA()),\n",
    "    ('model', LogisticRegression(max_iter=1000))\n",
    "])\n",
    "\n",
    "grid_search = GridSearchCV(pipeline, param_grid, cv=5, n_jobs=-1, scoring='accuracy')\n",
    "grid_search.fit(X_train, y_train)\n",
    "\n",
    "best_model = grid_search.best_estimator_\n",
    "# Make predictions with the best model\n",
    "y_pred_best = best_model.predict(X_test)\n",
    "# Evaluate the best model\n",
    "print(\"Best Model Accuracy:\", accuracy_score(y_test, y_pred_best))\n",
    "print(\"Best Model Classification Report:\\n\", classification_report(y_test, y_pred_best))\n"
   ]
  },
  {
   "cell_type": "code",
   "execution_count": 23,
   "id": "c6f560a0",
   "metadata": {},
   "outputs": [
    {
     "name": "stdout",
     "output_type": "stream",
     "text": [
      "Best Parameters: {'PCA__n_components': 10, 'model__C': 100, 'model__class_weight': None, 'model__penalty': 'l1', 'model__solver': 'liblinear'}\n"
     ]
    }
   ],
   "source": [
    "# Parameter for the best model found\n",
    "best_params = grid_search.best_params_\n",
    "print(\"Best Parameters:\", best_params)"
   ]
  },
  {
   "cell_type": "code",
   "execution_count": 24,
   "id": "8baad181",
   "metadata": {},
   "outputs": [
    {
     "data": {
      "image/png": "[encoded data removed]",
      "text/plain": [
       "<Figure size 640x480 with 2 Axes>"
      ]
     },
     "metadata": {},
     "output_type": "display_data"
    }
   ],
   "source": [
    "cm = confusion_matrix(y_test, y_pred_best)\n",
    "disp = ConfusionMatrixDisplay(confusion_matrix=cm, display_labels=best_model.classes_)\n",
    "# Display the confusion matrix\n",
    "disp.plot(cmap='Blues')\n",
    "plt.title(f'Confusion Matrix - Logistic Regression with PCA - accuracy: {accuracy_score(y_test, y_pred_best):.4f}')\n",
    "plt.tight_layout()\n",
    "plt.show()"
   ]
  }
 ],
 "metadata": {
  "kernelspec": {
   "display_name": "Python 3",
   "language": "python",
   "name": "python3"
  },
  "language_info": {
   "codemirror_mode": {
    "name": "ipython",
    "version": 3
   },
   "file_extension": ".py",
   "mimetype": "text/x-python",
   "name": "python",
   "nbconvert_exporter": "python",
   "pygments_lexer": "ipython3",
   "version": "3.13.7"
  }
 },
 "nbformat": 4,
 "nbformat_minor": 5
}
