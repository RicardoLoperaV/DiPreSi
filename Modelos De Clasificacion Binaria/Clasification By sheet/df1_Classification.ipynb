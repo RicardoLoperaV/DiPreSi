{
 "cells": [
  {
   "cell_type": "code",
   "execution_count": 5,
   "id": "ae553188",
   "metadata": {},
   "outputs": [],
   "source": [
    "import sys\n",
    "from pathlib import Path\n",
    "# Get the repository root (2 levels up from current notebook)\n",
    "repo_root = Path(__file__).parent.parent.parent if '__file__' in globals() else Path.cwd().parent.parent\n",
    "sys.path.insert(0, str(repo_root))\n",
    "\n",
    "# import necessary libraries\n",
    "import os\n",
    "import numpy as np\n",
    "import pandas as pd\n",
    "import matplotlib.pyplot as plt\n",
    "import seaborn as sns\n",
    "from sklearn.decomposition import PCA\n",
    "from sklearn.manifold import TSNE, trustworthiness\n",
    "import Template\n",
    "from sklearn.neighbors import KNeighborsClassifier\n",
    "from sklearn.metrics import classification_report, confusion_matrix, accuracy_score, ConfusionMatrixDisplay, precision_score, recall_score, f1_score\n",
    "from sklearn.model_selection import train_test_split, GridSearchCV\n",
    "from sklearn.pipeline import Pipeline\n",
    "from sklearn.svm import SVC\n",
    "from tensorflow import keras\n",
    "from keras import layers\n",
    "from sklearn.preprocessing import LabelEncoder\n",
    "from sklearn.linear_model import LogisticRegression\n",
    "from sklearn.ensemble import BaggingClassifier\n",
    "from sklearn.tree import DecisionTreeClassifier\n",
    "\n"
   ]
  },
  {
   "cell_type": "code",
   "execution_count": 6,
   "id": "6381704c",
   "metadata": {},
   "outputs": [],
   "source": [
    "Template = Template.Template()\n",
    "\n",
    "# Build the path to the Excel file in the repository root\n",
    "data_path = os.path.join(os.path.dirname(os.getcwd()), '..', 'Datos1_InteraccionesNIR.xlsx')\n",
    "\n",
    "\n",
    "# import the data from all sheets of the Excel file\n",
    "\n",
    "df1 = pd.read_excel(data_path, sheet_name=1)"
   ]
  },
  {
   "cell_type": "code",
   "execution_count": 3,
   "id": "0aab0ef9",
   "metadata": {},
   "outputs": [
    {
     "name": "stdout",
     "output_type": "stream",
     "text": [
      "Tratamiento\n",
      "Control       30\n",
      "Fusarium      30\n",
      "E_Hidrico     30\n",
      "Ral_Fus       30\n",
      "Fus_EH        30\n",
      "Ral_EH        30\n",
      "Fus_EH_Ral    30\n",
      "Ralstonia     29\n",
      "Name: count, dtype: int64\n"
     ]
    }
   ],
   "source": [
    "print(df1['Tratamiento'].value_counts())"
   ]
  },
  {
   "cell_type": "markdown",
   "id": "02fa2b34",
   "metadata": {},
   "source": [
    "## Classification of Healthy plants vs Unhealthy plants"
   ]
  },
  {
   "cell_type": "markdown",
   "id": "77bead1d",
   "metadata": {},
   "source": [
    "#### Data processing for classification"
   ]
  },
  {
   "cell_type": "code",
   "execution_count": 4,
   "id": "30afa302",
   "metadata": {},
   "outputs": [
    {
     "data": {
      "text/html": [
       "<div>\n",
       "<style scoped>\n",
       "    .dataframe tbody tr th:only-of-type {\n",
       "        vertical-align: middle;\n",
       "    }\n",
       "\n",
       "    .dataframe tbody tr th {\n",
       "        vertical-align: top;\n",
       "    }\n",
       "\n",
       "    .dataframe thead th {\n",
       "        text-align: right;\n",
       "    }\n",
       "</style>\n",
       "<table border=\"1\" class=\"dataframe\">\n",
       "  <thead>\n",
       "    <tr style=\"text-align: right;\">\n",
       "      <th></th>\n",
       "      <th>Tratamiento</th>\n",
       "      <th>Planta</th>\n",
       "      <th>350</th>\n",
       "      <th>351</th>\n",
       "      <th>352</th>\n",
       "      <th>353</th>\n",
       "      <th>354</th>\n",
       "      <th>355</th>\n",
       "      <th>356</th>\n",
       "      <th>357</th>\n",
       "      <th>...</th>\n",
       "      <th>2492</th>\n",
       "      <th>2493</th>\n",
       "      <th>2494</th>\n",
       "      <th>2495</th>\n",
       "      <th>2496</th>\n",
       "      <th>2497</th>\n",
       "      <th>2498</th>\n",
       "      <th>2499</th>\n",
       "      <th>2500</th>\n",
       "      <th>Health_Status</th>\n",
       "    </tr>\n",
       "  </thead>\n",
       "  <tbody>\n",
       "    <tr>\n",
       "      <th>0</th>\n",
       "      <td>Control</td>\n",
       "      <td>1</td>\n",
       "      <td>0.078084</td>\n",
       "      <td>0.075299</td>\n",
       "      <td>0.077410</td>\n",
       "      <td>0.074002</td>\n",
       "      <td>0.070505</td>\n",
       "      <td>0.067700</td>\n",
       "      <td>0.062893</td>\n",
       "      <td>0.062420</td>\n",
       "      <td>...</td>\n",
       "      <td>0.036081</td>\n",
       "      <td>0.035957</td>\n",
       "      <td>0.035807</td>\n",
       "      <td>0.035688</td>\n",
       "      <td>0.035551</td>\n",
       "      <td>0.035364</td>\n",
       "      <td>0.035257</td>\n",
       "      <td>0.035179</td>\n",
       "      <td>0.035142</td>\n",
       "      <td>Healthy</td>\n",
       "    </tr>\n",
       "    <tr>\n",
       "      <th>1</th>\n",
       "      <td>Control</td>\n",
       "      <td>2</td>\n",
       "      <td>0.073550</td>\n",
       "      <td>0.067523</td>\n",
       "      <td>0.071681</td>\n",
       "      <td>0.067482</td>\n",
       "      <td>0.063859</td>\n",
       "      <td>0.062469</td>\n",
       "      <td>0.059024</td>\n",
       "      <td>0.057638</td>\n",
       "      <td>...</td>\n",
       "      <td>0.032865</td>\n",
       "      <td>0.032683</td>\n",
       "      <td>0.032480</td>\n",
       "      <td>0.032208</td>\n",
       "      <td>0.032009</td>\n",
       "      <td>0.031834</td>\n",
       "      <td>0.031691</td>\n",
       "      <td>0.031569</td>\n",
       "      <td>0.031492</td>\n",
       "      <td>Healthy</td>\n",
       "    </tr>\n",
       "    <tr>\n",
       "      <th>2</th>\n",
       "      <td>Control</td>\n",
       "      <td>3</td>\n",
       "      <td>0.078702</td>\n",
       "      <td>0.072332</td>\n",
       "      <td>0.076551</td>\n",
       "      <td>0.075096</td>\n",
       "      <td>0.069730</td>\n",
       "      <td>0.063826</td>\n",
       "      <td>0.060950</td>\n",
       "      <td>0.061619</td>\n",
       "      <td>...</td>\n",
       "      <td>0.031893</td>\n",
       "      <td>0.031702</td>\n",
       "      <td>0.031533</td>\n",
       "      <td>0.031349</td>\n",
       "      <td>0.031142</td>\n",
       "      <td>0.030905</td>\n",
       "      <td>0.030750</td>\n",
       "      <td>0.030586</td>\n",
       "      <td>0.030511</td>\n",
       "      <td>Healthy</td>\n",
       "    </tr>\n",
       "    <tr>\n",
       "      <th>3</th>\n",
       "      <td>Control</td>\n",
       "      <td>4</td>\n",
       "      <td>0.068565</td>\n",
       "      <td>0.067309</td>\n",
       "      <td>0.070531</td>\n",
       "      <td>0.066035</td>\n",
       "      <td>0.062364</td>\n",
       "      <td>0.060529</td>\n",
       "      <td>0.055741</td>\n",
       "      <td>0.052761</td>\n",
       "      <td>...</td>\n",
       "      <td>0.031147</td>\n",
       "      <td>0.030997</td>\n",
       "      <td>0.030795</td>\n",
       "      <td>0.030522</td>\n",
       "      <td>0.030354</td>\n",
       "      <td>0.030158</td>\n",
       "      <td>0.030026</td>\n",
       "      <td>0.030024</td>\n",
       "      <td>0.029915</td>\n",
       "      <td>Healthy</td>\n",
       "    </tr>\n",
       "    <tr>\n",
       "      <th>4</th>\n",
       "      <td>Control</td>\n",
       "      <td>5</td>\n",
       "      <td>0.070898</td>\n",
       "      <td>0.067701</td>\n",
       "      <td>0.075494</td>\n",
       "      <td>0.069948</td>\n",
       "      <td>0.063975</td>\n",
       "      <td>0.061855</td>\n",
       "      <td>0.060048</td>\n",
       "      <td>0.059379</td>\n",
       "      <td>...</td>\n",
       "      <td>0.029146</td>\n",
       "      <td>0.029101</td>\n",
       "      <td>0.028976</td>\n",
       "      <td>0.028791</td>\n",
       "      <td>0.028641</td>\n",
       "      <td>0.028453</td>\n",
       "      <td>0.028389</td>\n",
       "      <td>0.028404</td>\n",
       "      <td>0.028371</td>\n",
       "      <td>Healthy</td>\n",
       "    </tr>\n",
       "  </tbody>\n",
       "</table>\n",
       "<p>5 rows × 2154 columns</p>\n",
       "</div>"
      ],
      "text/plain": [
       "  Tratamiento  Planta       350       351       352       353       354  \\\n",
       "0     Control       1  0.078084  0.075299  0.077410  0.074002  0.070505   \n",
       "1     Control       2  0.073550  0.067523  0.071681  0.067482  0.063859   \n",
       "2     Control       3  0.078702  0.072332  0.076551  0.075096  0.069730   \n",
       "3     Control       4  0.068565  0.067309  0.070531  0.066035  0.062364   \n",
       "4     Control       5  0.070898  0.067701  0.075494  0.069948  0.063975   \n",
       "\n",
       "        355       356       357  ...      2492      2493      2494      2495  \\\n",
       "0  0.067700  0.062893  0.062420  ...  0.036081  0.035957  0.035807  0.035688   \n",
       "1  0.062469  0.059024  0.057638  ...  0.032865  0.032683  0.032480  0.032208   \n",
       "2  0.063826  0.060950  0.061619  ...  0.031893  0.031702  0.031533  0.031349   \n",
       "3  0.060529  0.055741  0.052761  ...  0.031147  0.030997  0.030795  0.030522   \n",
       "4  0.061855  0.060048  0.059379  ...  0.029146  0.029101  0.028976  0.028791   \n",
       "\n",
       "       2496      2497      2498      2499      2500  Health_Status  \n",
       "0  0.035551  0.035364  0.035257  0.035179  0.035142        Healthy  \n",
       "1  0.032009  0.031834  0.031691  0.031569  0.031492        Healthy  \n",
       "2  0.031142  0.030905  0.030750  0.030586  0.030511        Healthy  \n",
       "3  0.030354  0.030158  0.030026  0.030024  0.029915        Healthy  \n",
       "4  0.028641  0.028453  0.028389  0.028404  0.028371        Healthy  \n",
       "\n",
       "[5 rows x 2154 columns]"
      ]
     },
     "execution_count": 4,
     "metadata": {},
     "output_type": "execute_result"
    }
   ],
   "source": [
    "# Make a new column 'Health_Status' based on 'Tratamiento'\n",
    "df_HvsUnH = df1.copy()\n",
    "\n",
    "df_HvsUnH['Health_Status'] = df_HvsUnH['Tratamiento'].apply(lambda x: 'Healthy' if x == 'Control' else 'Unhealthy')\n",
    "\n",
    "df_HvsUnH.head()"
   ]
  },
  {
   "cell_type": "code",
   "execution_count": 5,
   "id": "923e0cb5",
   "metadata": {},
   "outputs": [],
   "source": [
    "# data treatment\n",
    "\n",
    "# Data preparation for model production\n",
    "df_X = df_HvsUnH.drop(columns=['Health_Status'])\n",
    "\n",
    "X = df_X.iloc[:, 3:].values  \n",
    "\n",
    "y = df_HvsUnH['Health_Status'].values\n",
    "\n",
    "#split the data into training and testing sets\n",
    "X_train, X_test, y_train, y_test = train_test_split(X, y, test_size=0.2, random_state=42, stratify=y)"
   ]
  },
  {
   "cell_type": "markdown",
   "id": "aa9d184d",
   "metadata": {},
   "source": [
    "### Logistic Regression "
   ]
  },
  {
   "cell_type": "code",
   "execution_count": 6,
   "id": "0b2fb7fa",
   "metadata": {},
   "outputs": [
    {
     "name": "stdout",
     "output_type": "stream",
     "text": [
      "Best Model Accuracy: 1.0\n",
      "Best Model Classification Report:\n",
      "               precision    recall  f1-score   support\n",
      "\n",
      "     Healthy       1.00      1.00      1.00         6\n",
      "   Unhealthy       1.00      1.00      1.00        42\n",
      "\n",
      "    accuracy                           1.00        48\n",
      "   macro avg       1.00      1.00      1.00        48\n",
      "weighted avg       1.00      1.00      1.00        48\n",
      "\n"
     ]
    }
   ],
   "source": [
    "# Define a more comprehensive parameter grid for hyperparameter tuning\n",
    "param_grid = [\n",
    "    # L1 regularization options\n",
    "    {\n",
    "        'PCA__n_components': [5, 10, 15, 20, 30],\n",
    "        'model__penalty': ['l1'],\n",
    "        'model__C': [0.001, 0.01, 0.1, 1, 10, 100],\n",
    "        'model__solver': ['liblinear', 'saga'],\n",
    "        'model__class_weight': [None, 'balanced']\n",
    "    },\n",
    "    # L2 regularization options\n",
    "    {\n",
    "        'PCA__n_components': [5, 10, 15, 20, 30],\n",
    "        'model__penalty': ['l2'],\n",
    "        'model__C': [0.001, 0.01, 0.1, 1, 10, 100],\n",
    "        'model__solver': ['liblinear', 'saga', 'lbfgs'],\n",
    "        'model__class_weight': [None, 'balanced']\n",
    "    },\n",
    "    # Elasticnet option (saga only)\n",
    "    {\n",
    "        'PCA__n_components': [5, 10, 15, 20, 30],\n",
    "        'model__penalty': ['elasticnet'],\n",
    "        'model__C': [0.001, 0.01, 0.1, 1, 10, 100],\n",
    "        'model__solver': ['saga'],\n",
    "        'model__l1_ratio': [0.2, 0.5, 0.8],\n",
    "        'model__class_weight': [None, 'balanced']\n",
    "    }\n",
    "]\n",
    "\n",
    "# Create a pipeline\n",
    "pipeline = Pipeline([\n",
    "    ('PCA', PCA()),\n",
    "    ('model', LogisticRegression(max_iter=1000))\n",
    "])\n",
    "\n",
    "grid_search = GridSearchCV(pipeline, param_grid, cv=5, n_jobs=-1, scoring='accuracy')\n",
    "grid_search.fit(X_train, y_train)\n",
    "\n",
    "best_model = grid_search.best_estimator_\n",
    "# Make predictions with the best model\n",
    "y_pred_best = best_model.predict(X_test)\n",
    "# Evaluate the best model\n",
    "print(\"Best Model Accuracy:\", accuracy_score(y_test, y_pred_best))\n",
    "print(\"Best Model Classification Report:\\n\", classification_report(y_test, y_pred_best))"
   ]
  },
  {
   "cell_type": "code",
   "execution_count": 7,
   "id": "cabaa972",
   "metadata": {},
   "outputs": [
    {
     "name": "stdout",
     "output_type": "stream",
     "text": [
      "Best Parameters: {'PCA__n_components': 5, 'model__C': 10, 'model__class_weight': None, 'model__penalty': 'l1', 'model__solver': 'liblinear'}\n"
     ]
    }
   ],
   "source": [
    "# Parameter for the best model found\n",
    "best_params = grid_search.best_params_\n",
    "print(\"Best Parameters:\", best_params)"
   ]
  },
  {
   "cell_type": "code",
   "execution_count": 8,
   "id": "0a613183",
   "metadata": {},
   "outputs": [
    {
     "data": {
      "image/png": "[encoded data removed]",
      "text/plain": [
       "<Figure size 640x480 with 2 Axes>"
      ]
     },
     "metadata": {},
     "output_type": "display_data"
    }
   ],
   "source": [
    "cm = confusion_matrix(y_test, y_pred_best)\n",
    "disp = ConfusionMatrixDisplay(confusion_matrix=cm, display_labels=best_model.classes_)\n",
    "# Display the confusion matrix\n",
    "disp.plot(cmap='Blues')\n",
    "plt.title(f'Confusion Matrix - Logistic Regression with PCA - accuracy: {accuracy_score(y_test, y_pred_best):.4f}')\n",
    "plt.tight_layout()\n",
    "plt.show()"
   ]
  },
  {
   "cell_type": "markdown",
   "id": "384c3e22",
   "metadata": {},
   "source": [
    "### SVM"
   ]
  },
  {
   "cell_type": "code",
   "execution_count": 9,
   "id": "9dc10e2f",
   "metadata": {},
   "outputs": [
    {
     "name": "stdout",
     "output_type": "stream",
     "text": [
      "Fitting 5 folds for each of 4320 candidates, totalling 21600 fits\n",
      "Best cross-validation score (Accuracy): 1.0000\n",
      "Best parameters found:\n",
      "{'pca__n_components': 5, 'svm__C': 1, 'svm__class_weight': 'balanced', 'svm__degree': 2, 'svm__gamma': 'scale', 'svm__kernel': 'linear'}\n",
      "\n",
      "Accuracy on the test set: 1.0000\n"
     ]
    }
   ],
   "source": [
    "param_grid = {\n",
    "    'pca__n_components': [5, 10, 15, 20, 30, 40],\n",
    "    'svm__C': [0.01, 0.1, 1, 10, 100],\n",
    "    'svm__kernel': ['linear', 'rbf', 'poly', 'sigmoid'],\n",
    "    'svm__gamma': ['scale', 'auto', 0.001, 0.01, 0.1, 1],\n",
    "    'svm__degree': [2, 3, 4],\n",
    "    'svm__class_weight': ['balanced', None]\n",
    "}\n",
    "\n",
    "pipeline = Pipeline([    \n",
    "    ('pca', PCA()),                   \n",
    "    ('svm', SVC())  \n",
    "])\n",
    "\n",
    "grid_search = GridSearchCV(pipeline, param_grid, cv=5, n_jobs=-1, verbose=1, scoring='balanced_accuracy')\n",
    "\n",
    "grid_search.fit(X_train, y_train)\n",
    "\n",
    "print(f\"Best cross-validation score (Accuracy): {grid_search.best_score_:.4f}\")\n",
    "print(\"Best parameters found:\")\n",
    "print(grid_search.best_params_)\n",
    "\n",
    "best_model = grid_search.best_estimator_\n",
    "accuracy = best_model.score(X_test, y_test)\n",
    "print(f\"\\nAccuracy on the test set: {accuracy:.4f}\")\n",
    "\n",
    "y_pred_SVM = best_model.predict(X_test)"
   ]
  },
  {
   "cell_type": "code",
   "execution_count": 10,
   "id": "448b73e7",
   "metadata": {},
   "outputs": [
    {
     "data": {
      "image/png": "[encoded data removed]",
      "text/plain": [
       "<Figure size 640x480 with 2 Axes>"
      ]
     },
     "metadata": {},
     "output_type": "display_data"
    }
   ],
   "source": [
    "cm = confusion_matrix(y_test, y_pred_SVM)\n",
    "disp = ConfusionMatrixDisplay(confusion_matrix=cm, display_labels=best_model.classes_)\n",
    "# Display the confusion matrix\n",
    "disp.plot(cmap='Blues')\n",
    "plt.title(f'Confusion Matrix - SVM with PCA - accuracy: {accuracy_score(y_test, y_pred_SVM):.4f}')\n",
    "plt.tight_layout()\n",
    "plt.show()"
   ]
  },
  {
   "cell_type": "markdown",
   "id": "0c3a3586",
   "metadata": {},
   "source": [
    "## Classification of Unhealthy plants: Hidric Stress vs fungal diseases (includes combined fungal diseases)"
   ]
  },
  {
   "cell_type": "markdown",
   "id": "f397e1eb",
   "metadata": {},
   "source": [
    "### Data Processing"
   ]
  },
  {
   "cell_type": "code",
   "execution_count": 11,
   "id": "ea224dc1",
   "metadata": {},
   "outputs": [
    {
     "name": "stdout",
     "output_type": "stream",
     "text": [
      "Tratamiento\n",
      "Fungus_Combined    179\n",
      "Hidric_Stress       30\n",
      "Name: count, dtype: int64\n"
     ]
    },
    {
     "data": {
      "text/html": [
       "<div>\n",
       "<style scoped>\n",
       "    .dataframe tbody tr th:only-of-type {\n",
       "        vertical-align: middle;\n",
       "    }\n",
       "\n",
       "    .dataframe tbody tr th {\n",
       "        vertical-align: top;\n",
       "    }\n",
       "\n",
       "    .dataframe thead th {\n",
       "        text-align: right;\n",
       "    }\n",
       "</style>\n",
       "<table border=\"1\" class=\"dataframe\">\n",
       "  <thead>\n",
       "    <tr style=\"text-align: right;\">\n",
       "      <th></th>\n",
       "      <th>Tratamiento</th>\n",
       "      <th>Planta</th>\n",
       "      <th>350</th>\n",
       "      <th>351</th>\n",
       "      <th>352</th>\n",
       "      <th>353</th>\n",
       "      <th>354</th>\n",
       "      <th>355</th>\n",
       "      <th>356</th>\n",
       "      <th>357</th>\n",
       "      <th>...</th>\n",
       "      <th>2491</th>\n",
       "      <th>2492</th>\n",
       "      <th>2493</th>\n",
       "      <th>2494</th>\n",
       "      <th>2495</th>\n",
       "      <th>2496</th>\n",
       "      <th>2497</th>\n",
       "      <th>2498</th>\n",
       "      <th>2499</th>\n",
       "      <th>2500</th>\n",
       "    </tr>\n",
       "  </thead>\n",
       "  <tbody>\n",
       "    <tr>\n",
       "      <th>30</th>\n",
       "      <td>Fungus_Combined</td>\n",
       "      <td>1</td>\n",
       "      <td>0.045967</td>\n",
       "      <td>0.041436</td>\n",
       "      <td>0.047575</td>\n",
       "      <td>0.046989</td>\n",
       "      <td>0.044280</td>\n",
       "      <td>0.041682</td>\n",
       "      <td>0.038991</td>\n",
       "      <td>0.039349</td>\n",
       "      <td>...</td>\n",
       "      <td>0.038921</td>\n",
       "      <td>0.038709</td>\n",
       "      <td>0.038491</td>\n",
       "      <td>0.038296</td>\n",
       "      <td>0.038164</td>\n",
       "      <td>0.037970</td>\n",
       "      <td>0.037724</td>\n",
       "      <td>0.037555</td>\n",
       "      <td>0.037394</td>\n",
       "      <td>0.037298</td>\n",
       "    </tr>\n",
       "    <tr>\n",
       "      <th>31</th>\n",
       "      <td>Fungus_Combined</td>\n",
       "      <td>2</td>\n",
       "      <td>0.053633</td>\n",
       "      <td>0.050648</td>\n",
       "      <td>0.057949</td>\n",
       "      <td>0.053118</td>\n",
       "      <td>0.047018</td>\n",
       "      <td>0.044844</td>\n",
       "      <td>0.045796</td>\n",
       "      <td>0.046521</td>\n",
       "      <td>...</td>\n",
       "      <td>0.033658</td>\n",
       "      <td>0.033482</td>\n",
       "      <td>0.033324</td>\n",
       "      <td>0.033133</td>\n",
       "      <td>0.032866</td>\n",
       "      <td>0.032687</td>\n",
       "      <td>0.032564</td>\n",
       "      <td>0.032392</td>\n",
       "      <td>0.032223</td>\n",
       "      <td>0.032051</td>\n",
       "    </tr>\n",
       "    <tr>\n",
       "      <th>32</th>\n",
       "      <td>Fungus_Combined</td>\n",
       "      <td>3</td>\n",
       "      <td>0.062055</td>\n",
       "      <td>0.059616</td>\n",
       "      <td>0.064222</td>\n",
       "      <td>0.061381</td>\n",
       "      <td>0.057837</td>\n",
       "      <td>0.055202</td>\n",
       "      <td>0.051088</td>\n",
       "      <td>0.052646</td>\n",
       "      <td>...</td>\n",
       "      <td>0.033879</td>\n",
       "      <td>0.033709</td>\n",
       "      <td>0.033514</td>\n",
       "      <td>0.033304</td>\n",
       "      <td>0.032950</td>\n",
       "      <td>0.032804</td>\n",
       "      <td>0.032792</td>\n",
       "      <td>0.032676</td>\n",
       "      <td>0.032612</td>\n",
       "      <td>0.032532</td>\n",
       "    </tr>\n",
       "    <tr>\n",
       "      <th>33</th>\n",
       "      <td>Fungus_Combined</td>\n",
       "      <td>4</td>\n",
       "      <td>0.058219</td>\n",
       "      <td>0.053641</td>\n",
       "      <td>0.057320</td>\n",
       "      <td>0.055591</td>\n",
       "      <td>0.053384</td>\n",
       "      <td>0.051206</td>\n",
       "      <td>0.046451</td>\n",
       "      <td>0.048358</td>\n",
       "      <td>...</td>\n",
       "      <td>0.033762</td>\n",
       "      <td>0.033618</td>\n",
       "      <td>0.033543</td>\n",
       "      <td>0.033376</td>\n",
       "      <td>0.033092</td>\n",
       "      <td>0.032943</td>\n",
       "      <td>0.032837</td>\n",
       "      <td>0.032726</td>\n",
       "      <td>0.032680</td>\n",
       "      <td>0.032620</td>\n",
       "    </tr>\n",
       "    <tr>\n",
       "      <th>34</th>\n",
       "      <td>Fungus_Combined</td>\n",
       "      <td>5</td>\n",
       "      <td>0.048438</td>\n",
       "      <td>0.045898</td>\n",
       "      <td>0.051811</td>\n",
       "      <td>0.049622</td>\n",
       "      <td>0.046042</td>\n",
       "      <td>0.044055</td>\n",
       "      <td>0.042995</td>\n",
       "      <td>0.044058</td>\n",
       "      <td>...</td>\n",
       "      <td>0.027912</td>\n",
       "      <td>0.027745</td>\n",
       "      <td>0.027652</td>\n",
       "      <td>0.027470</td>\n",
       "      <td>0.027226</td>\n",
       "      <td>0.027036</td>\n",
       "      <td>0.026775</td>\n",
       "      <td>0.026725</td>\n",
       "      <td>0.026867</td>\n",
       "      <td>0.026815</td>\n",
       "    </tr>\n",
       "  </tbody>\n",
       "</table>\n",
       "<p>5 rows × 2153 columns</p>\n",
       "</div>"
      ],
      "text/plain": [
       "        Tratamiento  Planta       350       351       352       353       354  \\\n",
       "30  Fungus_Combined       1  0.045967  0.041436  0.047575  0.046989  0.044280   \n",
       "31  Fungus_Combined       2  0.053633  0.050648  0.057949  0.053118  0.047018   \n",
       "32  Fungus_Combined       3  0.062055  0.059616  0.064222  0.061381  0.057837   \n",
       "33  Fungus_Combined       4  0.058219  0.053641  0.057320  0.055591  0.053384   \n",
       "34  Fungus_Combined       5  0.048438  0.045898  0.051811  0.049622  0.046042   \n",
       "\n",
       "         355       356       357  ...      2491      2492      2493      2494  \\\n",
       "30  0.041682  0.038991  0.039349  ...  0.038921  0.038709  0.038491  0.038296   \n",
       "31  0.044844  0.045796  0.046521  ...  0.033658  0.033482  0.033324  0.033133   \n",
       "32  0.055202  0.051088  0.052646  ...  0.033879  0.033709  0.033514  0.033304   \n",
       "33  0.051206  0.046451  0.048358  ...  0.033762  0.033618  0.033543  0.033376   \n",
       "34  0.044055  0.042995  0.044058  ...  0.027912  0.027745  0.027652  0.027470   \n",
       "\n",
       "        2495      2496      2497      2498      2499      2500  \n",
       "30  0.038164  0.037970  0.037724  0.037555  0.037394  0.037298  \n",
       "31  0.032866  0.032687  0.032564  0.032392  0.032223  0.032051  \n",
       "32  0.032950  0.032804  0.032792  0.032676  0.032612  0.032532  \n",
       "33  0.033092  0.032943  0.032837  0.032726  0.032680  0.032620  \n",
       "34  0.027226  0.027036  0.026775  0.026725  0.026867  0.026815  \n",
       "\n",
       "[5 rows x 2153 columns]"
      ]
     },
     "execution_count": 11,
     "metadata": {},
     "output_type": "execute_result"
    }
   ],
   "source": [
    "df_EHvsCombFungus = df1.copy()\n",
    "\n",
    "df_EHvsCombFungus = df_EHvsCombFungus[(df_EHvsCombFungus['Tratamiento'] != 'Control')]\n",
    "\n",
    "df_EHvsCombFungus['Tratamiento'] = df_EHvsCombFungus['Tratamiento'].apply(lambda x: 'Fungus_Combined' if x != 'E_Hidrico' else 'Hidric_Stress')\n",
    "\n",
    "print(df_EHvsCombFungus['Tratamiento'].value_counts())\n",
    "\n",
    "df_EHvsCombFungus.head()"
   ]
  },
  {
   "cell_type": "code",
   "execution_count": 12,
   "id": "9100c8a9",
   "metadata": {},
   "outputs": [],
   "source": [
    "X = df_EHvsCombFungus.iloc[:, 3:].values\n",
    "y = df_EHvsCombFungus['Tratamiento'].values\n",
    "\n",
    "#split the data into training and testing sets\n",
    "X_train, X_test, y_train, y_test = train_test_split(X, y, test_size=0.2, random_state=42, stratify=y)"
   ]
  },
  {
   "cell_type": "markdown",
   "id": "b569d1d1",
   "metadata": {},
   "source": [
    "### Logistic Regression"
   ]
  },
  {
   "cell_type": "code",
   "execution_count": 13,
   "id": "153ad049",
   "metadata": {},
   "outputs": [
    {
     "name": "stdout",
     "output_type": "stream",
     "text": [
      "Best Model Accuracy: 0.9047619047619048\n",
      "Best Model Classification Report:\n",
      "                  precision    recall  f1-score   support\n",
      "\n",
      "Fungus_Combined       0.97      0.92      0.94        36\n",
      "  Hidric_Stress       0.62      0.83      0.71         6\n",
      "\n",
      "       accuracy                           0.90        42\n",
      "      macro avg       0.80      0.88      0.83        42\n",
      "   weighted avg       0.92      0.90      0.91        42\n",
      "\n"
     ]
    }
   ],
   "source": [
    "# Define a more comprehensive parameter grid for hyperparameter tuning\n",
    "param_grid = [\n",
    "    # L1 regularization options\n",
    "    {\n",
    "        'PCA__n_components': [5, 10, 15, 20, 30],\n",
    "        'model__penalty': ['l1'],\n",
    "        'model__C': [0.001, 0.01, 0.1, 1, 10, 100],\n",
    "        'model__solver': ['liblinear', 'saga'],\n",
    "        'model__class_weight': [None, 'balanced']\n",
    "    },\n",
    "    # L2 regularization options\n",
    "    {\n",
    "        'PCA__n_components': [5, 10, 15, 20, 30],\n",
    "        'model__penalty': ['l2'],\n",
    "        'model__C': [0.001, 0.01, 0.1, 1, 10, 100],\n",
    "        'model__solver': ['liblinear', 'saga', 'lbfgs'],\n",
    "        'model__class_weight': [None, 'balanced']\n",
    "    },\n",
    "    # Elasticnet option (saga only)\n",
    "    {\n",
    "        'PCA__n_components': [5, 10, 15, 20, 30],\n",
    "        'model__penalty': ['elasticnet'],\n",
    "        'model__C': [0.001, 0.01, 0.1, 1, 10, 100],\n",
    "        'model__solver': ['saga'],\n",
    "        'model__l1_ratio': [0.2, 0.5, 0.8],\n",
    "        'model__class_weight': [None, 'balanced']\n",
    "    }\n",
    "]\n",
    "\n",
    "# Create a pipeline\n",
    "pipeline = Pipeline([\n",
    "    ('PCA', PCA()),\n",
    "    ('model', LogisticRegression(max_iter=1000))\n",
    "])\n",
    "\n",
    "grid_search = GridSearchCV(pipeline, param_grid, cv=5, n_jobs=-1, scoring='accuracy')\n",
    "grid_search.fit(X_train, y_train)\n",
    "\n",
    "best_model = grid_search.best_estimator_\n",
    "# Make predictions with the best model\n",
    "y_pred_best = best_model.predict(X_test)\n",
    "# Evaluate the best model\n",
    "print(\"Best Model Accuracy:\", accuracy_score(y_test, y_pred_best))\n",
    "print(\"Best Model Classification Report:\\n\", classification_report(y_test, y_pred_best))"
   ]
  },
  {
   "cell_type": "code",
   "execution_count": 14,
   "id": "cee8c47f",
   "metadata": {},
   "outputs": [
    {
     "name": "stdout",
     "output_type": "stream",
     "text": [
      "Best Parameters: {'PCA__n_components': 20, 'model__C': 100, 'model__class_weight': 'balanced', 'model__penalty': 'l1', 'model__solver': 'liblinear'}\n"
     ]
    }
   ],
   "source": [
    "# Parameter for the best model found\n",
    "best_params = grid_search.best_params_\n",
    "print(\"Best Parameters:\", best_params)"
   ]
  },
  {
   "cell_type": "code",
   "execution_count": 15,
   "id": "703a81c7",
   "metadata": {},
   "outputs": [
    {
     "data": {
      "image/png": "[encoded data removed]",
      "text/plain": [
       "<Figure size 640x480 with 2 Axes>"
      ]
     },
     "metadata": {},
     "output_type": "display_data"
    }
   ],
   "source": [
    "cm = confusion_matrix(y_test, y_pred_best)\n",
    "disp = ConfusionMatrixDisplay(confusion_matrix=cm, display_labels=best_model.classes_)\n",
    "# Display the confusion matrix\n",
    "disp.plot(cmap='Blues')\n",
    "plt.title(f'Confusion Matrix - Logistic Regression with PCA - accuracy: {accuracy_score(y_test, y_pred_best):.4f}')\n",
    "plt.tight_layout()\n",
    "plt.show()"
   ]
  },
  {
   "cell_type": "markdown",
   "id": "35addea3",
   "metadata": {},
   "source": [
    "## Classification of Unhealthy plants: Hidric Stress vs specific fungal diseases"
   ]
  },
  {
   "cell_type": "markdown",
   "id": "fc9535ea",
   "metadata": {},
   "source": [
    "### Data Processing"
   ]
  },
  {
   "cell_type": "code",
   "execution_count": 16,
   "id": "2944b036",
   "metadata": {},
   "outputs": [
    {
     "name": "stdout",
     "output_type": "stream",
     "text": [
      "['Fungus_Disease' 'Hydric_Stress']\n"
     ]
    }
   ],
   "source": [
    "df_EHvsFD = df1.copy()\n",
    "\n",
    "df_EHvsFD = df_EHvsFD[(df_EHvsFD['Tratamiento'] == 'Fusarium') | \n",
    "                      (df_EHvsFD['Tratamiento'] == 'E_Hidrico') | \n",
    "                      (df_EHvsFD['Tratamiento'] == 'Ralstonia')]  \n",
    "\n",
    "df_EHvsFD['Tratamiento'] = df_EHvsFD['Tratamiento'].apply(lambda x: 'Fungus_Disease' if x == 'Fusarium' or x == 'Ralstonia' else 'Hydric_Stress')\n",
    "\n",
    "print(df_EHvsFD['Tratamiento'].unique())\n",
    "\n",
    "X = df_EHvsFD.iloc[:, 3:].values\n",
    "y = df_EHvsFD['Tratamiento'].values\n",
    "\n",
    "#split the data into training and testing sets\n",
    "X_train, X_test, y_train, y_test = train_test_split(X, y, test_size=0.2, random_state=42, stratify=y)"
   ]
  },
  {
   "cell_type": "markdown",
   "id": "be8ecbd7",
   "metadata": {},
   "source": [
    "### Logistic Regression"
   ]
  },
  {
   "cell_type": "code",
   "execution_count": 17,
   "id": "961eb8c3",
   "metadata": {},
   "outputs": [
    {
     "name": "stdout",
     "output_type": "stream",
     "text": [
      "Best Model Accuracy: 0.7777777777777778\n",
      "Best Model Classification Report:\n",
      "                 precision    recall  f1-score   support\n",
      "\n",
      "Fungus_Disease       0.83      0.83      0.83        12\n",
      " Hydric_Stress       0.67      0.67      0.67         6\n",
      "\n",
      "      accuracy                           0.78        18\n",
      "     macro avg       0.75      0.75      0.75        18\n",
      "  weighted avg       0.78      0.78      0.78        18\n",
      "\n"
     ]
    }
   ],
   "source": [
    "# Define a more comprehensive parameter grid for hyperparameter tuning\n",
    "param_grid = [\n",
    "    # L1 regularization options\n",
    "    {\n",
    "        'PCA__n_components': [5, 10, 15, 20, 30],\n",
    "        'model__penalty': ['l1'],\n",
    "        'model__C': [0.001, 0.01, 0.1, 1, 10, 100],\n",
    "        'model__solver': ['liblinear', 'saga'],\n",
    "        'model__class_weight': [None, 'balanced']\n",
    "    },\n",
    "    # L2 regularization options\n",
    "    {\n",
    "        'PCA__n_components': [5, 10, 15, 20, 30],\n",
    "        'model__penalty': ['l2'],\n",
    "        'model__C': [0.001, 0.01, 0.1, 1, 10, 100],\n",
    "        'model__solver': ['liblinear', 'saga', 'lbfgs'],\n",
    "        'model__class_weight': [None, 'balanced']\n",
    "    },\n",
    "    # Elasticnet option (saga only)\n",
    "    {\n",
    "        'PCA__n_components': [5, 10, 15, 20, 30],\n",
    "        'model__penalty': ['elasticnet'],\n",
    "        'model__C': [0.001, 0.01, 0.1, 1, 10, 100],\n",
    "        'model__solver': ['saga'],\n",
    "        'model__l1_ratio': [0.2, 0.5, 0.8],\n",
    "        'model__class_weight': [None, 'balanced']\n",
    "    }\n",
    "]\n",
    "\n",
    "# Create a pipeline\n",
    "pipeline = Pipeline([\n",
    "    ('PCA', PCA()),\n",
    "    ('model', LogisticRegression(max_iter=1000))\n",
    "])\n",
    "\n",
    "grid_search = GridSearchCV(pipeline, param_grid, cv=5, n_jobs=-1, scoring='accuracy')\n",
    "grid_search.fit(X_train, y_train)\n",
    "\n",
    "best_model = grid_search.best_estimator_\n",
    "# Make predictions with the best model\n",
    "y_pred_best = best_model.predict(X_test)\n",
    "# Evaluate the best model\n",
    "print(\"Best Model Accuracy:\", accuracy_score(y_test, y_pred_best))\n",
    "print(\"Best Model Classification Report:\\n\", classification_report(y_test, y_pred_best))"
   ]
  },
  {
   "cell_type": "code",
   "execution_count": 18,
   "id": "fa2a8e4b",
   "metadata": {},
   "outputs": [
    {
     "name": "stdout",
     "output_type": "stream",
     "text": [
      "Best Parameters: {'PCA__n_components': 30, 'model__C': 100, 'model__class_weight': None, 'model__penalty': 'l1', 'model__solver': 'liblinear'}\n"
     ]
    }
   ],
   "source": [
    "# Parameter for the best model found\n",
    "best_params = grid_search.best_params_\n",
    "print(\"Best Parameters:\", best_params)"
   ]
  },
  {
   "cell_type": "code",
   "execution_count": 19,
   "id": "db167e07",
   "metadata": {},
   "outputs": [
    {
     "data": {
      "image/png": "[encoded data removed]",
      "text/plain": [
       "<Figure size 640x480 with 2 Axes>"
      ]
     },
     "metadata": {},
     "output_type": "display_data"
    }
   ],
   "source": [
    "cm = confusion_matrix(y_test, y_pred_best)\n",
    "disp = ConfusionMatrixDisplay(confusion_matrix=cm, display_labels=best_model.classes_)\n",
    "# Display the confusion matrix\n",
    "disp.plot(cmap='Blues')\n",
    "plt.title(f'Confusion Matrix - Logistic Regression with PCA - accuracy: {accuracy_score(y_test, y_pred_best):.4f}')\n",
    "plt.tight_layout()\n",
    "plt.show()"
   ]
  },
  {
   "cell_type": "markdown",
   "id": "c6ae3887",
   "metadata": {},
   "source": [
    "## Classification of Unhealthy plants: Ralstonia vs Fusarium"
   ]
  },
  {
   "cell_type": "markdown",
   "id": "930df4d4",
   "metadata": {},
   "source": [
    "#### Data processing for classification"
   ]
  },
  {
   "cell_type": "code",
   "execution_count": 20,
   "id": "62ddc99d",
   "metadata": {},
   "outputs": [
    {
     "name": "stdout",
     "output_type": "stream",
     "text": [
      "Tratamiento\n",
      "Fusarium     30\n",
      "Ralstonia    29\n",
      "Name: count, dtype: int64\n"
     ]
    },
    {
     "data": {
      "text/html": [
       "<div>\n",
       "<style scoped>\n",
       "    .dataframe tbody tr th:only-of-type {\n",
       "        vertical-align: middle;\n",
       "    }\n",
       "\n",
       "    .dataframe tbody tr th {\n",
       "        vertical-align: top;\n",
       "    }\n",
       "\n",
       "    .dataframe thead th {\n",
       "        text-align: right;\n",
       "    }\n",
       "</style>\n",
       "<table border=\"1\" class=\"dataframe\">\n",
       "  <thead>\n",
       "    <tr style=\"text-align: right;\">\n",
       "      <th></th>\n",
       "      <th>Tratamiento</th>\n",
       "      <th>Planta</th>\n",
       "      <th>350</th>\n",
       "      <th>351</th>\n",
       "      <th>352</th>\n",
       "      <th>353</th>\n",
       "      <th>354</th>\n",
       "      <th>355</th>\n",
       "      <th>356</th>\n",
       "      <th>357</th>\n",
       "      <th>...</th>\n",
       "      <th>2491</th>\n",
       "      <th>2492</th>\n",
       "      <th>2493</th>\n",
       "      <th>2494</th>\n",
       "      <th>2495</th>\n",
       "      <th>2496</th>\n",
       "      <th>2497</th>\n",
       "      <th>2498</th>\n",
       "      <th>2499</th>\n",
       "      <th>2500</th>\n",
       "    </tr>\n",
       "  </thead>\n",
       "  <tbody>\n",
       "    <tr>\n",
       "      <th>30</th>\n",
       "      <td>Ralstonia</td>\n",
       "      <td>1</td>\n",
       "      <td>0.045967</td>\n",
       "      <td>0.041436</td>\n",
       "      <td>0.047575</td>\n",
       "      <td>0.046989</td>\n",
       "      <td>0.044280</td>\n",
       "      <td>0.041682</td>\n",
       "      <td>0.038991</td>\n",
       "      <td>0.039349</td>\n",
       "      <td>...</td>\n",
       "      <td>0.038921</td>\n",
       "      <td>0.038709</td>\n",
       "      <td>0.038491</td>\n",
       "      <td>0.038296</td>\n",
       "      <td>0.038164</td>\n",
       "      <td>0.037970</td>\n",
       "      <td>0.037724</td>\n",
       "      <td>0.037555</td>\n",
       "      <td>0.037394</td>\n",
       "      <td>0.037298</td>\n",
       "    </tr>\n",
       "    <tr>\n",
       "      <th>31</th>\n",
       "      <td>Ralstonia</td>\n",
       "      <td>2</td>\n",
       "      <td>0.053633</td>\n",
       "      <td>0.050648</td>\n",
       "      <td>0.057949</td>\n",
       "      <td>0.053118</td>\n",
       "      <td>0.047018</td>\n",
       "      <td>0.044844</td>\n",
       "      <td>0.045796</td>\n",
       "      <td>0.046521</td>\n",
       "      <td>...</td>\n",
       "      <td>0.033658</td>\n",
       "      <td>0.033482</td>\n",
       "      <td>0.033324</td>\n",
       "      <td>0.033133</td>\n",
       "      <td>0.032866</td>\n",
       "      <td>0.032687</td>\n",
       "      <td>0.032564</td>\n",
       "      <td>0.032392</td>\n",
       "      <td>0.032223</td>\n",
       "      <td>0.032051</td>\n",
       "    </tr>\n",
       "    <tr>\n",
       "      <th>32</th>\n",
       "      <td>Ralstonia</td>\n",
       "      <td>3</td>\n",
       "      <td>0.062055</td>\n",
       "      <td>0.059616</td>\n",
       "      <td>0.064222</td>\n",
       "      <td>0.061381</td>\n",
       "      <td>0.057837</td>\n",
       "      <td>0.055202</td>\n",
       "      <td>0.051088</td>\n",
       "      <td>0.052646</td>\n",
       "      <td>...</td>\n",
       "      <td>0.033879</td>\n",
       "      <td>0.033709</td>\n",
       "      <td>0.033514</td>\n",
       "      <td>0.033304</td>\n",
       "      <td>0.032950</td>\n",
       "      <td>0.032804</td>\n",
       "      <td>0.032792</td>\n",
       "      <td>0.032676</td>\n",
       "      <td>0.032612</td>\n",
       "      <td>0.032532</td>\n",
       "    </tr>\n",
       "    <tr>\n",
       "      <th>33</th>\n",
       "      <td>Ralstonia</td>\n",
       "      <td>4</td>\n",
       "      <td>0.058219</td>\n",
       "      <td>0.053641</td>\n",
       "      <td>0.057320</td>\n",
       "      <td>0.055591</td>\n",
       "      <td>0.053384</td>\n",
       "      <td>0.051206</td>\n",
       "      <td>0.046451</td>\n",
       "      <td>0.048358</td>\n",
       "      <td>...</td>\n",
       "      <td>0.033762</td>\n",
       "      <td>0.033618</td>\n",
       "      <td>0.033543</td>\n",
       "      <td>0.033376</td>\n",
       "      <td>0.033092</td>\n",
       "      <td>0.032943</td>\n",
       "      <td>0.032837</td>\n",
       "      <td>0.032726</td>\n",
       "      <td>0.032680</td>\n",
       "      <td>0.032620</td>\n",
       "    </tr>\n",
       "    <tr>\n",
       "      <th>34</th>\n",
       "      <td>Ralstonia</td>\n",
       "      <td>5</td>\n",
       "      <td>0.048438</td>\n",
       "      <td>0.045898</td>\n",
       "      <td>0.051811</td>\n",
       "      <td>0.049622</td>\n",
       "      <td>0.046042</td>\n",
       "      <td>0.044055</td>\n",
       "      <td>0.042995</td>\n",
       "      <td>0.044058</td>\n",
       "      <td>...</td>\n",
       "      <td>0.027912</td>\n",
       "      <td>0.027745</td>\n",
       "      <td>0.027652</td>\n",
       "      <td>0.027470</td>\n",
       "      <td>0.027226</td>\n",
       "      <td>0.027036</td>\n",
       "      <td>0.026775</td>\n",
       "      <td>0.026725</td>\n",
       "      <td>0.026867</td>\n",
       "      <td>0.026815</td>\n",
       "    </tr>\n",
       "  </tbody>\n",
       "</table>\n",
       "<p>5 rows × 2153 columns</p>\n",
       "</div>"
      ],
      "text/plain": [
       "   Tratamiento  Planta       350       351       352       353       354  \\\n",
       "30   Ralstonia       1  0.045967  0.041436  0.047575  0.046989  0.044280   \n",
       "31   Ralstonia       2  0.053633  0.050648  0.057949  0.053118  0.047018   \n",
       "32   Ralstonia       3  0.062055  0.059616  0.064222  0.061381  0.057837   \n",
       "33   Ralstonia       4  0.058219  0.053641  0.057320  0.055591  0.053384   \n",
       "34   Ralstonia       5  0.048438  0.045898  0.051811  0.049622  0.046042   \n",
       "\n",
       "         355       356       357  ...      2491      2492      2493      2494  \\\n",
       "30  0.041682  0.038991  0.039349  ...  0.038921  0.038709  0.038491  0.038296   \n",
       "31  0.044844  0.045796  0.046521  ...  0.033658  0.033482  0.033324  0.033133   \n",
       "32  0.055202  0.051088  0.052646  ...  0.033879  0.033709  0.033514  0.033304   \n",
       "33  0.051206  0.046451  0.048358  ...  0.033762  0.033618  0.033543  0.033376   \n",
       "34  0.044055  0.042995  0.044058  ...  0.027912  0.027745  0.027652  0.027470   \n",
       "\n",
       "        2495      2496      2497      2498      2499      2500  \n",
       "30  0.038164  0.037970  0.037724  0.037555  0.037394  0.037298  \n",
       "31  0.032866  0.032687  0.032564  0.032392  0.032223  0.032051  \n",
       "32  0.032950  0.032804  0.032792  0.032676  0.032612  0.032532  \n",
       "33  0.033092  0.032943  0.032837  0.032726  0.032680  0.032620  \n",
       "34  0.027226  0.027036  0.026775  0.026725  0.026867  0.026815  \n",
       "\n",
       "[5 rows x 2153 columns]"
      ]
     },
     "execution_count": 20,
     "metadata": {},
     "output_type": "execute_result"
    }
   ],
   "source": [
    "\n",
    "df_DiseaseType = df1.copy()\n",
    "\n",
    "# Lets filter only unhealthy plants\n",
    "df_DiseaseType = df_DiseaseType[(df_DiseaseType['Tratamiento'] == 'Ralstonia') | (df_DiseaseType['Tratamiento'] == 'Fusarium')]\n",
    "\n",
    "print(df_DiseaseType['Tratamiento'].value_counts())\n",
    "df_DiseaseType.head()"
   ]
  },
  {
   "cell_type": "code",
   "execution_count": 21,
   "id": "a9d38d4b",
   "metadata": {},
   "outputs": [],
   "source": [
    "# data treatment\n",
    "\n",
    "# Data preparation for model production\n",
    "X = df_DiseaseType.iloc[:, 3:].values\n",
    "\n",
    "y = df_DiseaseType['Tratamiento'].values\n",
    "\n",
    "#split the data into training and testing sets\n",
    "X_train, X_test, y_train, y_test = train_test_split(X, y, test_size=0.2, random_state=42, stratify=y)"
   ]
  },
  {
   "cell_type": "markdown",
   "id": "53fac822",
   "metadata": {},
   "source": [
    "### Logistic Regression"
   ]
  },
  {
   "cell_type": "code",
   "execution_count": 22,
   "id": "a5986ba0",
   "metadata": {},
   "outputs": [
    {
     "name": "stdout",
     "output_type": "stream",
     "text": [
      "Best Model Accuracy: 0.9166666666666666\n",
      "Best Model Classification Report:\n",
      "               precision    recall  f1-score   support\n",
      "\n",
      "    Fusarium       0.86      1.00      0.92         6\n",
      "   Ralstonia       1.00      0.83      0.91         6\n",
      "\n",
      "    accuracy                           0.92        12\n",
      "   macro avg       0.93      0.92      0.92        12\n",
      "weighted avg       0.93      0.92      0.92        12\n",
      "\n"
     ]
    },
    {
     "name": "stderr",
     "output_type": "stream",
     "text": [
      "c:\\Users\\ricar\\AppData\\Local\\Programs\\Python\\Python313\\Lib\\site-packages\\sklearn\\linear_model\\_sag.py:348: ConvergenceWarning: The max_iter was reached which means the coef_ did not converge\n",
      "  warnings.warn(\n"
     ]
    }
   ],
   "source": [
    "# Define a more comprehensive parameter grid for hyperparameter tuning\n",
    "param_grid = [\n",
    "    # L1 regularization options\n",
    "    {\n",
    "        'PCA__n_components': [5, 10, 15, 20, 30],\n",
    "        'model__penalty': ['l1'],\n",
    "        'model__C': [0.001, 0.01, 0.1, 1, 10, 100],\n",
    "        'model__solver': ['liblinear', 'saga'],\n",
    "        'model__class_weight': [None, 'balanced']\n",
    "    },\n",
    "    # L2 regularization options\n",
    "    {\n",
    "        'PCA__n_components': [5, 10, 15, 20, 30],\n",
    "        'model__penalty': ['l2'],\n",
    "        'model__C': [0.001, 0.01, 0.1, 1, 10, 100],\n",
    "        'model__solver': ['liblinear', 'saga', 'lbfgs'],\n",
    "        'model__class_weight': [None, 'balanced']\n",
    "    },\n",
    "    # Elasticnet option (saga only)\n",
    "    {\n",
    "        'PCA__n_components': [5, 10, 15, 20, 30],\n",
    "        'model__penalty': ['elasticnet'],\n",
    "        'model__C': [0.001, 0.01, 0.1, 1, 10, 100],\n",
    "        'model__solver': ['saga'],\n",
    "        'model__l1_ratio': [0.2, 0.5, 0.8],\n",
    "        'model__class_weight': [None, 'balanced']\n",
    "    }\n",
    "]\n",
    "\n",
    "# Create a pipeline\n",
    "pipeline = Pipeline([\n",
    "    ('PCA', PCA()),\n",
    "    ('model', LogisticRegression(max_iter=1000))\n",
    "])\n",
    "\n",
    "grid_search = GridSearchCV(pipeline, param_grid, cv=5, n_jobs=-1, scoring='accuracy')\n",
    "grid_search.fit(X_train, y_train)\n",
    "\n",
    "best_model = grid_search.best_estimator_\n",
    "# Make predictions with the best model\n",
    "y_pred_best = best_model.predict(X_test)\n",
    "# Evaluate the best model\n",
    "print(\"Best Model Accuracy:\", accuracy_score(y_test, y_pred_best))\n",
    "print(\"Best Model Classification Report:\\n\", classification_report(y_test, y_pred_best))\n"
   ]
  },
  {
   "cell_type": "code",
   "execution_count": 23,
   "id": "c6f560a0",
   "metadata": {},
   "outputs": [
    {
     "name": "stdout",
     "output_type": "stream",
     "text": [
      "Best Parameters: {'PCA__n_components': 10, 'model__C': 100, 'model__class_weight': None, 'model__penalty': 'l1', 'model__solver': 'saga'}\n"
     ]
    }
   ],
   "source": [
    "# Parameter for the best model found\n",
    "best_params = grid_search.best_params_\n",
    "print(\"Best Parameters:\", best_params)"
   ]
  },
  {
   "cell_type": "code",
   "execution_count": 24,
   "id": "8baad181",
   "metadata": {},
   "outputs": [
    {
     "data": {
      "image/png": "[encoded data removed]",
      "text/plain": [
       "<Figure size 640x480 with 2 Axes>"
      ]
     },
     "metadata": {},
     "output_type": "display_data"
    }
   ],
   "source": [
    "cm = confusion_matrix(y_test, y_pred_best)\n",
    "disp = ConfusionMatrixDisplay(confusion_matrix=cm, display_labels=best_model.classes_)\n",
    "# Display the confusion matrix\n",
    "disp.plot(cmap='Blues')\n",
    "plt.title(f'Confusion Matrix - Logistic Regression with PCA - accuracy: {accuracy_score(y_test, y_pred_best):.4f}')\n",
    "plt.tight_layout()\n",
    "plt.show()"
   ]
  }
 ],
 "metadata": {
  "kernelspec": {
   "display_name": "Python 3",
   "language": "python",
   "name": "python3"
  },
  "language_info": {
   "codemirror_mode": {
    "name": "ipython",
    "version": 3
   },
   "file_extension": ".py",
   "mimetype": "text/x-python",
   "name": "python",
   "nbconvert_exporter": "python",
   "pygments_lexer": "ipython3",
   "version": "3.13.1"
  }
 },
 "nbformat": 4,
 "nbformat_minor": 5
}
