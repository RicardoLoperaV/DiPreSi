{
 "cells": [
  {
   "cell_type": "code",
   "execution_count": 1,
   "id": "ae553188",
   "metadata": {},
   "outputs": [],
   "source": [
    "import sys\n",
    "from pathlib import Path\n",
    "# Get the repository root (2 levels up from current notebook)\n",
    "repo_root = Path(__file__).parent.parent.parent if '__file__' in globals() else Path.cwd().parent.parent\n",
    "sys.path.insert(0, str(repo_root))\n",
    "\n",
    "# import necessary libraries\n",
    "import os\n",
    "import numpy as np\n",
    "import pandas as pd\n",
    "import matplotlib.pyplot as plt\n",
    "import seaborn as sns\n",
    "from sklearn.decomposition import PCA\n",
    "from sklearn.manifold import TSNE, trustworthiness\n",
    "import Template\n",
    "from sklearn.neighbors import KNeighborsClassifier\n",
    "from sklearn.metrics import classification_report, confusion_matrix, accuracy_score, ConfusionMatrixDisplay, precision_score, recall_score, f1_score\n",
    "from sklearn.model_selection import train_test_split, GridSearchCV\n",
    "from sklearn.pipeline import Pipeline\n",
    "from sklearn.svm import SVC\n",
    "from tensorflow import keras\n",
    "from keras import layers\n",
    "from sklearn.preprocessing import LabelEncoder\n",
    "from sklearn.linear_model import LogisticRegression\n",
    "from sklearn.ensemble import BaggingClassifier\n",
    "from sklearn.tree import DecisionTreeClassifier\n",
    "\n"
   ]
  },
  {
   "cell_type": "code",
   "execution_count": 2,
   "id": "6381704c",
   "metadata": {},
   "outputs": [],
   "source": [
    "Template = Template.Template()\n",
    "\n",
    "# Build the path to the Excel file in the repository root\n",
    "data_path = os.path.join(os.path.dirname(os.getcwd()), '..', 'Datos1_InteraccionesNIR.xlsx')\n",
    "\n",
    "\n",
    "# import the data from all sheets of the Excel file\n",
    "\n",
    "df1 = pd.read_excel(data_path, sheet_name=1)"
   ]
  },
  {
   "cell_type": "code",
   "execution_count": 3,
   "id": "0aab0ef9",
   "metadata": {},
   "outputs": [
    {
     "name": "stdout",
     "output_type": "stream",
     "text": [
      "Tratamiento\n",
      "Control       30\n",
      "Fusarium      30\n",
      "E_Hidrico     30\n",
      "Ral_Fus       30\n",
      "Fus_EH        30\n",
      "Ral_EH        30\n",
      "Fus_EH_Ral    30\n",
      "Ralstonia     29\n",
      "Name: count, dtype: int64\n"
     ]
    }
   ],
   "source": [
    "print(df1['Tratamiento'].value_counts())"
   ]
  },
  {
   "cell_type": "markdown",
   "id": "02fa2b34",
   "metadata": {},
   "source": [
    "## Classification of Healthy plants vs Unhealthy plants"
   ]
  },
  {
   "cell_type": "markdown",
   "id": "77bead1d",
   "metadata": {},
   "source": [
    "#### Data processing for classification"
   ]
  },
  {
   "cell_type": "code",
   "execution_count": 4,
   "id": "30afa302",
   "metadata": {},
   "outputs": [
    {
     "data": {
      "text/html": [
       "<div>\n",
       "<style scoped>\n",
       "    .dataframe tbody tr th:only-of-type {\n",
       "        vertical-align: middle;\n",
       "    }\n",
       "\n",
       "    .dataframe tbody tr th {\n",
       "        vertical-align: top;\n",
       "    }\n",
       "\n",
       "    .dataframe thead th {\n",
       "        text-align: right;\n",
       "    }\n",
       "</style>\n",
       "<table border=\"1\" class=\"dataframe\">\n",
       "  <thead>\n",
       "    <tr style=\"text-align: right;\">\n",
       "      <th></th>\n",
       "      <th>Tratamiento</th>\n",
       "      <th>350</th>\n",
       "      <th>351</th>\n",
       "      <th>352</th>\n",
       "      <th>353</th>\n",
       "      <th>354</th>\n",
       "      <th>355</th>\n",
       "      <th>356</th>\n",
       "      <th>357</th>\n",
       "      <th>358</th>\n",
       "      <th>...</th>\n",
       "      <th>2492</th>\n",
       "      <th>2493</th>\n",
       "      <th>2494</th>\n",
       "      <th>2495</th>\n",
       "      <th>2496</th>\n",
       "      <th>2497</th>\n",
       "      <th>2498</th>\n",
       "      <th>2499</th>\n",
       "      <th>2500</th>\n",
       "      <th>Health_Status</th>\n",
       "    </tr>\n",
       "  </thead>\n",
       "  <tbody>\n",
       "    <tr>\n",
       "      <th>0</th>\n",
       "      <td>Control</td>\n",
       "      <td>0.078084</td>\n",
       "      <td>0.075299</td>\n",
       "      <td>0.077410</td>\n",
       "      <td>0.074002</td>\n",
       "      <td>0.070505</td>\n",
       "      <td>0.067700</td>\n",
       "      <td>0.062893</td>\n",
       "      <td>0.062420</td>\n",
       "      <td>0.063808</td>\n",
       "      <td>...</td>\n",
       "      <td>0.036081</td>\n",
       "      <td>0.035957</td>\n",
       "      <td>0.035807</td>\n",
       "      <td>0.035688</td>\n",
       "      <td>0.035551</td>\n",
       "      <td>0.035364</td>\n",
       "      <td>0.035257</td>\n",
       "      <td>0.035179</td>\n",
       "      <td>0.035142</td>\n",
       "      <td>Healthy</td>\n",
       "    </tr>\n",
       "    <tr>\n",
       "      <th>1</th>\n",
       "      <td>Control</td>\n",
       "      <td>0.073550</td>\n",
       "      <td>0.067523</td>\n",
       "      <td>0.071681</td>\n",
       "      <td>0.067482</td>\n",
       "      <td>0.063859</td>\n",
       "      <td>0.062469</td>\n",
       "      <td>0.059024</td>\n",
       "      <td>0.057638</td>\n",
       "      <td>0.058499</td>\n",
       "      <td>...</td>\n",
       "      <td>0.032865</td>\n",
       "      <td>0.032683</td>\n",
       "      <td>0.032480</td>\n",
       "      <td>0.032208</td>\n",
       "      <td>0.032009</td>\n",
       "      <td>0.031834</td>\n",
       "      <td>0.031691</td>\n",
       "      <td>0.031569</td>\n",
       "      <td>0.031492</td>\n",
       "      <td>Healthy</td>\n",
       "    </tr>\n",
       "    <tr>\n",
       "      <th>2</th>\n",
       "      <td>Control</td>\n",
       "      <td>0.078702</td>\n",
       "      <td>0.072332</td>\n",
       "      <td>0.076551</td>\n",
       "      <td>0.075096</td>\n",
       "      <td>0.069730</td>\n",
       "      <td>0.063826</td>\n",
       "      <td>0.060950</td>\n",
       "      <td>0.061619</td>\n",
       "      <td>0.062749</td>\n",
       "      <td>...</td>\n",
       "      <td>0.031893</td>\n",
       "      <td>0.031702</td>\n",
       "      <td>0.031533</td>\n",
       "      <td>0.031349</td>\n",
       "      <td>0.031142</td>\n",
       "      <td>0.030905</td>\n",
       "      <td>0.030750</td>\n",
       "      <td>0.030586</td>\n",
       "      <td>0.030511</td>\n",
       "      <td>Healthy</td>\n",
       "    </tr>\n",
       "    <tr>\n",
       "      <th>3</th>\n",
       "      <td>Control</td>\n",
       "      <td>0.068565</td>\n",
       "      <td>0.067309</td>\n",
       "      <td>0.070531</td>\n",
       "      <td>0.066035</td>\n",
       "      <td>0.062364</td>\n",
       "      <td>0.060529</td>\n",
       "      <td>0.055741</td>\n",
       "      <td>0.052761</td>\n",
       "      <td>0.053525</td>\n",
       "      <td>...</td>\n",
       "      <td>0.031147</td>\n",
       "      <td>0.030997</td>\n",
       "      <td>0.030795</td>\n",
       "      <td>0.030522</td>\n",
       "      <td>0.030354</td>\n",
       "      <td>0.030158</td>\n",
       "      <td>0.030026</td>\n",
       "      <td>0.030024</td>\n",
       "      <td>0.029915</td>\n",
       "      <td>Healthy</td>\n",
       "    </tr>\n",
       "    <tr>\n",
       "      <th>4</th>\n",
       "      <td>Control</td>\n",
       "      <td>0.070898</td>\n",
       "      <td>0.067701</td>\n",
       "      <td>0.075494</td>\n",
       "      <td>0.069948</td>\n",
       "      <td>0.063975</td>\n",
       "      <td>0.061855</td>\n",
       "      <td>0.060048</td>\n",
       "      <td>0.059379</td>\n",
       "      <td>0.059372</td>\n",
       "      <td>...</td>\n",
       "      <td>0.029146</td>\n",
       "      <td>0.029101</td>\n",
       "      <td>0.028976</td>\n",
       "      <td>0.028791</td>\n",
       "      <td>0.028641</td>\n",
       "      <td>0.028453</td>\n",
       "      <td>0.028389</td>\n",
       "      <td>0.028404</td>\n",
       "      <td>0.028371</td>\n",
       "      <td>Healthy</td>\n",
       "    </tr>\n",
       "  </tbody>\n",
       "</table>\n",
       "<p>5 rows × 2153 columns</p>\n",
       "</div>"
      ],
      "text/plain": [
       "  Tratamiento       350       351       352       353       354       355  \\\n",
       "0     Control  0.078084  0.075299  0.077410  0.074002  0.070505  0.067700   \n",
       "1     Control  0.073550  0.067523  0.071681  0.067482  0.063859  0.062469   \n",
       "2     Control  0.078702  0.072332  0.076551  0.075096  0.069730  0.063826   \n",
       "3     Control  0.068565  0.067309  0.070531  0.066035  0.062364  0.060529   \n",
       "4     Control  0.070898  0.067701  0.075494  0.069948  0.063975  0.061855   \n",
       "\n",
       "        356       357       358  ...      2492      2493      2494      2495  \\\n",
       "0  0.062893  0.062420  0.063808  ...  0.036081  0.035957  0.035807  0.035688   \n",
       "1  0.059024  0.057638  0.058499  ...  0.032865  0.032683  0.032480  0.032208   \n",
       "2  0.060950  0.061619  0.062749  ...  0.031893  0.031702  0.031533  0.031349   \n",
       "3  0.055741  0.052761  0.053525  ...  0.031147  0.030997  0.030795  0.030522   \n",
       "4  0.060048  0.059379  0.059372  ...  0.029146  0.029101  0.028976  0.028791   \n",
       "\n",
       "       2496      2497      2498      2499      2500  Health_Status  \n",
       "0  0.035551  0.035364  0.035257  0.035179  0.035142        Healthy  \n",
       "1  0.032009  0.031834  0.031691  0.031569  0.031492        Healthy  \n",
       "2  0.031142  0.030905  0.030750  0.030586  0.030511        Healthy  \n",
       "3  0.030354  0.030158  0.030026  0.030024  0.029915        Healthy  \n",
       "4  0.028641  0.028453  0.028389  0.028404  0.028371        Healthy  \n",
       "\n",
       "[5 rows x 2153 columns]"
      ]
     },
     "execution_count": 4,
     "metadata": {},
     "output_type": "execute_result"
    }
   ],
   "source": [
    "# Make a new column 'Health_Status' based on 'Tratamiento'\n",
    "df_HvsUnH = df1.copy()\n",
    "\n",
    "df_HvsUnH['Health_Status'] = df_HvsUnH['Tratamiento'].apply(lambda x: 'Healthy' if x == 'Control' else 'Unhealthy')\n",
    "\n",
    "df_HvsUnH.head()"
   ]
  },
  {
   "cell_type": "code",
   "execution_count": 9,
   "id": "923e0cb5",
   "metadata": {},
   "outputs": [],
   "source": [
    "# data treatment\n",
    "\n",
    "# Data preparation for model production\n",
    "df_X = df_HvsUnH.drop(columns=['Health_Status'])\n",
    "\n",
    "X = df_X.iloc[:, 3:].values  \n",
    "\n",
    "y = df_HvsUnH['Health_Status'].values\n",
    "\n",
    "#split the data into training and testing sets\n",
    "X_train, X_test, y_train, y_test = train_test_split(X, y, test_size=0.3, random_state=42, stratify=y)"
   ]
  },
  {
   "cell_type": "markdown",
   "id": "aa9d184d",
   "metadata": {},
   "source": [
    "### Logistic Regression "
   ]
  },
  {
   "cell_type": "code",
   "execution_count": 10,
   "id": "0b2fb7fa",
   "metadata": {},
   "outputs": [
    {
     "name": "stdout",
     "output_type": "stream",
     "text": [
      "Best Model Accuracy: 0.9027777777777778\n",
      "Best Model Classification Report:\n",
      "               precision    recall  f1-score   support\n",
      "\n",
      "     Healthy       1.00      0.22      0.36         9\n",
      "   Unhealthy       0.90      1.00      0.95        63\n",
      "\n",
      "    accuracy                           0.90        72\n",
      "   macro avg       0.95      0.61      0.66        72\n",
      "weighted avg       0.91      0.90      0.87        72\n",
      "\n"
     ]
    }
   ],
   "source": [
    "# Define a more comprehensive parameter grid for hyperparameter tuning\n",
    "param_grid = [\n",
    "    # L1 regularization options\n",
    "    {\n",
    "        'PCA__n_components': [2],\n",
    "        'model__penalty': ['l1'],\n",
    "        'model__C': [0.001, 0.01, 0.1, 1, 10, 100],\n",
    "        'model__solver': ['liblinear', 'saga'],\n",
    "        'model__class_weight': [None, 'balanced']\n",
    "    },\n",
    "    # L2 regularization options\n",
    "    {\n",
    "        'PCA__n_components': [2],\n",
    "        'model__penalty': ['l2'],\n",
    "        'model__C': [0.001, 0.01, 0.1, 1, 10, 100],\n",
    "        'model__solver': ['liblinear', 'saga', 'lbfgs'],\n",
    "        'model__class_weight': [None, 'balanced']\n",
    "    },\n",
    "    # Elasticnet option (saga only)\n",
    "    {\n",
    "        'PCA__n_components': [2],\n",
    "        'model__penalty': ['elasticnet'],\n",
    "        'model__C': [0.001, 0.01, 0.1, 1, 10, 100],\n",
    "        'model__solver': ['saga'],\n",
    "        'model__l1_ratio': [0.2, 0.5, 0.8],\n",
    "        'model__class_weight': [None, 'balanced']\n",
    "    }\n",
    "]\n",
    "\n",
    "# Create a pipeline\n",
    "pipeline = Pipeline([\n",
    "    ('PCA', PCA()),\n",
    "    ('model', LogisticRegression(max_iter=1000))\n",
    "])\n",
    "\n",
    "grid_search = GridSearchCV(pipeline, param_grid, cv=5, n_jobs=-1, scoring='accuracy')\n",
    "grid_search.fit(X_train, y_train)\n",
    "\n",
    "best_model = grid_search.best_estimator_\n",
    "# Make predictions with the best model\n",
    "y_pred_best = best_model.predict(X_test)\n",
    "# Evaluate the best model\n",
    "print(\"Best Model Accuracy:\", accuracy_score(y_test, y_pred_best))\n",
    "print(\"Best Model Classification Report:\\n\", classification_report(y_test, y_pred_best))"
   ]
  },
  {
   "cell_type": "code",
   "execution_count": 11,
   "id": "cabaa972",
   "metadata": {},
   "outputs": [
    {
     "name": "stdout",
     "output_type": "stream",
     "text": [
      "Best Parameters: {'PCA__n_components': 2, 'model__C': 1, 'model__class_weight': None, 'model__penalty': 'l1', 'model__solver': 'liblinear'}\n"
     ]
    }
   ],
   "source": [
    "# Parameter for the best model found\n",
    "best_params = grid_search.best_params_\n",
    "print(\"Best Parameters:\", best_params)"
   ]
  },
  {
   "cell_type": "code",
   "execution_count": 12,
   "id": "0a613183",
   "metadata": {},
   "outputs": [
    {
     "data": {
      "image/png": "[encoded data removed]",
      "text/plain": [
       "<Figure size 640x480 with 2 Axes>"
      ]
     },
     "metadata": {},
     "output_type": "display_data"
    }
   ],
   "source": [
    "cm = confusion_matrix(y_test, y_pred_best)\n",
    "disp = ConfusionMatrixDisplay(confusion_matrix=cm, display_labels=best_model.classes_)\n",
    "# Display the confusion matrix\n",
    "disp.plot(cmap='Blues')\n",
    "plt.title(f'Confusion Matrix - Logistic Regression with PCA - accuracy: {accuracy_score(y_test, y_pred_best):.4f}')\n",
    "plt.tight_layout()\n",
    "plt.show()"
   ]
  },
  {
   "cell_type": "markdown",
   "id": "384c3e22",
   "metadata": {},
   "source": [
    "### SVM"
   ]
  },
  {
   "cell_type": "code",
   "execution_count": null,
   "id": "9dc10e2f",
   "metadata": {},
   "outputs": [],
   "source": [
    "param_grid = {\n",
    "    'pca__n_components': [5, 10, 15, 20, 30, 40],\n",
    "    'svm__C': [0.01, 0.1, 1, 10, 100],\n",
    "    'svm__kernel': ['linear', 'rbf', 'poly', 'sigmoid'],\n",
    "    'svm__gamma': ['scale', 'auto', 0.001, 0.01, 0.1, 1],\n",
    "    'svm__degree': [2, 3, 4],\n",
    "    'svm__class_weight': ['balanced', None]\n",
    "}\n",
    "\n",
    "pipeline = Pipeline([    \n",
    "    ('pca', PCA()),                   \n",
    "    ('svm', SVC())  \n",
    "])\n",
    "\n",
    "grid_search = GridSearchCV(pipeline, param_grid, cv=5, n_jobs=-1, verbose=1, scoring='balanced_accuracy')\n",
    "\n",
    "grid_search.fit(X_train, y_train)\n",
    "\n",
    "print(f\"Best cross-validation score (Accuracy): {grid_search.best_score_:.4f}\")\n",
    "print(\"Best parameters found:\")\n",
    "print(grid_search.best_params_)\n",
    "\n",
    "best_model = grid_search.best_estimator_\n",
    "accuracy = best_model.score(X_test, y_test)\n",
    "print(f\"\\nAccuracy on the test set: {accuracy:.4f}\")\n",
    "\n",
    "y_pred_SVM = best_model.predict(X_test)"
   ]
  },
  {
   "cell_type": "code",
   "execution_count": null,
   "id": "448b73e7",
   "metadata": {},
   "outputs": [],
   "source": [
    "cm = confusion_matrix(y_test, y_pred_SVM)\n",
    "disp = ConfusionMatrixDisplay(confusion_matrix=cm, display_labels=best_model.classes_)\n",
    "# Display the confusion matrix\n",
    "disp.plot(cmap='Blues')\n",
    "plt.title(f'Confusion Matrix - SVM with PCA - accuracy: {accuracy_score(y_test, y_pred_SVM):.4f}')\n",
    "plt.tight_layout()\n",
    "plt.show()"
   ]
  },
  {
   "cell_type": "markdown",
   "id": "0c3a3586",
   "metadata": {},
   "source": [
    "## Classification of Unhealthy plants: Hidric Stress vs fungal diseases (includes combined fungal diseases)"
   ]
  },
  {
   "cell_type": "markdown",
   "id": "f397e1eb",
   "metadata": {},
   "source": [
    "### Data Processing"
   ]
  },
  {
   "cell_type": "code",
   "execution_count": null,
   "id": "ea224dc1",
   "metadata": {},
   "outputs": [],
   "source": [
    "df_EHvsCombFungus = df1.copy()\n",
    "\n",
    "df_EHvsCombFungus = df_EHvsCombFungus[(df_EHvsCombFungus['Tratamiento'] != 'Control')]\n",
    "\n",
    "df_EHvsCombFungus['Tratamiento'] = df_EHvsCombFungus['Tratamiento'].apply(lambda x: 'Fungus_Combined' if x != 'E_Hidrico' else 'Hidric_Stress')\n",
    "\n",
    "print(df_EHvsCombFungus['Tratamiento'].value_counts())\n",
    "\n",
    "df_EHvsCombFungus.head()"
   ]
  },
  {
   "cell_type": "code",
   "execution_count": null,
   "id": "9100c8a9",
   "metadata": {},
   "outputs": [],
   "source": [
    "X = df_EHvsCombFungus.iloc[:, 3:].values\n",
    "y = df_EHvsCombFungus['Tratamiento'].values\n",
    "\n",
    "#split the data into training and testing sets\n",
    "X_train, X_test, y_train, y_test = train_test_split(X, y, test_size=0.2, random_state=42, stratify=y)"
   ]
  },
  {
   "cell_type": "markdown",
   "id": "b569d1d1",
   "metadata": {},
   "source": [
    "### Logistic Regression"
   ]
  },
  {
   "cell_type": "code",
   "execution_count": null,
   "id": "153ad049",
   "metadata": {},
   "outputs": [],
   "source": [
    "# Define a more comprehensive parameter grid for hyperparameter tuning\n",
    "param_grid = [\n",
    "    # L1 regularization options\n",
    "    {\n",
    "        'PCA__n_components': [5, 10, 15, 20, 30],\n",
    "        'model__penalty': ['l1'],\n",
    "        'model__C': [0.001, 0.01, 0.1, 1, 10, 100],\n",
    "        'model__solver': ['liblinear', 'saga'],\n",
    "        'model__class_weight': [None, 'balanced']\n",
    "    },\n",
    "    # L2 regularization options\n",
    "    {\n",
    "        'PCA__n_components': [5, 10, 15, 20, 30],\n",
    "        'model__penalty': ['l2'],\n",
    "        'model__C': [0.001, 0.01, 0.1, 1, 10, 100],\n",
    "        'model__solver': ['liblinear', 'saga', 'lbfgs'],\n",
    "        'model__class_weight': [None, 'balanced']\n",
    "    },\n",
    "    # Elasticnet option (saga only)\n",
    "    {\n",
    "        'PCA__n_components': [5, 10, 15, 20, 30],\n",
    "        'model__penalty': ['elasticnet'],\n",
    "        'model__C': [0.001, 0.01, 0.1, 1, 10, 100],\n",
    "        'model__solver': ['saga'],\n",
    "        'model__l1_ratio': [0.2, 0.5, 0.8],\n",
    "        'model__class_weight': [None, 'balanced']\n",
    "    }\n",
    "]\n",
    "\n",
    "# Create a pipeline\n",
    "pipeline = Pipeline([\n",
    "    ('PCA', PCA()),\n",
    "    ('model', LogisticRegression(max_iter=1000))\n",
    "])\n",
    "\n",
    "grid_search = GridSearchCV(pipeline, param_grid, cv=5, n_jobs=-1, scoring='accuracy')\n",
    "grid_search.fit(X_train, y_train)\n",
    "\n",
    "best_model = grid_search.best_estimator_\n",
    "# Make predictions with the best model\n",
    "y_pred_best = best_model.predict(X_test)\n",
    "# Evaluate the best model\n",
    "print(\"Best Model Accuracy:\", accuracy_score(y_test, y_pred_best))\n",
    "print(\"Best Model Classification Report:\\n\", classification_report(y_test, y_pred_best))"
   ]
  },
  {
   "cell_type": "code",
   "execution_count": null,
   "id": "cee8c47f",
   "metadata": {},
   "outputs": [],
   "source": [
    "# Parameter for the best model found\n",
    "best_params = grid_search.best_params_\n",
    "print(\"Best Parameters:\", best_params)"
   ]
  },
  {
   "cell_type": "code",
   "execution_count": null,
   "id": "703a81c7",
   "metadata": {},
   "outputs": [],
   "source": [
    "cm = confusion_matrix(y_test, y_pred_best)\n",
    "disp = ConfusionMatrixDisplay(confusion_matrix=cm, display_labels=best_model.classes_)\n",
    "# Display the confusion matrix\n",
    "disp.plot(cmap='Blues')\n",
    "plt.title(f'Confusion Matrix - Logistic Regression with PCA - accuracy: {accuracy_score(y_test, y_pred_best):.4f}')\n",
    "plt.tight_layout()\n",
    "plt.show()"
   ]
  },
  {
   "cell_type": "markdown",
   "id": "35addea3",
   "metadata": {},
   "source": [
    "## Classification of Unhealthy plants: Hidric Stress vs specific fungal diseases"
   ]
  },
  {
   "cell_type": "markdown",
   "id": "fc9535ea",
   "metadata": {},
   "source": [
    "### Data Processing"
   ]
  },
  {
   "cell_type": "code",
   "execution_count": null,
   "id": "2944b036",
   "metadata": {},
   "outputs": [],
   "source": [
    "df_EHvsFD = df1.copy()\n",
    "\n",
    "df_EHvsFD = df_EHvsFD[(df_EHvsFD['Tratamiento'] == 'Fusarium') | \n",
    "                      (df_EHvsFD['Tratamiento'] == 'E_Hidrico') | \n",
    "                      (df_EHvsFD['Tratamiento'] == 'Ralstonia')]  \n",
    "\n",
    "df_EHvsFD['Tratamiento'] = df_EHvsFD['Tratamiento'].apply(lambda x: 'Fungus_Disease' if x == 'Fusarium' or x == 'Ralstonia' else 'Hydric_Stress')\n",
    "\n",
    "print(df_EHvsFD['Tratamiento'].unique())\n",
    "\n",
    "X = df_EHvsFD.iloc[:, 3:].values\n",
    "y = df_EHvsFD['Tratamiento'].values\n",
    "\n",
    "#split the data into training and testing sets\n",
    "X_train, X_test, y_train, y_test = train_test_split(X, y, test_size=0.2, random_state=42, stratify=y)"
   ]
  },
  {
   "cell_type": "markdown",
   "id": "be8ecbd7",
   "metadata": {},
   "source": [
    "### Logistic Regression"
   ]
  },
  {
   "cell_type": "code",
   "execution_count": null,
   "id": "961eb8c3",
   "metadata": {},
   "outputs": [],
   "source": [
    "# Define a more comprehensive parameter grid for hyperparameter tuning\n",
    "param_grid = [\n",
    "    # L1 regularization options\n",
    "    {\n",
    "        'PCA__n_components': [5, 10, 15, 20, 30],\n",
    "        'model__penalty': ['l1'],\n",
    "        'model__C': [0.001, 0.01, 0.1, 1, 10, 100],\n",
    "        'model__solver': ['liblinear', 'saga'],\n",
    "        'model__class_weight': [None, 'balanced']\n",
    "    },\n",
    "    # L2 regularization options\n",
    "    {\n",
    "        'PCA__n_components': [5, 10, 15, 20, 30],\n",
    "        'model__penalty': ['l2'],\n",
    "        'model__C': [0.001, 0.01, 0.1, 1, 10, 100],\n",
    "        'model__solver': ['liblinear', 'saga', 'lbfgs'],\n",
    "        'model__class_weight': [None, 'balanced']\n",
    "    },\n",
    "    # Elasticnet option (saga only)\n",
    "    {\n",
    "        'PCA__n_components': [5, 10, 15, 20, 30],\n",
    "        'model__penalty': ['elasticnet'],\n",
    "        'model__C': [0.001, 0.01, 0.1, 1, 10, 100],\n",
    "        'model__solver': ['saga'],\n",
    "        'model__l1_ratio': [0.2, 0.5, 0.8],\n",
    "        'model__class_weight': [None, 'balanced']\n",
    "    }\n",
    "]\n",
    "\n",
    "# Create a pipeline\n",
    "pipeline = Pipeline([\n",
    "    ('PCA', PCA()),\n",
    "    ('model', LogisticRegression(max_iter=1000))\n",
    "])\n",
    "\n",
    "grid_search = GridSearchCV(pipeline, param_grid, cv=5, n_jobs=-1, scoring='accuracy')\n",
    "grid_search.fit(X_train, y_train)\n",
    "\n",
    "best_model = grid_search.best_estimator_\n",
    "# Make predictions with the best model\n",
    "y_pred_best = best_model.predict(X_test)\n",
    "# Evaluate the best model\n",
    "print(\"Best Model Accuracy:\", accuracy_score(y_test, y_pred_best))\n",
    "print(\"Best Model Classification Report:\\n\", classification_report(y_test, y_pred_best))"
   ]
  },
  {
   "cell_type": "code",
   "execution_count": null,
   "id": "fa2a8e4b",
   "metadata": {},
   "outputs": [],
   "source": [
    "# Parameter for the best model found\n",
    "best_params = grid_search.best_params_\n",
    "print(\"Best Parameters:\", best_params)"
   ]
  },
  {
   "cell_type": "code",
   "execution_count": null,
   "id": "db167e07",
   "metadata": {},
   "outputs": [],
   "source": [
    "cm = confusion_matrix(y_test, y_pred_best)\n",
    "disp = ConfusionMatrixDisplay(confusion_matrix=cm, display_labels=best_model.classes_)\n",
    "# Display the confusion matrix\n",
    "disp.plot(cmap='Blues')\n",
    "plt.title(f'Confusion Matrix - Logistic Regression with PCA - accuracy: {accuracy_score(y_test, y_pred_best):.4f}')\n",
    "plt.tight_layout()\n",
    "plt.show()"
   ]
  },
  {
   "cell_type": "markdown",
   "id": "c6ae3887",
   "metadata": {},
   "source": [
    "## Classification of Unhealthy plants: Ralstonia vs Fusarium"
   ]
  },
  {
   "cell_type": "markdown",
   "id": "930df4d4",
   "metadata": {},
   "source": [
    "#### Data processing for classification"
   ]
  },
  {
   "cell_type": "code",
   "execution_count": null,
   "id": "62ddc99d",
   "metadata": {},
   "outputs": [],
   "source": [
    "\n",
    "df_DiseaseType = df1.copy()\n",
    "\n",
    "# Lets filter only unhealthy plants\n",
    "df_DiseaseType = df_DiseaseType[(df_DiseaseType['Tratamiento'] == 'Ralstonia') | (df_DiseaseType['Tratamiento'] == 'Fusarium')]\n",
    "\n",
    "print(df_DiseaseType['Tratamiento'].value_counts())\n",
    "df_DiseaseType.head()"
   ]
  },
  {
   "cell_type": "code",
   "execution_count": null,
   "id": "a9d38d4b",
   "metadata": {},
   "outputs": [],
   "source": [
    "# data treatment\n",
    "\n",
    "# Data preparation for model production\n",
    "X = df_DiseaseType.iloc[:, 3:].values\n",
    "\n",
    "y = df_DiseaseType['Tratamiento'].values\n",
    "\n",
    "#split the data into training and testing sets\n",
    "X_train, X_test, y_train, y_test = train_test_split(X, y, test_size=0.2, random_state=42, stratify=y)"
   ]
  },
  {
   "cell_type": "markdown",
   "id": "53fac822",
   "metadata": {},
   "source": [
    "### Logistic Regression"
   ]
  },
  {
   "cell_type": "code",
   "execution_count": null,
   "id": "a5986ba0",
   "metadata": {},
   "outputs": [],
   "source": [
    "# Define a more comprehensive parameter grid for hyperparameter tuning\n",
    "param_grid = [\n",
    "    # L1 regularization options\n",
    "    {\n",
    "        'PCA__n_components': [5, 10, 15, 20, 30],\n",
    "        'model__penalty': ['l1'],\n",
    "        'model__C': [0.001, 0.01, 0.1, 1, 10, 100],\n",
    "        'model__solver': ['liblinear', 'saga'],\n",
    "        'model__class_weight': [None, 'balanced']\n",
    "    },\n",
    "    # L2 regularization options\n",
    "    {\n",
    "        'PCA__n_components': [5, 10, 15, 20, 30],\n",
    "        'model__penalty': ['l2'],\n",
    "        'model__C': [0.001, 0.01, 0.1, 1, 10, 100],\n",
    "        'model__solver': ['liblinear', 'saga', 'lbfgs'],\n",
    "        'model__class_weight': [None, 'balanced']\n",
    "    },\n",
    "    # Elasticnet option (saga only)\n",
    "    {\n",
    "        'PCA__n_components': [5, 10, 15, 20, 30],\n",
    "        'model__penalty': ['elasticnet'],\n",
    "        'model__C': [0.001, 0.01, 0.1, 1, 10, 100],\n",
    "        'model__solver': ['saga'],\n",
    "        'model__l1_ratio': [0.2, 0.5, 0.8],\n",
    "        'model__class_weight': [None, 'balanced']\n",
    "    }\n",
    "]\n",
    "\n",
    "# Create a pipeline\n",
    "pipeline = Pipeline([\n",
    "    ('PCA', PCA()),\n",
    "    ('model', LogisticRegression(max_iter=1000))\n",
    "])\n",
    "\n",
    "grid_search = GridSearchCV(pipeline, param_grid, cv=5, n_jobs=-1, scoring='accuracy')\n",
    "grid_search.fit(X_train, y_train)\n",
    "\n",
    "best_model = grid_search.best_estimator_\n",
    "# Make predictions with the best model\n",
    "y_pred_best = best_model.predict(X_test)\n",
    "# Evaluate the best model\n",
    "print(\"Best Model Accuracy:\", accuracy_score(y_test, y_pred_best))\n",
    "print(\"Best Model Classification Report:\\n\", classification_report(y_test, y_pred_best))\n"
   ]
  },
  {
   "cell_type": "code",
   "execution_count": null,
   "id": "c6f560a0",
   "metadata": {},
   "outputs": [],
   "source": [
    "# Parameter for the best model found\n",
    "best_params = grid_search.best_params_\n",
    "print(\"Best Parameters:\", best_params)"
   ]
  },
  {
   "cell_type": "code",
   "execution_count": null,
   "id": "8baad181",
   "metadata": {},
   "outputs": [],
   "source": [
    "cm = confusion_matrix(y_test, y_pred_best)\n",
    "disp = ConfusionMatrixDisplay(confusion_matrix=cm, display_labels=best_model.classes_)\n",
    "# Display the confusion matrix\n",
    "disp.plot(cmap='Blues')\n",
    "plt.title(f'Confusion Matrix - Logistic Regression with PCA - accuracy: {accuracy_score(y_test, y_pred_best):.4f}')\n",
    "plt.tight_layout()\n",
    "plt.show()"
   ]
  }
 ],
 "metadata": {
  "kernelspec": {
   "display_name": "Python 3",
   "language": "python",
   "name": "python3"
  },
  "language_info": {
   "codemirror_mode": {
    "name": "ipython",
    "version": 3
   },
   "file_extension": ".py",
   "mimetype": "text/x-python",
   "name": "python",
   "nbconvert_exporter": "python",
   "pygments_lexer": "ipython3",
   "version": "3.13.7"
  }
 },
 "nbformat": 4,
 "nbformat_minor": 5
}
